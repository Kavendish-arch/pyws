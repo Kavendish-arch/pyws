{
 "cells": [
  {
   "cell_type": "code",
   "execution_count": 24,
   "metadata": {
    "collapsed": true,
    "pycharm": {
     "is_executing": false,
     "name": "#%%\n"
    }
   },
   "outputs": [
    {
     "name": "stdout",
     "text": [
      "<class 'pymongo.collection.Collection'>\n<pymongo.cursor.Cursor object at 0x000001CED8AC8A88>\n"
     ],
     "output_type": "stream"
    }
   ],
   "source": [
    "import pymongo\n",
    "ip_db = '192.168.0.32'\n",
    "port_db = 6379\n",
    "db_pass = '1234'\n",
    "user = 'root'\n",
    "pwd = 'root'\n",
    "uri = \"mongodb://{0}:{1}@{2}:27017/admin\".format(user, pwd, ip_db)\n",
    "\n",
    "# 权限问题\n",
    "\n",
    "coon = pymongo.MongoClient(uri)\n",
    "db = coon['admin']\n",
    "print(type(db['movies']))\n",
    "print(db['movies'].find({'id':2}))"
   ]
  },
  {
   "cell_type": "code",
   "execution_count": 25,
   "outputs": [
    {
     "name": "stdout",
     "text": [
      "True\n"
     ],
     "output_type": "stream"
    },
    {
     "name": "stderr",
     "text": [
      "D:\\ProgramData\\Anaconda3\\lib\\site-packages\\ipykernel_launcher.py:7: DeprecationWarning: insert is deprecated. Use insert_one or insert_many instead.\n  import sys\n"
     ],
     "output_type": "stream"
    }
   ],
   "source": [
    "from item import tool\n",
    "import os \n",
    "file_path = \"..\\\\item\\\\bigdata\\\\movies.csv\" \n",
    "print(os.path.exists(file_path))\n",
    "j = 0\n",
    "for i in tool.load_file(file_path):\n",
    "    db['movies'].insert({'id':i[0], 'movie':i[1], 'staff':i[2].split('|')})\n",
    "    j+=1\n",
    "    if j > 50:\n",
    "        break\n",
    "    \n",
    "\n"
   ],
   "metadata": {
    "collapsed": false,
    "pycharm": {
     "name": "#%%\n",
     "is_executing": false
    }
   }
  },
  {
   "cell_type": "code",
   "execution_count": null,
   "outputs": [],
   "source": [
    "db = db['movies']\n",
    "db.insert()\n",
    "\n"
   ],
   "metadata": {
    "collapsed": false,
    "pycharm": {
     "name": "#%%\n"
    }
   }
  }
 ],
 "metadata": {
  "kernelspec": {
   "display_name": "Python 3",
   "language": "python",
   "name": "python3"
  },
  "language_info": {
   "codemirror_mode": {
    "name": "ipython",
    "version": 2
   },
   "file_extension": ".py",
   "mimetype": "text/x-python",
   "name": "python",
   "nbconvert_exporter": "python",
   "pygments_lexer": "ipython2",
   "version": "2.7.6"
  },
  "pycharm": {
   "stem_cell": {
    "cell_type": "raw",
    "source": [],
    "metadata": {
     "collapsed": false
    }
   }
  }
 },
 "nbformat": 4,
 "nbformat_minor": 0
}