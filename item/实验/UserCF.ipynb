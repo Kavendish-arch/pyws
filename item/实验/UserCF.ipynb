{
 "cells": [
  {
   "cell_type": "code",
   "execution_count": 6,
   "metadata": {
    "collapsed": true
   },
   "outputs": [],
   "source": [
    "# 基于用户的协同过滤推荐算法\n",
    "import os\n",
    "import random\n",
    "import math\n",
    "from operator import itemgetter\n",
    "import shelve\n",
    "from contextlib import closing\n",
    "import pandas as pd\n",
    "import numpy as np\n",
    "from datetime import datetime\n",
    "import glob"
   ]
  },
  {
   "cell_type": "code",
   "execution_count": null,
   "metadata": {
    "collapsed": true
   },
   "outputs": [],
   "source": [
    "n_sim_user = 20\n",
    "n_rec_movie = 10\n",
    "\n",
    "trainSet = {}\n",
    "testSet = {}\n",
    "    \n",
    "user_sim_matrix = {}\n",
    "movie_count = 0"
   ]
  },
  {
   "cell_type": "code",
   "execution_count": 3,
   "metadata": {
    "collapsed": true
   },
   "outputs": [
    {
     "output_type": "execute_result",
     "data": {
      "text/plain": [
       "        userId  movieId  rating   timestamp\n",
       "0            1        1     4.0   964982703\n",
       "1            1        3     4.0   964981247\n",
       "2            1        6     4.0   964982224\n",
       "3            1       47     5.0   964983815\n",
       "4            1       50     5.0   964982931\n",
       "5            1       70     3.0   964982400\n",
       "6            1      101     5.0   964980868\n",
       "7            1      110     4.0   964982176\n",
       "8            1      151     5.0   964984041\n",
       "9            1      157     5.0   964984100\n",
       "10           1      163     5.0   964983650\n",
       "11           1      216     5.0   964981208\n",
       "12           1      223     3.0   964980985\n",
       "13           1      231     5.0   964981179\n",
       "14           1      235     4.0   964980908\n",
       "15           1      260     5.0   964981680\n",
       "16           1      296     3.0   964982967\n",
       "17           1      316     3.0   964982310\n",
       "18           1      333     5.0   964981179\n",
       "19           1      349     4.0   964982563\n",
       "20           1      356     4.0   964980962\n",
       "21           1      362     5.0   964982588\n",
       "22           1      367     4.0   964981710\n",
       "23           1      423     3.0   964982363\n",
       "24           1      441     4.0   964980868\n",
       "25           1      457     5.0   964981909\n",
       "26           1      480     4.0   964982346\n",
       "27           1      500     3.0   964981208\n",
       "28           1      527     5.0   964984002\n",
       "29           1      543     4.0   964981179\n",
       "...        ...      ...     ...         ...\n",
       "100806     610   150401     3.0  1479543210\n",
       "100807     610   152077     4.0  1493845817\n",
       "100808     610   152081     4.0  1493846503\n",
       "100809     610   152372     3.5  1493848841\n",
       "100810     610   155064     3.5  1493848456\n",
       "100811     610   156371     5.0  1479542831\n",
       "100812     610   156726     4.5  1493848444\n",
       "100813     610   157296     4.0  1493846563\n",
       "100814     610   158238     5.0  1479545219\n",
       "100815     610   158721     3.5  1479542491\n",
       "100816     610   158872     3.5  1493848024\n",
       "100817     610   158956     3.0  1493848947\n",
       "100818     610   159093     3.0  1493847704\n",
       "100819     610   160080     3.0  1493848031\n",
       "100820     610   160341     2.5  1479545749\n",
       "100821     610   160527     4.5  1479544998\n",
       "100822     610   160571     3.0  1493848537\n",
       "100823     610   160836     3.0  1493844794\n",
       "100824     610   161582     4.0  1493847759\n",
       "100825     610   161634     4.0  1493848362\n",
       "100826     610   162350     3.5  1493849971\n",
       "100827     610   163937     3.5  1493848789\n",
       "100828     610   163981     3.5  1493850155\n",
       "100829     610   164179     5.0  1493845631\n",
       "100830     610   166528     4.0  1493879365\n",
       "100831     610   166534     4.0  1493848402\n",
       "100832     610   168248     5.0  1493850091\n",
       "100833     610   168250     5.0  1494273047\n",
       "100834     610   168252     5.0  1493846352\n",
       "100835     610   170875     3.0  1493846415\n",
       "\n",
       "[100836 rows x 4 columns]"
      ],
      "text/html": "<div>\n<style>\n    .dataframe thead tr:only-child th {\n        text-align: right;\n    }\n\n    .dataframe thead th {\n        text-align: left;\n    }\n\n    .dataframe tbody tr th {\n        vertical-align: top;\n    }\n</style>\n<table border=\"1\" class=\"dataframe\">\n  <thead>\n    <tr style=\"text-align: right;\">\n      <th></th>\n      <th>userId</th>\n      <th>movieId</th>\n      <th>rating</th>\n      <th>timestamp</th>\n    </tr>\n  </thead>\n  <tbody>\n    <tr>\n      <th>0</th>\n      <td>1</td>\n      <td>1</td>\n      <td>4.0</td>\n      <td>964982703</td>\n    </tr>\n    <tr>\n      <th>1</th>\n      <td>1</td>\n      <td>3</td>\n      <td>4.0</td>\n      <td>964981247</td>\n    </tr>\n    <tr>\n      <th>2</th>\n      <td>1</td>\n      <td>6</td>\n      <td>4.0</td>\n      <td>964982224</td>\n    </tr>\n    <tr>\n      <th>3</th>\n      <td>1</td>\n      <td>47</td>\n      <td>5.0</td>\n      <td>964983815</td>\n    </tr>\n    <tr>\n      <th>4</th>\n      <td>1</td>\n      <td>50</td>\n      <td>5.0</td>\n      <td>964982931</td>\n    </tr>\n    <tr>\n      <th>5</th>\n      <td>1</td>\n      <td>70</td>\n      <td>3.0</td>\n      <td>964982400</td>\n    </tr>\n    <tr>\n      <th>6</th>\n      <td>1</td>\n      <td>101</td>\n      <td>5.0</td>\n      <td>964980868</td>\n    </tr>\n    <tr>\n      <th>7</th>\n      <td>1</td>\n      <td>110</td>\n      <td>4.0</td>\n      <td>964982176</td>\n    </tr>\n    <tr>\n      <th>8</th>\n      <td>1</td>\n      <td>151</td>\n      <td>5.0</td>\n      <td>964984041</td>\n    </tr>\n    <tr>\n      <th>9</th>\n      <td>1</td>\n      <td>157</td>\n      <td>5.0</td>\n      <td>964984100</td>\n    </tr>\n    <tr>\n      <th>10</th>\n      <td>1</td>\n      <td>163</td>\n      <td>5.0</td>\n      <td>964983650</td>\n    </tr>\n    <tr>\n      <th>11</th>\n      <td>1</td>\n      <td>216</td>\n      <td>5.0</td>\n      <td>964981208</td>\n    </tr>\n    <tr>\n      <th>12</th>\n      <td>1</td>\n      <td>223</td>\n      <td>3.0</td>\n      <td>964980985</td>\n    </tr>\n    <tr>\n      <th>13</th>\n      <td>1</td>\n      <td>231</td>\n      <td>5.0</td>\n      <td>964981179</td>\n    </tr>\n    <tr>\n      <th>14</th>\n      <td>1</td>\n      <td>235</td>\n      <td>4.0</td>\n      <td>964980908</td>\n    </tr>\n    <tr>\n      <th>15</th>\n      <td>1</td>\n      <td>260</td>\n      <td>5.0</td>\n      <td>964981680</td>\n    </tr>\n    <tr>\n      <th>16</th>\n      <td>1</td>\n      <td>296</td>\n      <td>3.0</td>\n      <td>964982967</td>\n    </tr>\n    <tr>\n      <th>17</th>\n      <td>1</td>\n      <td>316</td>\n      <td>3.0</td>\n      <td>964982310</td>\n    </tr>\n    <tr>\n      <th>18</th>\n      <td>1</td>\n      <td>333</td>\n      <td>5.0</td>\n      <td>964981179</td>\n    </tr>\n    <tr>\n      <th>19</th>\n      <td>1</td>\n      <td>349</td>\n      <td>4.0</td>\n      <td>964982563</td>\n    </tr>\n    <tr>\n      <th>20</th>\n      <td>1</td>\n      <td>356</td>\n      <td>4.0</td>\n      <td>964980962</td>\n    </tr>\n    <tr>\n      <th>21</th>\n      <td>1</td>\n      <td>362</td>\n      <td>5.0</td>\n      <td>964982588</td>\n    </tr>\n    <tr>\n      <th>22</th>\n      <td>1</td>\n      <td>367</td>\n      <td>4.0</td>\n      <td>964981710</td>\n    </tr>\n    <tr>\n      <th>23</th>\n      <td>1</td>\n      <td>423</td>\n      <td>3.0</td>\n      <td>964982363</td>\n    </tr>\n    <tr>\n      <th>24</th>\n      <td>1</td>\n      <td>441</td>\n      <td>4.0</td>\n      <td>964980868</td>\n    </tr>\n    <tr>\n      <th>25</th>\n      <td>1</td>\n      <td>457</td>\n      <td>5.0</td>\n      <td>964981909</td>\n    </tr>\n    <tr>\n      <th>26</th>\n      <td>1</td>\n      <td>480</td>\n      <td>4.0</td>\n      <td>964982346</td>\n    </tr>\n    <tr>\n      <th>27</th>\n      <td>1</td>\n      <td>500</td>\n      <td>3.0</td>\n      <td>964981208</td>\n    </tr>\n    <tr>\n      <th>28</th>\n      <td>1</td>\n      <td>527</td>\n      <td>5.0</td>\n      <td>964984002</td>\n    </tr>\n    <tr>\n      <th>29</th>\n      <td>1</td>\n      <td>543</td>\n      <td>4.0</td>\n      <td>964981179</td>\n    </tr>\n    <tr>\n      <th>...</th>\n      <td>...</td>\n      <td>...</td>\n      <td>...</td>\n      <td>...</td>\n    </tr>\n    <tr>\n      <th>100806</th>\n      <td>610</td>\n      <td>150401</td>\n      <td>3.0</td>\n      <td>1479543210</td>\n    </tr>\n    <tr>\n      <th>100807</th>\n      <td>610</td>\n      <td>152077</td>\n      <td>4.0</td>\n      <td>1493845817</td>\n    </tr>\n    <tr>\n      <th>100808</th>\n      <td>610</td>\n      <td>152081</td>\n      <td>4.0</td>\n      <td>1493846503</td>\n    </tr>\n    <tr>\n      <th>100809</th>\n      <td>610</td>\n      <td>152372</td>\n      <td>3.5</td>\n      <td>1493848841</td>\n    </tr>\n    <tr>\n      <th>100810</th>\n      <td>610</td>\n      <td>155064</td>\n      <td>3.5</td>\n      <td>1493848456</td>\n    </tr>\n    <tr>\n      <th>100811</th>\n      <td>610</td>\n      <td>156371</td>\n      <td>5.0</td>\n      <td>1479542831</td>\n    </tr>\n    <tr>\n      <th>100812</th>\n      <td>610</td>\n      <td>156726</td>\n      <td>4.5</td>\n      <td>1493848444</td>\n    </tr>\n    <tr>\n      <th>100813</th>\n      <td>610</td>\n      <td>157296</td>\n      <td>4.0</td>\n      <td>1493846563</td>\n    </tr>\n    <tr>\n      <th>100814</th>\n      <td>610</td>\n      <td>158238</td>\n      <td>5.0</td>\n      <td>1479545219</td>\n    </tr>\n    <tr>\n      <th>100815</th>\n      <td>610</td>\n      <td>158721</td>\n      <td>3.5</td>\n      <td>1479542491</td>\n    </tr>\n    <tr>\n      <th>100816</th>\n      <td>610</td>\n      <td>158872</td>\n      <td>3.5</td>\n      <td>1493848024</td>\n    </tr>\n    <tr>\n      <th>100817</th>\n      <td>610</td>\n      <td>158956</td>\n      <td>3.0</td>\n      <td>1493848947</td>\n    </tr>\n    <tr>\n      <th>100818</th>\n      <td>610</td>\n      <td>159093</td>\n      <td>3.0</td>\n      <td>1493847704</td>\n    </tr>\n    <tr>\n      <th>100819</th>\n      <td>610</td>\n      <td>160080</td>\n      <td>3.0</td>\n      <td>1493848031</td>\n    </tr>\n    <tr>\n      <th>100820</th>\n      <td>610</td>\n      <td>160341</td>\n      <td>2.5</td>\n      <td>1479545749</td>\n    </tr>\n    <tr>\n      <th>100821</th>\n      <td>610</td>\n      <td>160527</td>\n      <td>4.5</td>\n      <td>1479544998</td>\n    </tr>\n    <tr>\n      <th>100822</th>\n      <td>610</td>\n      <td>160571</td>\n      <td>3.0</td>\n      <td>1493848537</td>\n    </tr>\n    <tr>\n      <th>100823</th>\n      <td>610</td>\n      <td>160836</td>\n      <td>3.0</td>\n      <td>1493844794</td>\n    </tr>\n    <tr>\n      <th>100824</th>\n      <td>610</td>\n      <td>161582</td>\n      <td>4.0</td>\n      <td>1493847759</td>\n    </tr>\n    <tr>\n      <th>100825</th>\n      <td>610</td>\n      <td>161634</td>\n      <td>4.0</td>\n      <td>1493848362</td>\n    </tr>\n    <tr>\n      <th>100826</th>\n      <td>610</td>\n      <td>162350</td>\n      <td>3.5</td>\n      <td>1493849971</td>\n    </tr>\n    <tr>\n      <th>100827</th>\n      <td>610</td>\n      <td>163937</td>\n      <td>3.5</td>\n      <td>1493848789</td>\n    </tr>\n    <tr>\n      <th>100828</th>\n      <td>610</td>\n      <td>163981</td>\n      <td>3.5</td>\n      <td>1493850155</td>\n    </tr>\n    <tr>\n      <th>100829</th>\n      <td>610</td>\n      <td>164179</td>\n      <td>5.0</td>\n      <td>1493845631</td>\n    </tr>\n    <tr>\n      <th>100830</th>\n      <td>610</td>\n      <td>166528</td>\n      <td>4.0</td>\n      <td>1493879365</td>\n    </tr>\n    <tr>\n      <th>100831</th>\n      <td>610</td>\n      <td>166534</td>\n      <td>4.0</td>\n      <td>1493848402</td>\n    </tr>\n    <tr>\n      <th>100832</th>\n      <td>610</td>\n      <td>168248</td>\n      <td>5.0</td>\n      <td>1493850091</td>\n    </tr>\n    <tr>\n      <th>100833</th>\n      <td>610</td>\n      <td>168250</td>\n      <td>5.0</td>\n      <td>1494273047</td>\n    </tr>\n    <tr>\n      <th>100834</th>\n      <td>610</td>\n      <td>168252</td>\n      <td>5.0</td>\n      <td>1493846352</td>\n    </tr>\n    <tr>\n      <th>100835</th>\n      <td>610</td>\n      <td>170875</td>\n      <td>3.0</td>\n      <td>1493846415</td>\n    </tr>\n  </tbody>\n</table>\n<p>100836 rows × 4 columns</p>\n</div>"
     },
     "metadata": {},
     "execution_count": 3
    }
   ],
   "source": [
    "# 读取文件\n",
    "path = r\"ratings.csv\"\n",
    "# glob.glob(path+'\\*.csv')\n",
    "\n",
    "def load_data_from_csv(path):\n",
    "    # 当用pd.read_csv( )出现 OSError: Initializing from file failed 问题时，一般是因为参数文件名或文件路径包含中文，\n",
    "    # 所以改为 fr = open(path) data = pd.read_csv(fr)\n",
    "    # 或者  pd.read_csv(path, engine='python')\n",
    "    if os.path.exists(path):\n",
    "        data = pd.read_csv(path, engine='python',header=0)\n",
    "#         with open (path) as f:\n",
    "#             data = pd.read_csv(f)\n",
    "    return data\n",
    "data = load_data_from_csv(path)\n",
    "# data = load_data_from_csv(path)\n",
    "data\n"
   ]
  },
  {
   "cell_type": "code",
   "execution_count": 4,
   "metadata": {},
   "outputs": [],
   "source": [
    "np.savez('ratings_csv_read.npz',data)"
   ]
  },
  {
   "cell_type": "code",
   "execution_count": 8,
   "metadata": {},
   "outputs": [
    {
     "output_type": "execute_result",
     "data": {
      "text/plain": [
       "array([[1.00000000e+00, 1.00000000e+00, 4.00000000e+00, 9.64982703e+08],\n",
       "       [1.00000000e+00, 3.00000000e+00, 4.00000000e+00, 9.64981247e+08],\n",
       "       [1.00000000e+00, 6.00000000e+00, 4.00000000e+00, 9.64982224e+08],\n",
       "       ...,\n",
       "       [6.10000000e+02, 1.68250000e+05, 5.00000000e+00, 1.49427305e+09],\n",
       "       [6.10000000e+02, 1.68252000e+05, 5.00000000e+00, 1.49384635e+09],\n",
       "       [6.10000000e+02, 1.70875000e+05, 3.00000000e+00, 1.49384642e+09]])"
      ]
     },
     "metadata": {},
     "execution_count": 8
    }
   ],
   "source": []
  },
  {
   "cell_type": "code",
   "execution_count": 5,
   "metadata": {},
   "outputs": [
    {
     "output_type": "execute_result",
     "data": {
      "text/plain": [
       "userId               1.0\n",
       "movieId              1.0\n",
       "rating               4.0\n",
       "timestamp    964982703.0\n",
       "Name: 0, dtype: float64"
      ]
     },
     "metadata": {},
     "execution_count": 5
    }
   ],
   "source": [
    "data.loc[0]"
   ]
  },
  {
   "cell_type": "code",
   "execution_count": null,
   "metadata": {},
   "outputs": [],
   "source": [
    "# data = np.load('ratings.npz')\n",
    "# df = data['arr_0']\n",
    "# # pd.DataFrame(df)\n",
    "# df[]\n",
    "(data.loc[0])"
   ]
  },
  {
   "cell_type": "code",
   "execution_count": 4,
   "metadata": {},
   "outputs": [],
   "source": [
    "# 原始方法 read file \n",
    "def load_file(filename):\n",
    "    with open(filename, 'r', encoding='utf-8') as f:\n",
    "        for i, line in enumerate(f):\n",
    "            if i == 0:\n",
    "                # 去掉文件第一行的title\n",
    "                continue\n",
    "            yield line.strip('\\r\\n')\n",
    "    print('Load %s success!' % filename)\n",
    "\n",
    "def get_dataset(filename, pivot=0.75):\n",
    "    trainSet = {}\n",
    "    testSet = {}\n",
    "    trainSet_len = 0\n",
    "    testSet_len = 0\n",
    "    # 加载文件， 按行读取\n",
    "    for line in load_file(filename):\n",
    "        # 读取列属性\n",
    "        user, movie, rating, timestamp = line.split(',')\n",
    "        user = int(user)\n",
    "        movie = int(movie)\n",
    "        rating = float(rating)\n",
    "        # 数据划分测试集合和数据集合 (0,1) < (0,pivot)\n",
    "        if random.random() < pivot:\n",
    "            trainSet.setdefault(user, {})\n",
    "            trainSet[user][movie] = rating\n",
    "            trainSet_len += 1\n",
    "        else:\n",
    "            testSet.setdefault(user, {})\n",
    "            testSet[user][movie] = rating\n",
    "            testSet_len += 1\n",
    "    print('Split trainingSet and testSet success!')\n",
    "    print('user - movie - matrix')\n",
    "    print('TrainSet = %s' % trainSet_len)\n",
    "    print('TestSet = %s' % testSet_len)\n",
    "    return trainSet, testSet\n"
   ]
  },
  {
   "cell_type": "code",
   "execution_count": 7,
   "metadata": {},
   "outputs": [
    {
     "output_type": "stream",
     "name": "stdout",
     "text": [
      "Load ratings.csv success!\nSplit trainingSet and testSet success!\nuser - movie - matrix\nTrainSet = 75699\nTestSet = 25137\n"
     ]
    }
   ],
   "source": [
    "path = r\"ratings.csv\"\n",
    "trainSet, testSet = get_dataset(path)"
   ]
  },
  {
   "source": [
    "数据处理 \n",
    "\n",
    "user movie \n"
   ],
   "cell_type": "markdown",
   "metadata": {}
  },
  {
   "cell_type": "code",
   "execution_count": 8,
   "metadata": {},
   "outputs": [
    {
     "output_type": "stream",
     "name": "stdout",
     "text": [
      "Total user number = 610\nTotal movie number = 8757\n"
     ]
    }
   ],
   "source": [
    "def count_user(trainSet):\n",
    "    # 统计电影被看的次数\n",
    "    movie_popular = {}\n",
    "    user_list = {}\n",
    "    for user, movies in trainSet.items():\n",
    "        if user not in user_list:\n",
    "            user_list.setdefault(user, 0)\n",
    "        for movie in movies:\n",
    "            if movie not in movie_popular:\n",
    "                movie_popular[movie] = 0\n",
    "            movie_popular[movie] += 1\n",
    "    \n",
    "    print(\"Total user number = %d\" % len(user_list))\n",
    "    print(\"Total movie number = %d\" % len(movie_popular))\n",
    "    return movie_popular, user_list\n",
    "\n",
    "movie_popular, user_list = count_user(trainSet)"
   ]
  },
  {
   "cell_type": "code",
   "execution_count": 9,
   "metadata": {},
   "outputs": [
    {
     "output_type": "execute_result",
     "data": {
      "text/plain": [
       "610"
      ]
     },
     "metadata": {},
     "execution_count": 9
    }
   ],
   "source": [
    "len(user_list)"
   ]
  },
  {
   "cell_type": "code",
   "execution_count": null,
   "metadata": {},
   "outputs": [],
   "source": [
    "def sim_movie(trainSet, movie_popular):\n",
    "    sim = tl.Similarity()\n",
    "    movie_sim_matrix = {}\n",
    "    i = 0\n",
    "    max = len(movie_popular)\n",
    "    # 遍历训练数据，获得用户对有过的行为的物品\n",
    "\n",
    "    movie_list = list(movie_popular.keys())\n",
    "\n",
    "    for i1 in range(0, len(movie_list)):\n",
    "        # 遍历该用户每件物品项\n",
    "        for i2 in range(i1, len(movie_list)):\n",
    "            # 遍历该用户每件物品项\n",
    "            \n",
    "            m1, m2 = movie_list[i1], movie_list[i2]\n",
    "\n",
    "            movie_sim_matrix.setdefault(m1, {})\n",
    "            movie_sim_matrix.setdefault(m2, {})\n",
    "            if m1 == m2:\n",
    "                movie_sim_matrix[m1].setdefault(m2,1)\n",
    "                continue \n",
    "                \n",
    "            u1 = trainSet.get(m1)\n",
    "            u2 = trainSet.get(m2)\n",
    "            \n",
    "            simi = sim.cosine_similarity(u1,u2)\n",
    "\n",
    "            movie_sim_matrix[m1].setdefault(m2, simi)\n",
    "            movie_sim_matrix[m2].setdefault(m1, simi)\n",
    "        i += 1\n",
    "        print(\"\\r{0}%\".format(round(i/max*100,4)), end='')\n",
    "        \n",
    "    print()\n",
    "    # movie and movie 矩阵\n",
    "    print(\"Build 同现矩阵co-rated users matrix success!\")\n",
    "    return movie_sim_matrix"
   ]
  },
  {
   "cell_type": "code",
   "execution_count": null,
   "metadata": {},
   "outputs": [],
   "source": [
    "path = r\"F:\\毕业设计\\ItemCF和UserCF协同过滤算法参考代码\\MovieRecommendation-master\\UserCF\" \n",
    "glob.glob(path+'\\*data*')\n",
    "from contextlib import closing\n",
    "import shelve\n",
    "\n",
    "def data_init(path):\n",
    "    #self.trainSet, self.testSet = load_data.get_dataset(path)\n",
    "    #  读取测试数据 \n",
    "    with closing(shelve.open(path,'r')) as shelf:\n",
    "        trainSet = shelf['train']\n",
    "        testSet = shelf['test']\n",
    "\n",
    "    print(\"train data\",len(trainSet),\"- test data\",len(testSet))\n",
    "    return trainSet, testSet\n",
    "trainSet, testSet = data_init(path+'\\\\time0data')\n"
   ]
  },
  {
   "cell_type": "code",
   "execution_count": null,
   "metadata": {},
   "outputs": [],
   "source": [
    "a = pd.Series(trainSet['1'])\n",
    "b = pd.Series(trainSet['2'])\n",
    "print(type(a),type(b))\n"
   ]
  },
  {
   "cell_type": "code",
   "execution_count": null,
   "metadata": {},
   "outputs": [],
   "source": [
    "pd.DataFrame(trainSet)"
   ]
  },
  {
   "cell_type": "code",
   "execution_count": null,
   "metadata": {},
   "outputs": [],
   "source": [
    "def sim_by_series(a,b):\n",
    "    mul_a_b = a.astype(np.float).mul(b.astype(np.float), fill_value=0).sum()\n",
    "    a2 = np.sqrt(np.sum(a.astype(np.float).mul(a.astype(np.float),fill_value=0)))\n",
    "    b2 = np.sqrt(np.sum(b.astype(np.float).mul(b.astype(np.float),fill_value=0)))\n",
    "    return mul_a_b / (a2 * b2)\n",
    "\n",
    "# 余弦相似度\n",
    "def cosine(x,y):\n",
    "    x = pd.Series(x)\n",
    "    y = pd.Series(y) \n",
    "    xy = x.astype(float).mul(y.astype(float), fill_value=0)\n",
    "    x = np.linalg.norm(x.values.astype(float),2)\n",
    "    y = np.linalg.norm(y.values.astype(float),2)\n",
    "    return xy.sum() / (x*y)\n",
    "\n",
    "\n",
    "cosine(trainSet.get('3'),trainSet.get('2'))\n"
   ]
  },
  {
   "cell_type": "code",
   "execution_count": null,
   "metadata": {},
   "outputs": [],
   "source": [
    "# 计算电影之间的相似度, 利用其他算法\n",
    "def calc_movie_sim_test(trainSet, func):\n",
    "    movie_sim_matrix = {}\n",
    "\n",
    "    for user1 in trainSet.keys():\n",
    "        movie_sim_matrix.setdefault(user1, {})\n",
    "        for user2 in trainSet.keys():\n",
    "            if user1 == user2:\n",
    "                movie_sim_matrix.get(user1).setdefault(user2, 1)\n",
    "            else:\n",
    "                movie_sim_matrix.get(user1).setdefault(user2, func(trainSet.get(user1), trainSet.get(user2)))\n",
    "    # movie{1,2}=sim\n",
    "    return  movie_sim_matrix\n"
   ]
  },
  {
   "cell_type": "code",
   "execution_count": null,
   "metadata": {},
   "outputs": [],
   "source": [
    "func = cosine\n",
    "pd.DataFrame(calc_movie_sim_test(trainSet, func))"
   ]
  },
  {
   "cell_type": "code",
   "execution_count": null,
   "metadata": {},
   "outputs": [],
   "source": [
    "sim_user = np.array(np.zeros((1000,1000)))\n",
    "\n",
    "for i in trainSet.keys():\n",
    "    a = pd.Series(trainSet[i])\n",
    "    for j in trainSet.keys():\n",
    "#         print(i,j)\n",
    "        b = pd.Series(trainSet[j])\n",
    "        sim_user[int(i),int(j)] = sim_by_series(a,b)\n",
    "        pass\n",
    "sim_user"
   ]
  },
  {
   "cell_type": "code",
   "execution_count": null,
   "metadata": {},
   "outputs": [],
   "source": [
    "pd.DataFrame(sim_user)"
   ]
  },
  {
   "cell_type": "code",
   "execution_count": null,
   "metadata": {},
   "outputs": [],
   "source": [
    "np.sum(mul_a_b) / (a2*b2)"
   ]
  },
  {
   "cell_type": "code",
   "execution_count": null,
   "metadata": {},
   "outputs": [],
   "source": [
    "sim_user = np.array(np.zeros((10,10)))\n",
    "print(sim_user)"
   ]
  },
  {
   "cell_type": "code",
   "execution_count": null,
   "metadata": {},
   "outputs": [],
   "source": [
    "import sys,time\n",
    "for i in range(100):\n",
    "    sys.stdout.write(‘\\r%s%%‘%(i+1))\n",
    "    sys.stdout.flush()\n",
    "    time.sleep(0.1)"
   ]
  }
 ],
 "metadata": {
  "kernelspec": {
   "name": "python362jvsc74a57bd0c68fb794aad12bd82f7abc6229177b707cb4fe0fead52f40f954c06bbfa18d56",
   "display_name": "Python 3.6.2 64-bit ('newpy3': conda)"
  },
  "language_info": {
   "codemirror_mode": {
    "name": "ipython",
    "version": 3
   },
   "file_extension": ".py",
   "mimetype": "text/x-python",
   "name": "python",
   "nbconvert_exporter": "python",
   "pygments_lexer": "ipython3",
   "version": "3.6.2"
  }
 },
 "nbformat": 4,
 "nbformat_minor": 2
}