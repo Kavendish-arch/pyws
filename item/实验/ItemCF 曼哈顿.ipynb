{
 "cells": [
  {
   "cell_type": "code",
   "execution_count": 15,
   "metadata": {},
   "outputs": [],
   "source": [
    "# 基于项目的协同过滤推荐算法实现 曼哈顿距离公式\n",
    "import os\n",
    "import random\n",
    "import math\n",
    "from operator import itemgetter\n",
    "import shelve\n",
    "from contextlib import closing\n",
    "import pandas as pd\n",
    "import numpy as np\n",
    "from datetime import datetime\n",
    "import tool as tl "
   ]
  },
  {
   "cell_type": "code",
   "execution_count": 6,
   "metadata": {},
   "outputs": [],
   "source": [
    "# read file \n",
    "def load_file(filename):\n",
    "    with open(filename, 'r', encoding='utf-8') as f:\n",
    "        for i, line in enumerate(f):\n",
    "            if i == 0:\n",
    "                # 去掉文件第一行的title\n",
    "                continue\n",
    "            yield line.strip('\\r\\n')\n",
    "    print('Load %s success!' % filename)\n",
    "\n",
    "def get_dataset(filename, pivot=0.75):\n",
    "    trainSet = {}\n",
    "    testSet = {}\n",
    "    movie_user = {}\n",
    "    \n",
    "    trainSet_len = 0\n",
    "    testSet_len = 0\n",
    "    # 加载文件， 按行读取\n",
    "    for line in load_file(filename):\n",
    "        # 读取列属性\n",
    "        user, movie, rating, _ = line.split(',')\n",
    "        user = int(user)\n",
    "        movie = int(movie)\n",
    "        rating = float(rating)\n",
    "        # 数据划分测试集合和数据集合 (0,1) < (0,pivot)\n",
    "        if random.random() < pivot:\n",
    "            trainSet.setdefault(user, {})\n",
    "            trainSet[user][movie] = rating\n",
    "            movie_user.setdefault(movie, {})\n",
    "            movie_user[movie].setdefault(user,rating)\n",
    "\n",
    "        else:\n",
    "            testSet.setdefault(user, {})\n",
    "            testSet[user][movie] = rating\n",
    "\n",
    "    trainSet_len = len(trainSet)\n",
    "    testSet_len = len(testSet)\n",
    "    print('Split trainingSet and testSet success!')\n",
    "    print('movie - user - matrix')\n",
    "    print('TrainSet = %s' % trainSet_len)\n",
    "    print('TestSet = %s' % testSet_len)\n",
    "    return trainSet, testSet"
   ]
  },
  {
   "cell_type": "code",
   "execution_count": 7,
   "metadata": {},
   "outputs": [
    {
     "output_type": "stream",
     "name": "stdout",
     "text": [
      "Load ratings.csv success!\nSplit trainingSet and testSet success!\nmovie - user - matrix\nTrainSet = 75485\nTestSet = 25351\n"
     ]
    }
   ],
   "source": [
    "# 读取数据集合\n",
    "path = 'ratings.csv'\n",
    "os.path.exists(path)\n",
    "trainSet, testSet = get_dataset(path)"
   ]
  },
  {
   "source": [
    "数据处理：\n",
    "\n",
    "movie - user \n"
   ],
   "cell_type": "markdown",
   "metadata": {}
  },
  {
   "cell_type": "code",
   "execution_count": 8,
   "metadata": {},
   "outputs": [
    {
     "output_type": "stream",
     "name": "stdout",
     "text": [
      "Total user number = 610\nTotal movie number = 8789\n"
     ]
    }
   ],
   "source": [
    "def count_user(trainSet):\n",
    "    # 统计电影被看的次数\n",
    "    movie_popular = {}\n",
    "    user_list = {}\n",
    "    for movie, users in trainSet.items():\n",
    "        if movie not in movie_popular:\n",
    "            movie_popular.setdefault(movie, 0)\n",
    "        for user in users:\n",
    "            if user not in user_list:\n",
    "                user_list[user] = 0\n",
    "            user_list[user] += 1\n",
    "\n",
    "    print(\"Total user number = %d\" % len(user_list))\n",
    "    print(\"Total movie number = %d\" % len(movie_popular))\n",
    "    return movie_popular, user_list\n",
    "\n",
    "movie_popular, user_list = count_user(trainSet)"
   ]
  },
  {
   "cell_type": "code",
   "execution_count": 1,
   "metadata": {},
   "outputs": [],
   "source": [
    "a = 0"
   ]
  },
  {
   "cell_type": "code",
   "execution_count": 9,
   "metadata": {},
   "outputs": [],
   "source": [
    "def users_all(trainSet, user_list):\n",
    "    new_train = {}\n",
    "    for movie, users in trainSet.items():\n",
    "        new_user = []\n",
    "        for i in user_list.keys():\n",
    "            new_user.append(users.get(i,0))\n",
    "        new_train.setdefault(movie, new_user)\n",
    "    return new_train\n",
    "new_trainSet = users_all(trainSet, user_list)"
   ]
  },
  {
   "cell_type": "code",
   "execution_count": null,
   "metadata": {
    "tags": []
   },
   "outputs": [],
   "source": [
    "# 评分\n",
    "# a = new_trainSet.get(1)\n",
    "# b = new_trainSet.get(2)\n",
    "\n",
    "a = trainSet.get(1).keys()\n",
    "b = trainSet.get(2).keys()\n",
    "c = set.intersection(set(a), set(b))"
   ]
  },
  {
   "cell_type": "code",
   "execution_count": 20,
   "metadata": {},
   "outputs": [],
   "source": [
    "movie_sim_matrix = {}\n",
    "for i in movie_popular.keys():\n",
    "    movie_popular.setdefault(i, {})\n",
    "    for j in movie_popular.keys():\n",
    "        movie_popular[i].setdefault(j,0)\n",
    "\n",
    "\n",
    "def sim_movie(trainSet, movie_popular):\n",
    "    sim = tl.Similarity()\n",
    "    movie_sim_matrix = {}\n",
    "    i,max = 0, len(movie_popular)\n",
    "    # 遍历训练数据，获得用户对有过的行为的物品\n",
    "    for m1 in movie_popular.keys():\n",
    "        movie_sim_matrix.setdefault(m1, {})\n",
    "        # 遍历该用户每件物品项\n",
    "        for m2 in movie_popular.keys():\n",
    "            # 遍历该用户每件物品项\n",
    "            if m1 == m2:\n",
    "                movie_sim_matrix[m1].setdefault(m2, 1)\n",
    "                continue \n",
    "            # if m2 in movie_sim_matrix:\n",
    "                # movie_sim_matrix[m1][m2] = movie_sim_matrix[m2][m1]\n",
    "                # continue\n",
    "     \n",
    "            u1 = trainSet.get(m1)\n",
    "            u2 = trainSet.get(m2)\n",
    "            # simi = sim.cosine_similarity(u1,u2)\n",
    "            # movie_sim_matrix[m1].setdefault(m2, simi)\n",
    "\n",
    "        print(\"\\r{0}%\".format(round(i/max*100)), end='')\n",
    "        i += 1\n",
    "    print()\n",
    "    # movie and movie 矩阵\n",
    "    print(\"Build 同现矩阵co-rated users matrix success!\")\n",
    "    return movie_sim_matrix"
   ]
  },
  {
   "cell_type": "code",
   "execution_count": 31,
   "metadata": {},
   "outputs": [],
   "source": [
    "def init ():\n",
    "    movie_sim_matrix = {}\n",
    "    for i in movie_popular.keys():\n",
    "        movie_sim_matrix.setdefault(i, {})   \n",
    "        for j in movie_popular.keys():\n",
    "            if i == j:\n",
    "                continue\n",
    "            movie_sim_matrix[i].setdefault(j,0)\n",
    "        # print(\"\\r{0}%\".format(round(i/max*100)), end='')"
   ]
  },
  {
   "cell_type": "code",
   "execution_count": 33,
   "metadata": {},
   "outputs": [
    {
     "output_type": "stream",
     "name": "stdout",
     "text": [
      "         77255315 function calls in 30.079 seconds\n\n   Ordered by: standard name\n\n   ncalls  tottime  percall  cumtime  percall filename:lineno(function)\n        1   16.642   16.642   29.455   29.455 <ipython-input-31-4855f5bb5ffc>:1(init)\n        1    0.624    0.624   30.079   30.079 <string>:1(<module>)\n        1    0.000    0.000   30.079   30.079 {built-in method builtins.exec}\n        1    0.000    0.000    0.000    0.000 {method 'disable' of '_lsprof.Profiler' objects}\n     8790    0.008    0.000    0.008    0.000 {method 'keys' of 'dict' objects}\n 77246521   12.805    0.000   12.805    0.000 {method 'setdefault' of 'dict' objects}\n\n\n"
     ]
    }
   ],
   "source": [
    "import cProfile\n",
    "import time\n",
    "\n",
    "# cProfile.run('sim_movie(new_trainSet, movie_popular)')\n",
    "cProfile.run('init()')\n",
    "# ta = sim_movie(new_trainSet, movie_popular)"
   ]
  },
  {
   "cell_type": "code",
   "execution_count": 17,
   "metadata": {},
   "outputs": [
    {
     "output_type": "stream",
     "name": "stdout",
     "text": [
      "100%"
     ]
    }
   ],
   "source": [
    "import time\n",
    "for i in range(101):\n",
    "    print(\"\\r{0}%\".format(i), end='')\n",
    "    time.sleep(0.1)"
   ]
  },
  {
   "cell_type": "code",
   "execution_count": null,
   "metadata": {},
   "outputs": [],
   "source": [
    "movie_list = list(movie_popular.keys())\n",
    "\n",
    "# sorted(movie_list)\n",
    "# movie_list\n",
    "# len(movie_list)"
   ]
  },
  {
   "cell_type": "code",
   "execution_count": 34,
   "metadata": {},
   "outputs": [],
   "source": [
    "def sim_movie(trainSet, movie_popular):\n",
    "    sim = tl.Similarity()\n",
    "    movie_sim_matrix = {}\n",
    "    i = 0\n",
    "    max = len(movie_popular)\n",
    "    # 遍历训练数据，获得用户对有过的行为的物品\n",
    "\n",
    "    movie_list = list(movie_popular.keys())\n",
    "\n",
    "    for i1 in range(0, len(movie_list)):\n",
    "        # 遍历该用户每件物品项\n",
    "        for i2 in range(i1, len(movie_list)):\n",
    "            # 遍历该用户每件物品项\n",
    "            \n",
    "            m1, m2 = movie_list[i1], movie_list[i2]\n",
    "\n",
    "            movie_sim_matrix.setdefault(m1, {})\n",
    "            movie_sim_matrix.setdefault(m2, {})\n",
    "            if m1 == m2:\n",
    "                movie_sim_matrix[m1].setdefault(m2,1)\n",
    "                continue \n",
    "                \n",
    "            u1 = trainSet.get(m1)\n",
    "            u2 = trainSet.get(m2)\n",
    "            \n",
    "            simi = cosine_similarity(u1,u2)\n",
    "\n",
    "            movie_sim_matrix[m1].setdefault(m2, simi)\n",
    "            movie_sim_matrix[m2].setdefault(m1, simi)\n",
    "        i += 1\n",
    "        print(\"\\r{0}%\".format(round(i/max*100,4)), end='')\n",
    "        \n",
    "    print()\n",
    "    # movie and movie 矩阵\n",
    "    print(\"Build 同现矩阵co-rated users matrix success!\")\n",
    "    return movie_sim_matrix"
   ]
  },
  {
   "cell_type": "code",
   "execution_count": 12,
   "metadata": {},
   "outputs": [],
   "source": [
    "def cosine_similarity(u1,u2):\n",
    "    return 0"
   ]
  },
  {
   "cell_type": "code",
   "execution_count": 35,
   "metadata": {},
   "outputs": [
    {
     "output_type": "stream",
     "name": "stdout",
     "text": [
      "100.0%\n",
      "Build 同现矩阵co-rated users matrix success!\n",
      "         270607527 function calls in 113.228 seconds\n",
      "\n",
      "   Ordered by: standard name\n",
      "\n",
      "   ncalls  tottime  percall  cumtime  percall filename:lineno(function)\n",
      " 38618866    2.515    0.000    2.515    0.000 <ipython-input-12-f9dafbdb8c1d>:1(cosine_similarity)\n",
      "        1   56.888   56.888  112.576  112.576 <ipython-input-34-a53068693e8c>:1(sim_movie)\n",
      "        1    0.653    0.653  113.228  113.228 <string>:1(<module>)\n",
      "    18004    1.903    0.000    2.106    0.000 iostream.py:180(schedule)\n",
      "    17581    0.049    0.000    0.064    0.000 iostream.py:284(_is_master_process)\n",
      "    17581    0.009    0.000    0.024    0.000 iostream.py:297(_schedule_flush)\n",
      "    17581    0.107    0.000    2.294    0.000 iostream.py:342(write)\n",
      "    18004    0.031    0.000    0.031    0.000 iostream.py:87(_event_pipe)\n",
      "    18004    0.022    0.000    0.051    0.000 threading.py:1062(_wait_for_tstate_lock)\n",
      "    18004    0.051    0.000    0.110    0.000 threading.py:1104(is_alive)\n",
      "    18004    0.009    0.000    0.009    0.000 threading.py:506(is_set)\n",
      "        1    0.000    0.000  113.228  113.228 {built-in method builtins.exec}\n",
      "    17581    0.008    0.000    0.008    0.000 {built-in method builtins.isinstance}\n",
      "     8791    0.004    0.000    0.004    0.000 {built-in method builtins.len}\n",
      "     8791    0.093    0.000    2.387    0.000 {built-in method builtins.print}\n",
      "     8789    0.099    0.000    0.099    0.000 {built-in method builtins.round}\n",
      "    17581    0.016    0.000    0.016    0.000 {built-in method nt.getpid}\n",
      "    18004    0.062    0.000    0.062    0.000 {built-in method nt.urandom}\n",
      "    18004    0.029    0.000    0.029    0.000 {method 'acquire' of '_thread.lock' objects}\n",
      "        1    0.000    0.000    0.000    0.000 {method 'disable' of '_lsprof.Profiler' objects}\n",
      "     8789    0.065    0.000    0.065    0.000 {method 'format' of 'str' objects}\n",
      " 77237732   12.045    0.000   12.045    0.000 {method 'get' of 'dict' objects}\n",
      "        1    0.000    0.000    0.000    0.000 {method 'keys' of 'dict' objects}\n",
      "154501831   38.574    0.000   38.574    0.000 {method 'setdefault' of 'dict' objects}\n",
      "\n",
      "\n"
     ]
    }
   ],
   "source": [
    "import cProfile\n",
    "import time\n",
    "\n",
    "cProfile.run('sim_movie(new_trainSet, movie_popular)')\n",
    "# ta = sim_movie(new_trainSet, movie_popular)"
   ]
  },
  {
   "cell_type": "code",
   "execution_count": null,
   "metadata": {},
   "outputs": [],
   "source": []
  },
  {
   "cell_type": "code",
   "execution_count": null,
   "metadata": {},
   "outputs": [],
   "source": [
    "len(ta)"
   ]
  },
  {
   "cell_type": "code",
   "execution_count": null,
   "metadata": {},
   "outputs": [],
   "source": [
    "len(ta)"
   ]
  },
  {
   "cell_type": "code",
   "execution_count": null,
   "metadata": {},
   "outputs": [],
   "source": [
    "print(len(movie_popular) * )"
   ]
  },
  {
   "cell_type": "code",
   "execution_count": null,
   "metadata": {},
   "outputs": [],
   "source": [
    "2021-05-23 15:24:32.968673\n",
    "38416995\n",
    "Build 同现矩阵co-rated users matrix success!\n",
    "2021-05-23 15:24:36.308766 0:00:03.340093\n",
    "\n",
    "2021-05-23 15:25:03.519728\n",
    "76833990\n",
    "Build 同现矩阵co-rated users matrix success!\n",
    "2021-05-23 15:25:10.196791 0:00:06.677063"
   ]
  },
  {
   "source": [
    "##  余弦，计算相似度\n",
    "\n",
    "Total user number = 610\n",
    "Total movie number = 8766\n",
    "\n",
    "TrainSet = 75601\n",
    "TestSet = 25235"
   ],
   "cell_type": "markdown",
   "metadata": {}
  },
  {
   "cell_type": "code",
   "execution_count": null,
   "metadata": {
    "tags": []
   },
   "outputs": [],
   "source": [
    "a = datetime.now()\n",
    "print(a)\n",
    "movie_sim_matrix = sim_movie(new_trainSet, movie_popular)\n",
    "b = datetime.now()\n",
    "print(b, b - a)"
   ]
  },
  {
   "cell_type": "code",
   "execution_count": null,
   "metadata": {},
   "outputs": [],
   "source": [
    "pd.DataFrame(movie_sim_matrix)"
   ]
  },
  {
   "cell_type": "code",
   "execution_count": null,
   "metadata": {},
   "outputs": [],
   "source": [
    "print(movie_sim_matrix)"
   ]
  },
  {
   "cell_type": "code",
   "execution_count": null,
   "metadata": {},
   "outputs": [],
   "source": [
    "user1 = trainSet.get(1)\n",
    "user2 = trainSet.get(2)\n",
    "u1,u2 = [],[]\n",
    "for i in user_list:\n",
    "    u1.append(user1.get(i, 0))\n",
    "    u2.append(user2.get(i, 0))\n",
    "\n",
    "print('余弦相似度', )\n",
    "print('欧式距离', sim.eucledian_distance(u1,u2))\n",
    "print('曼哈顿距离', sim.manhattan_distance(u1,u2))\n",
    "print('闵可夫斯基距离', sim.minkowski_distance(u1,u2,1))\n",
    "print('切比雪夫距离', sim.chebyshev_distance(u1,u2))\n",
    "\n",
    "u11 = list(user1.keys())\n",
    "u22 = list(user2.keys())\n",
    "print('杰卡德系数', sim.jaccard_similarity(u11,u22))"
   ]
  },
  {
   "cell_type": "code",
   "execution_count": null,
   "metadata": {},
   "outputs": [],
   "source": []
  },
  {
   "cell_type": "code",
   "execution_count": null,
   "metadata": {},
   "outputs": [],
   "source": [
    "# sim_movie(trainSet, movie_popular, user_list)"
   ]
  },
  {
   "cell_type": "code",
   "execution_count": null,
   "metadata": {},
   "outputs": [],
   "source": [
    "# movie 统计，movie-movie矩阵\n",
    "movie_popular, movie_sim_matrix = count_movie(trainSet)"
   ]
  },
  {
   "cell_type": "code",
   "execution_count": null,
   "metadata": {},
   "outputs": [],
   "source": [
    "# 验证结果\n",
    "print(len(movie_popular), len(movie_sim_matrix))"
   ]
  },
  {
   "source": [
    "## 相似度算法\n",
    "### 相似度算法一"
   ],
   "cell_type": "markdown",
   "metadata": {}
  },
  {
   "cell_type": "code",
   "execution_count": null,
   "metadata": {},
   "outputs": [],
   "source": [
    "import tool as tl\n",
    "sim = tl.Similarity()"
   ]
  },
  {
   "cell_type": "code",
   "execution_count": null,
   "metadata": {},
   "outputs": [],
   "source": [
    "sim = tl.Similarity()\n",
    "a = [1,2,3]\n",
    "b = [2,3,5]\n",
    "sim.MAE(a,b)"
   ]
  },
  {
   "cell_type": "code",
   "execution_count": null,
   "metadata": {},
   "outputs": [],
   "source": [
    "# 计算电影之间的相似度 相似度算法 AB交集 / 根号下(A*B)\n",
    "def calc_movie_sim(movie_popular, movie_sim_matrix):\n",
    "    # 计算电影之间的相似性\n",
    "    print(\"Calculating movie similarity matrix ...\")\n",
    "    for m1, related_movies in movie_sim_matrix.items():\n",
    "        for m2, count in related_movies.items():\n",
    "            # # 注意0向量的处理，即某电影的用户数为0\n",
    "            # if movie_popular[m1] == 0 or movie_popular[m2] == 0:\n",
    "            #     movie_sim_matrix[m1][m2] = 0\n",
    "            # else:\n",
    "            #     movie_sim_matrix[m1][m2] = count / math.sqrt(movie_popular[m1] * movie_popular[m2])\n",
    "\n",
    "    print('Calculate movie similarity matrix success!')\n",
    "    return movie_sim_matrix"
   ]
  },
  {
   "cell_type": "code",
   "execution_count": null,
   "metadata": {},
   "outputs": [],
   "source": [
    "# 计算电影之间的相似度 相似度算法 AB交集 / 根号下(A*B)\n",
    "def calc_movie_sim(movie_popular, movie_sim_matrix):\n",
    "    # 计算电影之间的相似性\n",
    "    print(\"Calculating movie similarity matrix ...\")\n",
    "    for m1, related_movies in movie_sim_matrix.items():\n",
    "        for m2, count in related_movies.items():\n",
    "            # 注意0向量的处理，即某电影的用户数为0\n",
    "            if movie_popular[m1] == 0 or movie_popular[m2] == 0:\n",
    "                movie_sim_matrix[m1][m2] = 0\n",
    "            else:\n",
    "                movie_sim_matrix[m1][m2] = count / math.sqrt(movie_popular[m1] * movie_popular[m2])\n",
    "    print('Calculate movie similarity matrix success!')\n",
    "    return movie_sim_matrix"
   ]
  },
  {
   "source": [
    "## 相似性矩阵"
   ],
   "cell_type": "markdown",
   "metadata": {}
  },
  {
   "cell_type": "code",
   "execution_count": null,
   "metadata": {},
   "outputs": [],
   "source": [
    "movie_sim_matrix_1 = calc_movie_sim(trainSet, movie_popular, movie_sim_matrix)"
   ]
  },
  {
   "cell_type": "code",
   "execution_count": null,
   "metadata": {},
   "outputs": [],
   "source": [
    "pd.DataFrame(movie_sim_matrix_1)"
   ]
  },
  {
   "source": [
    "### 显示结果"
   ],
   "cell_type": "markdown",
   "metadata": {}
  },
  {
   "cell_type": "code",
   "execution_count": null,
   "metadata": {},
   "outputs": [],
   "source": [
    "pd.Series(movie_popular)"
   ]
  },
  {
   "source": [
    "## movie_movie 矩阵\n",
    "\n",
    "* movie_sim_matrix"
   ],
   "cell_type": "markdown",
   "metadata": {}
  },
  {
   "cell_type": "code",
   "execution_count": null,
   "metadata": {},
   "outputs": [],
   "source": [
    "pd.DataFrame(movie_sim_matrix)"
   ]
  },
  {
   "source": [
    "## 相似性算法2\n",
    "## jacard 相似度算法，没有利用评分 只有0和1\n",
    "电影之间的相似度根据，共同看过AB的人数/看过A或B的人数"
   ],
   "cell_type": "markdown",
   "metadata": {}
  },
  {
   "cell_type": "code",
   "execution_count": null,
   "metadata": {},
   "outputs": [],
   "source": [
    "# 计算电影之间的相似度, jacard 算法 交集/并集\n",
    "def calc_movie_sim_jacard(movie_popular, movie_sim_matrix):\n",
    "    # 计算电影之间的相似性\n",
    "    print(\"Calculating movie similarity matrix ...\")\n",
    "    for m1, related_movies in movie_sim_matrix.items():\n",
    "        for m2, count in related_movies.items():\n",
    "            # 注意0向量的处理，即某电影的用户数为0\n",
    "            if movie_popular[m1] == 0 or movie_popular[m2] == 0:\n",
    "                movie_sim_matrix[m1][m2] = 0\n",
    "            else:\n",
    "                movie_sim_matrix[m1][m2] = count / (movie_popular[m1] + movie_popular[m2] -count)\n",
    "    # jacard = (交集)/(并集)\n",
    "    print('Calculate movie similarity matrix success!')\n",
    "    return  movie_sim_matrix"
   ]
  },
  {
   "cell_type": "code",
   "execution_count": null,
   "metadata": {},
   "outputs": [],
   "source": [
    "movie_sim_matrix_2 = calc_movie_sim_jacard(movie_popular, movie_sim_matrix)\n",
    "pd.DataFrame(movie_sim_matrix_2)"
   ]
  },
  {
   "source": [
    "## 统计用户"
   ],
   "cell_type": "markdown",
   "metadata": {}
  },
  {
   "cell_type": "code",
   "execution_count": null,
   "metadata": {},
   "outputs": [],
   "source": [
    "# return list of users\n",
    "def get_user_List(trainSet):\n",
    "    name = []\n",
    "    for user, _ in trainSet.items():\n",
    "        name.append(user)\n",
    "    return name\n",
    "def get_movie_name_list(filename):\n",
    "    nameSet = set()\n",
    "    # 加载文件， 按行读取\n",
    "    for line in load_file(filename):\n",
    "        # 读取列属性\n",
    "        user, movie, rating, timestamp = line.split(',')\n",
    "        nameSet.add(movie)\n",
    "    # print(len(nameSet))\n",
    "    print('Split trainingSet and testSet success! ')\n",
    "    return nameSet"
   ]
  },
  {
   "cell_type": "code",
   "execution_count": null,
   "metadata": {
    "tags": []
   },
   "outputs": [],
   "source": [
    "name_list = get_user_List(trainSet)\n",
    "movie_list = get_movie_name_list(path)\n",
    "# movie_list\n",
    "print(\"len of movie\", len(movie_list))\n",
    "print(\"len of user\",len(name_list))"
   ]
  },
  {
   "source": [
    "## 推荐电影"
   ],
   "cell_type": "markdown",
   "metadata": {}
  },
  {
   "cell_type": "code",
   "execution_count": null,
   "metadata": {},
   "outputs": [],
   "source": [
    "# 针对目标用户U，找到K部相似的电影，并推荐其N部电影，\n",
    "# 用户未产生过行为的物品\n",
    "def recommend(user, n_sim_movie, n_rec_movie, trainSet, movie_sim_matrix):\n",
    "    K = n_sim_movie\n",
    "    N = n_rec_movie\n",
    "    # 用户user对物品的偏好值\n",
    "    rank = {}\n",
    "    # 用户user产生过行为的物品，与物品item按相似度从大到小排列，取与物品item相似度最大的k个商品\n",
    "    # 验证是否有用户的历史记录\n",
    "    try:\n",
    "        watched_movies = trainSet[user]\n",
    "    except KeyError:\n",
    "        print(user + \" is not exits\")\n",
    "\n",
    "    for movie, rating in watched_movies.items():\n",
    "        # 遍历与物品item最相似的前k个产品，获得这些物品及相似分数\n",
    "        for related_movie, w in sorted(movie_sim_matrix[movie].items(), key=itemgetter(1), reverse=True)[:K]:\n",
    "            # 若该物品为当前物品，跳过\n",
    "            if related_movie in watched_movies:\n",
    "                continue\n",
    "            # 计算用户user对related_movie的偏好值，初始化该值为0\n",
    "            rank.setdefault(related_movie, 0)\n",
    "            # 通过与其相似物品对物品related_movie的偏好值相乘并相加。\n",
    "            # 排名的依据—— > 推荐电影与该已看电影的相似度(累计) * 用户对已看电影的评分\n",
    "            rank[related_movie] += w * float(rating)\n",
    "    return sorted(rank.items(), key=itemgetter(1), reverse=True)[:N]\n"
   ]
  },
  {
   "cell_type": "code",
   "execution_count": null,
   "metadata": {},
   "outputs": [],
   "source": [
    "rec_matrix = {}\n",
    "for i in name_list:\n",
    "    rec_user = recommend(i,20,10, trainSet, movie_sim_matrix_2)\n",
    "    rec_matrix.setdefault(i, rec_user)\n",
    "pd.DataFrame(rec_matrix)"
   ]
  },
  {
   "cell_type": "code",
   "execution_count": null,
   "metadata": {},
   "outputs": [],
   "source": [
    "rec_matrix_1 = {}\n",
    "for i in name_list:\n",
    "    rec_user = recommend(i,20,10, trainSet, movie_sim_matrix_1)\n",
    "    rec_matrix_1.setdefault(i, rec_user)\n",
    "pd.DataFrame(rec_matrix_1)"
   ]
  },
  {
   "cell_type": "code",
   "execution_count": null,
   "metadata": {},
   "outputs": [],
   "source": [
    "# print(rec_matrix['1'])\n",
    "# print(rec_matrix_2['1'])\n",
    "# print(testSet['1'])\n",
    "# print(trainSet['1'])\n",
    "table = {}\n",
    "table.setdefault('1',rec_matrix['1'])\n",
    "table.setdefault('2',rec_matrix_1['1'])\n",
    "pd.DataFrame(table)"
   ]
  },
  {
   "cell_type": "code",
   "execution_count": null,
   "metadata": {},
   "outputs": [],
   "source": [
    "print(rec_matrix['1'])"
   ]
  },
  {
   "cell_type": "code",
   "execution_count": null,
   "metadata": {},
   "outputs": [],
   "source": [
    "# 计算电影之间的相似度, 利用其他算法\n",
    "def calc_movie_sim_test(trainSet, func):\n",
    "    movie_sim_matrix = {}\n",
    "\n",
    "    for user1 in trainSet.keys():\n",
    "        movie_sim_matrix.setdefault(user1, {})\n",
    "        for user2 in trainSet.keys():\n",
    "            if user1 == user2:\n",
    "                movie_sim_matrix.get(user1).setdefault(user2, 1)\n",
    "            else:\n",
    "                movie_sim_matrix.get(user1).setdefault(user2, func(trainSet.get(user1), trainSet.get(user2)))\n",
    "    # movie{1,2}=sim\n",
    "    return  movie_sim_matrix\n"
   ]
  },
  {
   "cell_type": "code",
   "execution_count": null,
   "metadata": {},
   "outputs": [],
   "source": [
    "# 用户之间的相似度\n",
    "func = lambda x,y:np.random.randint(1,4)\n",
    "movie_sim_matrix_3 = calc_movie_sim_test(trainSet, func)\n",
    "pd.DataFrame(calc_movie_sim_test(trainSet, func))"
   ]
  },
  {
   "cell_type": "code",
   "execution_count": null,
   "metadata": {},
   "outputs": [],
   "source": []
  },
  {
   "source": [
    "推荐算法"
   ],
   "cell_type": "markdown",
   "metadata": {}
  },
  {
   "cell_type": "code",
   "execution_count": null,
   "metadata": {},
   "outputs": [],
   "source": [
    "import numpy as np\n",
    "import pandas as pd\n",
    "\n",
    "#1.1 欧氏距离\n",
    "def euclidean(x,y):\n",
    "    '''欧式距离'''\n",
    "    xy = x - y\n",
    "    tmp = np.power(xy,2)\n",
    "    tmp = np.sum(tmp)\n",
    "    return np.sqrt(tmp)\n",
    "\n",
    "# 1.2 曼哈顿距离\n",
    "def manhattan(x,y):\n",
    "    '''曼哈顿距离'''\n",
    "    xy = np.abs(x - y)\n",
    "    return np.sum(xy)\n",
    "\n",
    "# 1.3 切比雪夫距离\n",
    "def chebyshev(x,y):\n",
    "    '''切比雪夫距离'''\n",
    "    xy = np.abs(x - y)\n",
    "    return np.max(tmp)\n",
    "\n",
    "# 1.4 闵可夫斯基距离\n",
    "def minkowski(x,y,p):\n",
    "    '''闵可夫斯基距离'''\n",
    "    xy = np.abs(x - y)\n",
    "    tmp = np.power(xy,p)\n",
    "    tmp = np.sum(tmp)\n",
    "    return np.power(tmp, 1/p)\n",
    "\n",
    "# 1.5 标准化欧氏距离\n",
    "def stand_euclidean(x,y,s):\n",
    "    xy = x - y\n",
    "    xys = xy / s\n",
    "    tmp = np.power(xys,2)\n",
    "    tmp = np.sum(tmp)\n",
    "    return np.sqrt(tmp)\n",
    "# 2.1 夹角余弦\n",
    "def cosine(x,y):\n",
    "#     xy = np.sum(np.multiply(x,y))\n",
    "    x = pd.Series(x)\n",
    "    y = pd.Series(y)    \n",
    "    xy = x.astype(float).mul(b.astype(float), fill_value=0)\n",
    "    x = np.linalg.norm(x,2)\n",
    "    y = np.linalg.norm(y,2)\n",
    "    return xy / (x*y)\n",
    "\n",
    "def tanimoto(x,y):\n",
    "    x = pd.Series(x)\n",
    "    y = pd.Series(y)    \n",
    "    xy = x.astype(float).mul(b.astype(float), fill_value=0)\n",
    "    x = np.linalg.norm(x,2)\n",
    "    y = np.linalg.norm(y,2)\n",
    "    return xy / (x + y - xy)\n",
    "# print(\"夹角余弦\",cosine([3,0,2],[0,5,3]))\n",
    "# print(\"Tanimoto系数\",cosine([3,0,2],[0,5,3]))"
   ]
  },
  {
   "cell_type": "code",
   "execution_count": null,
   "metadata": {},
   "outputs": [],
   "source": [
    "# 余弦相似度\n",
    "def cosine(x,y):\n",
    "    x = pd.Series(x)\n",
    "    y = pd.Series(y) \n",
    "    xy = x.astype(float).mul(y.astype(float), fill_value=0)\n",
    "    x = np.linalg.norm(x.values.astype(float),2)\n",
    "    y = np.linalg.norm(y.values.astype(float),2)\n",
    "    return xy.sum() / (x*y)\n",
    "# z = a.astype(float).mul(b.astype(float),fill_value=0)\n",
    "# # z.sum()\n",
    "# cosine(a,b)\n",
    "# x.values.astype(float)\n",
    "\n",
    "# cosine(trainSet.get('1'),trainSet.get('2'))"
   ]
  },
  {
   "cell_type": "code",
   "execution_count": null,
   "metadata": {},
   "outputs": [],
   "source": []
  },
  {
   "cell_type": "code",
   "execution_count": null,
   "metadata": {},
   "outputs": [],
   "source": [
    "func = cosine\n",
    "movie_sim_matrix_3 = calc_movie_sim_test(trainSet, func)\n",
    "pd.DataFrame(movie_sim_matrix_3)"
   ]
  },
  {
   "cell_type": "code",
   "execution_count": null,
   "metadata": {},
   "outputs": [],
   "source": [
    "\n"
   ]
  },
  {
   "cell_type": "code",
   "execution_count": null,
   "metadata": {},
   "outputs": [],
   "source": [
    "rec_matrix_2 = {}\n",
    "for i in name_list:\n",
    "    rec_user = recommend_2(i,20,10,movie_sim_matrix_2)\n",
    "    rec_matrix_2.setdefault(i, rec_user)\n",
    "pd.DataFrame(rec_matrix_2)                                                                                          "
   ]
  },
  {
   "cell_type": "code",
   "execution_count": null,
   "metadata": {},
   "outputs": [],
   "source": [
    "pd.DataFrame(rec_matrix)"
   ]
  },
  {
   "cell_type": "code",
   "execution_count": null,
   "metadata": {
    "tags": []
   },
   "outputs": [],
   "source": []
  },
  {
   "cell_type": "code",
   "execution_count": null,
   "metadata": {},
   "outputs": [],
   "source": [
    "pd.Series(testSet['1'])"
   ]
  },
  {
   "cell_type": "code",
   "execution_count": null,
   "metadata": {},
   "outputs": [],
   "source": [
    "# 产生推荐并通过准确率、召回率和覆盖率进行评估\n",
    "def evaluate(self):\n",
    "    print('Evaluating start ...')\n",
    "    N = self.n_rec_movie\n",
    "    # 准确率和召回率\n",
    "    hit = 0\n",
    "    rec_count = 0\n",
    "    test_count = 0\n",
    "    # 覆盖率\n",
    "    all_rec_movies = set()\n",
    "\n",
    "    for i, user in enumerate(self.trainSet):\n",
    "        test_moives = self.testSet.get(user, {})\n",
    "        rec_movies = self.recommend(user)\n",
    "        for movie, w in rec_movies:\n",
    "            if movie in test_moives:\n",
    "                hit += 1\n",
    "            all_rec_movies.add(movie)\n",
    "        rec_count += N\n",
    "        test_count += len(test_moives)\n",
    "\n",
    "    precision = hit / (1.0 * rec_count)\n",
    "    recall = hit / (1.0 * test_count)\n",
    "    coverage = len(all_rec_movies) / (1.0 * self.movie_count)\n",
    "    print('precisioin=%.4f\\trecall=%.4f\\tcoverage=%.4f' % (\n",
    "        precision, recall, coverage))\n"
   ]
  },
  {
   "cell_type": "code",
   "execution_count": null,
   "metadata": {},
   "outputs": [],
   "source": []
  },
  {
   "cell_type": "code",
   "execution_count": null,
   "metadata": {
    "collapsed": true
   },
   "outputs": [],
   "source": [
    "import numpy as np\n",
    "import pandas as pd\n",
    "import matplotlib.pyplot as plt\n",
    "%matplotlib inline"
   ]
  },
  {
   "cell_type": "code",
   "execution_count": null,
   "metadata": {
    "collapsed": true
   },
   "outputs": [],
   "source": [
    "# scikit_learn?\n",
    "# !python -m pip install --upgrade pip\n",
    "# !pip uninstall sklearn\n",
    "from sklearn.metrics import f1_score"
   ]
  },
  {
   "cell_type": "code",
   "execution_count": null,
   "metadata": {
    "collapsed": true
   },
   "outputs": [],
   "source": [
    "y_true = [0,0,0,0,0,1,0,0,0,0,0,1,1,1,1,0,0,0,0,0,1]\n",
    "y_pred = [0,0,0,0,0,1,1,0,0,0,0,0,1,1,0,0,0,0,0,1,0]"
   ]
  },
  {
   "cell_type": "markdown",
   "metadata": {},
   "source": [
    "# 计算f1_Score"
   ]
  },
  {
   "cell_type": "code",
   "execution_count": null,
   "metadata": {},
   "outputs": [],
   "source": [
    "f1_score(y_true=y_true, y_pred=y_pred)"
   ]
  },
  {
   "cell_type": "code",
   "execution_count": null,
   "metadata": {
    "collapsed": true
   },
   "outputs": [],
   "source": [
    "f1_score?"
   ]
  },
  {
   "cell_type": "code",
   "execution_count": null,
   "metadata": {},
   "outputs": [],
   "source": [
    "x = np.random.randint(0,2,(2,20))\n",
    "\n",
    "f1_score(x[0],x[1])"
   ]
  },
  {
   "cell_type": "code",
   "execution_count": null,
   "metadata": {},
   "outputs": [],
   "source": [
    "from sklearn.metrics import accuracy_score,precision_score, recall_score\n",
    "# 准确率\n",
    "accu = accuracy_score(y_true, y_pred)\n",
    "\n",
    "pre = precision_score(y_true, y_pred)\n",
    "recall = recall_score(y_true, y_pred)\n",
    "f1 = f1_score(y_true, y_pred)\n",
    "\n",
    "print(\"accu = %f, precision = %f, recallrate = %f, f1_score = %f \"%(accu, pre, recall, f1))"
   ]
  },
  {
   "cell_type": "code",
   "execution_count": null,
   "metadata": {},
   "outputs": [],
   "source": []
  }
 ],
 "metadata": {
  "kernelspec": {
   "name": "python362jvsc74a57bd0c68fb794aad12bd82f7abc6229177b707cb4fe0fead52f40f954c06bbfa18d56",
   "display_name": "Python 3.6.2 64-bit ('newpy3': conda)"
  },
  "language_info": {
   "codemirror_mode": {
    "name": "ipython",
    "version": 3
   },
   "file_extension": ".py",
   "mimetype": "text/x-python",
   "name": "python",
   "nbconvert_exporter": "python",
   "pygments_lexer": "ipython3",
   "version": "3.6.2"
  }
 },
 "nbformat": 4,
 "nbformat_minor": 2
}