{
 "cells": [
  {
   "cell_type": "code",
   "execution_count": 19,
   "metadata": {
    "collapsed": true
   },
   "outputs": [],
   "source": [
    "# 基于用户的协同过滤推荐算法 曼哈顿距离公式\n",
    "import os\n",
    "import random\n",
    "import math\n",
    "from operator import itemgetter\n",
    "import shelve\n",
    "from contextlib import closing\n",
    "import pandas as pd\n",
    "import numpy as np\n",
    "from datetime import datetime\n",
    "import glob"
   ]
  },
  {
   "cell_type": "code",
   "execution_count": 16,
   "metadata": {},
   "outputs": [],
   "source": [
    "# 原始方法 read file \n",
    "def load_file(filename):\n",
    "    with open(filename, 'r', encoding='utf-8') as f:\n",
    "        for i, line in enumerate(f):\n",
    "            if i == 0:\n",
    "                # 去掉文件第一行的title\n",
    "                continue\n",
    "            yield line.strip('\\r\\n')\n",
    "    print('Load %s success!' % filename)\n",
    "\n",
    "def get_dataset(filename, pivot=0.75):\n",
    "    trainSet = {}\n",
    "    testSet = {}\n",
    "    user_list = set()\n",
    "    movie_list = set()\n",
    "    # 加载文件， 按行读取\n",
    "    for line in load_file(filename):\n",
    "        # 读取列属性\n",
    "        user, movie, rating, _ = line.split(',')\n",
    "        user = int(user)\n",
    "        movie = int(movie)\n",
    "        rating = float(rating)\n",
    "\n",
    "        user_list.add(user)\n",
    "        movie_list.add(movie)\n",
    "\n",
    "        # 数据划分测试集合和数据集合 (0,1) < (0,pivot)\n",
    "        if random.random() < pivot:\n",
    "            trainSet.setdefault(user, {})\n",
    "            trainSet[user][movie] = rating\n",
    "        else:\n",
    "            testSet.setdefault(user, {})\n",
    "            testSet[user][movie] = rating\n",
    "\n",
    "    trainSet_len = len(trainSet)\n",
    "    testSet_len = len(testSet)\n",
    "    print('Split trainingSet and testSet success!')\n",
    "    print('user - movie - matrix')\n",
    "    print('TrainSet = %s' % trainSet_len)\n",
    "    print('TestSet = %s' % testSet_len)\n",
    "    print('user = %s' % len(user_list))\n",
    "    print('movie = %s' % len(movie_list))\n",
    "    return trainSet, testSet, user_list, movie_list\n"
   ]
  },
  {
   "cell_type": "code",
   "execution_count": 17,
   "metadata": {},
   "outputs": [
    {
     "output_type": "stream",
     "name": "stdout",
     "text": [
      "Load ratings.csv success!\nSplit trainingSet and testSet success!\nuser - movie - matrix\nTrainSet = 610\nTestSet = 610\nuser = 610\nmovie = 9724\n"
     ]
    }
   ],
   "source": [
    "path = r\"ratings.csv\"\n",
    "trainSet, testSet, user_list, movie_list = get_dataset(path)"
   ]
  },
  {
   "cell_type": "code",
   "execution_count": 55,
   "metadata": {},
   "outputs": [
    {
     "output_type": "execute_result",
     "data": {
      "text/plain": [
       "array([ 40148,  40278,  40339, ..., 193585, 193587, 193609])"
      ]
     },
     "metadata": {},
     "execution_count": 55
    }
   ],
   "source": [
    "a = sorted(movie_list)\n",
    "a = np.array(a)\n",
    "a[a>40000]"
   ]
  },
  {
   "cell_type": "code",
   "execution_count": 72,
   "metadata": {},
   "outputs": [
    {
     "output_type": "stream",
     "name": "stdout",
     "text": [
      "(0, 0)\n(1, 1)\n(2, 2)\n(3, 3)\n(4, 4)\n(5, 5)\n(6, 6)\n(7, 7)\n(8, 8)\n(9, 9)\n"
     ]
    }
   ],
   "source": [
    "b = np.arange(10)\n",
    "for i in enumerate(b):\n",
    "    print(i)"
   ]
  },
  {
   "cell_type": "code",
   "execution_count": 77,
   "metadata": {},
   "outputs": [
    {
     "output_type": "stream",
     "name": "stdout",
     "text": [
      "0 4.0\n0 3.0\n0 0.5\n0 2.0\n0 4.0\n0 4.0\n0 4.5\n0 2.0\n0 3.0\n0 1.0\n0 5.0\n0 4.0\n0 5.0\n0 3.0\n0 2.5\n0 4.0\n0 4.5\n0 3.0\n0 4.0\n0 3.0\n0 3.5\n0 4.5\n0 3.5\n0 4.5\n0 4.0\n0 3.0\n0 3.0\n0 3.0\n0 3.5\n0 5.0\n0 5.0\n0 3.0\n0 3.0\n0 0.5\n0 4.0\n0 2.5\n0 5.0\n0 5.0\n0 3.0\n0 5.0\n0 3.5\n0 4.0\n0 5.0\n0 3.0\n0 3.0\n0 5.0\n0 3.0\n0 4.0\n0 4.0\n0 3.0\n0 4.0\n0 4.0\n0 5.0\n0 3.0\n0 0.5\n0 4.0\n0 3.0\n0 3.0\n0 3.0\n0 3.0\n0 4.0\n0 4.0\n0 5.0\n0 4.0\n0 4.0\n0 4.0\n0 5.0\n0 2.0\n0 5.0\n0 4.0\n0 3.0\n0 4.5\n0 4.5\n0 5.0\n0 2.0\n0 3.5\n0 5.0\n0 4.0\n0 4.0\n0 4.0\n0 5.0\n0 3.0\n0 4.0\n0 3.0\n0 5.0\n0 4.0\n0 3.0\n0 4.5\n0 4.0\n0 4.0\n0 4.0\n0 5.0\n0 3.0\n0 4.0\n0 3.0\n0 5.0\n0 4.0\n0 4.5\n0 4.0\n0 4.5\n0 2.0\n0 5.0\n0 4.0\n0 3.0\n0 4.0\n0 5.0\n0 4.0\n0 4.0\n0 3.0\n0 4.5\n0 3.5\n0 3.0\n0 3.0\n0 3.5\n0 4.0\n0 3.5\n0 3.0\n0 4.0\n0 3.5\n0 4.0\n0 4.0\n0 4.0\n0 4.5\n0 4.0\n0 4.0\n0 5.0\n0 4.0\n0 5.0\n0 4.0\n0 3.0\n0 4.0\n0 2.0\n0 4.0\n0 3.0\n0 4.0\n0 5.0\n0 4.0\n0 5.0\n0 1.0\n0 3.0\n0 4.0\n0 4.0\n0 3.0\n0 3.0\n0 5.0\n0 5.0\n0 4.5\n0 4.0\n0 1.0\n0 3.0\n0 3.0\n0 5.0\n0 2.0\n0 5.0\n0 3.0\n0 4.0\n0 5.0\n0 3.0\n0 4.5\n0 4.0\n0 4.0\n0 3.0\n0 3.0\n0 5.0\n0 4.0\n0 3.5\n0 2.5\n0 4.5\n0 4.5\n0 3.0\n0 5.0\n0 4.5\n0 4.0\n0 3.0\n0 0.5\n0 5.0\n0 5.0\n0 4.0\n0 4.0\n0 3.0\n0 3.0\n0 4.5\n0 5.0\n0 4.0\n0 4.0\n0 4.0\n0 4.0\n0 5.0\n0 4.0\n0 4.0\n0 4.0\n0 5.0\n0 2.0\n0 2.0\n0 4.0\n0 4.5\n0 3.0\n0 3.0\n0 4.0\n0 3.5\n0 5.0\n0 5.0\n0 3.5\n0 4.5\n0 4.0\n0 5.0\n0 3.0\n0 2.0\n0 4.5\n0 3.5\n0 4.5\n0 2.5\n0 3.5\n0 3.0\n0 5.0\n0 3.0\n0 4.0\n0 2.0\n0 3.5\n0 5.0\n0 3.5\n0 2.5\n0 3.5\n0 5.0\n0 5.0\n0 3.5\n0 3.5\n0 4.5\n0 3.0\n0 2.5\n0 4.0\n0 3.5\n0 3.0\n0 3.0\n0 2.0\n0 5.0\n0 5.0\n0 4.0\n0 4.0\n0 5.0\n0 4.0\n0 3.0\n0 4.0\n0 5.0\n0 3.0\n0 4.5\n0 5.0\n0 3.5\n0 4.0\n0 5.0\n0 5.0\n0 4.5\n0 4.5\n0 4.5\n0 1.0\n0 4.0\n0 3.5\n0 5.0\n0 2.0\n0 4.0\n0 4.0\n0 1.0\n0 4.0\n0 4.0\n0 4.0\n0 2.0\n0 5.0\n0 5.0\n0 5.0\n0 5.0\n0 4.0\n0 4.0\n0 5.0\n0 4.0\n0 5.0\n0 4.0\n0 4.0\n0 5.0\n0 3.5\n0 4.5\n0 3.0\n0 4.0\n0 3.0\n0 4.0\n0 5.0\n0 4.5\n0 2.0\n0 4.5\n0 4.5\n0 4.0\n0 4.0\n0 4.0\n0 3.0\n0 1.0\n0 3.5\n0 5.0\n0 5.0\n0 2.0\n0 3.0\n0 4.0\n0 4.0\n0 3.0\n0 3.0\n0 5.0\n0 3.5\n0 2.0\n0 4.0\n0 3.0\n0 4.5\n0 1.0\n0 2.5\n0 4.0\n0 3.0\n0 3.0\n0 4.0\n0 4.5\n0 5.0\n0 4.0\n0 4.5\n0 4.0\n0 3.0\n0 3.5\n0 3.5\n0 5.0\n0 4.0\n0 3.5\n0 4.5\n0 5.0\n0 2.0\n0 4.0\n0 2.0\n0 4.0\n0 3.0\n0 3.5\n0 4.0\n0 4.0\n0 4.0\n0 4.5\n0 4.0\n0 4.0\n0 5.0\n0 3.0\n0 4.5\n0 4.5\n0 3.5\n0 3.5\n0 5.0\n0 5.0\n0 5.0\n0 4.0\n0 5.0\n0 4.0\n0 4.0\n0 3.5\n0 3.0\n0 3.5\n0 3.0\n0 3.0\n0 4.0\n0 2.0\n0 3.5\n0 4.5\n0 4.0\n0 5.0\n0 0.5\n0 4.0\n0 5.0\n0 3.0\n0 3.5\n0 3.5\n0 4.5\n0 2.0\n0 4.0\n0 3.0\n0 5.0\n0 3.5\n0 2.0\n0 4.5\n0 2.0\n0 5.0\n0 3.5\n0 4.5\n0 4.0\n0 4.0\n0 4.0\n0 3.0\n0 3.5\n0 2.0\n0 5.0\n0 4.0\n0 3.0\n0 3.0\n0 4.0\n0 5.0\n0 3.0\n0 5.0\n0 5.0\n0 5.0\n0 4.0\n0 5.0\n0 3.5\n0 3.0\n0 5.0\n0 4.0\n0 4.0\n0 4.0\n0 4.0\n0 4.5\n0 4.0\n0 3.0\n0 5.0\n0 2.0\n0 5.0\n0 4.0\n0 4.0\n0 2.5\n0 5.0\n0 4.5\n0 3.5\n0 4.0\n0 4.0\n0 4.0\n0 3.0\n0 3.5\n0 3.0\n0 4.5\n0 4.0\n0 1.0\n0 4.0\n0 3.0\n0 1.0\n0 2.5\n0 3.0\n0 4.0\n0 4.0\n0 4.0\n0 5.0\n0 4.5\n0 5.0\n0 4.5\n0 4.5\n0 2.5\n0 4.5\n0 4.0\n0 3.5\n0 3.0\n0 5.0\n0 3.0\n0 4.0\n0 4.0\n0 5.0\n0 4.0\n0 5.0\n0 3.0\n0 4.0\n0 5.0\n0 2.0\n0 4.0\n0 4.0\n0 1.0\n0 4.0\n0 1.5\n0 4.5\n0 2.5\n0 3.0\n0 1.5\n0 4.0\n0 4.0\n0 4.0\n0 4.0\n0 5.0\n0 5.0\n0 2.0\n0 3.0\n0 4.5\n0 4.0\n0 4.0\n0 1.5\n0 3.0\n0 3.0\n0 3.0\n0 2.0\n0 4.0\n0 4.5\n0 4.0\n0 5.0\n0 4.0\n0 5.0\n0 2.5\n0 3.5\n0 2.5\n0 4.0\n0 4.0\n0 5.0\n0 4.5\n0 1.0\n0 4.0\n0 4.0\n0 4.5\n0 4.0\n0 3.0\n0 3.5\n0 5.0\n0 3.5\n0 5.0\n0 3.0\n0 3.0\n0 2.0\n0 4.0\n0 4.0\n0 5.0\n0 5.0\n0 3.0\n0 4.0\n0 5.0\n0 5.0\n0 3.0\n0 1.0\n0 5.0\n0 4.0\n0 4.0\n0 3.0\n0 4.5\n0 4.0\n0 4.0\n0 5.0\n0 4.0\n0 5.0\n0 5.0\n0 3.0\n0 4.0\n0 5.0\n0 5.0\n0 4.0\n0 2.0\n0 5.0\n0 4.0\n0 4.5\n0 4.5\n0 3.5\n0 3.0\n0 5.0\n0 5.0\n0 3.0\n0 2.5\n0 5.0\n0 5.0\n0 5.0\n0 3.0\n0 4.0\n0 4.5\n0 1.0\n0 5.0\n0 5.0\n0 4.0\n0 5.0\n0 4.5\n0 4.0\n0 5.0\n0 3.0\n0 4.0\n0 4.5\n0 2.0\n0 3.5\n0 3.0\n0 4.0\n0 3.5\n0 5.0\n0 4.0\n0 4.0\n0 1.0\n0 4.0\n0 5.0\n0 5.0\n0 5.0\n0 2.5\n0 3.0\n0 3.0\n0 4.0\n0 3.0\n0 5.0\n0 4.0\n0 5.0\n0 5.0\n0 5.0\n0 5.0\n0 5.0\n0 3.0\n0 5.0\n0 4.0\n0 4.0\n0 4.0\n0 4.0\n0 4.0\n0 5.0\n0 4.0\n0 3.0\n0 0.5\n0 3.0\n0 2.5\n0 4.0\n0 4.0\n0 4.0\n0 3.0\n0 4.0\n0 2.5\n0 3.0\n0 2.0\n0 3.0\n0 4.5\n"
     ]
    }
   ],
   "source": [
    "train_np = np.zeros((610,1000))\n",
    "train_np.shape\n",
    "\n",
    "for user, movies in trainSet.items():\n",
    "    print(i,j)\n",
    "    break\n",
    "\n",
    "# train_np[train_np>0]\n"
   ]
  },
  {
   "cell_type": "code",
   "execution_count": 29,
   "metadata": {},
   "outputs": [
    {
     "output_type": "execute_result",
     "data": {
      "text/plain": [
       "array([[0., 0., 0., ..., 0., 0., 0.],\n",
       "       [0., 0., 0., ..., 0., 0., 0.],\n",
       "       [0., 0., 0., ..., 0., 0., 0.],\n",
       "       ...,\n",
       "       [0., 0., 0., ..., 0., 0., 0.],\n",
       "       [0., 0., 0., ..., 0., 0., 0.],\n",
       "       [0., 0., 0., ..., 0., 0., 0.]])"
      ]
     },
     "metadata": {},
     "execution_count": 29
    }
   ],
   "source": [
    "user_user_matrix = np.zeros((610, 610))\n",
    "user_user_matrix"
   ]
  },
  {
   "source": [
    "数据处理 \n",
    "\n",
    "user movie \n"
   ],
   "cell_type": "markdown",
   "metadata": {}
  },
  {
   "cell_type": "code",
   "execution_count": null,
   "metadata": {},
   "outputs": [],
   "source": []
  },
  {
   "cell_type": "code",
   "execution_count": 10,
   "metadata": {},
   "outputs": [
    {
     "output_type": "stream",
     "name": "stdout",
     "text": [
      "Total user number = 610\nTotal movie number = 8749\n"
     ]
    }
   ],
   "source": [
    "def count_user(trainSet):\n",
    "    # 统计电影被看的次数\n",
    "    movie_popular = {}\n",
    "    user_list = []\n",
    "    for user, movies in trainSet.items():\n",
    "        if user not in user_list:\n",
    "            user_list.append(user)\n",
    "        for movie in movies:\n",
    "            if movie not in movie_popular:\n",
    "                movie_popular[movie] = 0\n",
    "            movie_popular[movie] += 1\n",
    "    \n",
    "    print(\"Total user number = %d\" % len(user_list))\n",
    "    print(\"Total movie number = %d\" % len(movie_popular))\n",
    "    return movie_popular, sorted(user_list)\n",
    "\n",
    "movie_popular, user_list = count_user(trainSet)"
   ]
  },
  {
   "cell_type": "code",
   "execution_count": 13,
   "metadata": {},
   "outputs": [
    {
     "output_type": "stream",
     "name": "stdout",
     "text": [
      "Total user number = 610\nTotal movie number = 5644\n"
     ]
    }
   ],
   "source": [
    "_,_ = count_user(testSet)"
   ]
  },
  {
   "cell_type": "code",
   "execution_count": 11,
   "metadata": {},
   "outputs": [
    {
     "output_type": "execute_result",
     "data": {
      "text/plain": [
       "<function numpy.array>"
      ]
     },
     "metadata": {},
     "execution_count": 11
    }
   ],
   "source": [
    "np.array(user_list)\n",
    "np.sort(np.array(list(movie_popular.keys())))\n",
    "\n",
    "np.array"
   ]
  },
  {
   "cell_type": "code",
   "execution_count": null,
   "metadata": {},
   "outputs": [],
   "source": []
  },
  {
   "cell_type": "code",
   "execution_count": null,
   "metadata": {},
   "outputs": [],
   "source": [
    "def sim_movie(trainSet, user_list):\n",
    "    sim = tl.Similarity()\n",
    "    user_sim_matrix = {}\n",
    "    i = 0\n",
    "    max = len(user_list)\n",
    "    # 遍历训练数据，获得用户对有过的行为的物品\n",
    "\n",
    "    movie_list = list(movie_popular.keys())\n",
    "\n",
    "    for i1 in range(0, len(user_list)):\n",
    "        # 遍历该用户每件物品项\n",
    "        for i2 in range(i1, len(user_list)):\n",
    "            # 遍历该用户每件物品项\n",
    "            \n",
    "            m1, m2 = user_list[i1], user_list[i2]\n",
    "\n",
    "            user_sim_matrix.setdefault(m1, {})\n",
    "            user_sim_matrix.setdefault(m2, {})\n",
    "\n",
    "            if m1 == m2:\n",
    "                user_sim_matrix[m1].setdefault(m2,1)\n",
    "                continue \n",
    "                \n",
    "            u1 = trainSet.get(m1)\n",
    "            u2 = trainSet.get(m2)\n",
    "            \n",
    "            simi = sim.manhattan_distance(u1,u2)\n",
    "\n",
    "            movie_sim_matrix[m1].setdefault(m2, simi)\n",
    "            movie_sim_matrix[m2].setdefault(m1, simi)\n",
    "\n",
    "        i += 1\n",
    "        print(\"\\r{0}%\".format(round(i/max*100,4)), end='')\n",
    "        \n",
    "    print()\n",
    "    # movie and movie 矩阵\n",
    "    print(\"Build 同现矩阵co-rated users matrix success!\")\n",
    "    return movie_sim_matrix"
   ]
  },
  {
   "cell_type": "code",
   "execution_count": null,
   "metadata": {},
   "outputs": [],
   "source": [
    "import cProfile\n",
    "import time\n",
    "\n",
    "# cProfile.run('sim_movie(new_trainSet, movie_popular)')\n",
    "cProfile.run('sim_movie()')\n",
    "# ta = sim_movie(new_trainSet, movie_popular)"
   ]
  },
  {
   "cell_type": "code",
   "execution_count": null,
   "metadata": {},
   "outputs": [],
   "source": [
    "sim_user = np.array(np.zeros((1000,1000)))\n",
    "\n",
    "for i in trainSet.keys():\n",
    "    a = pd.Series(trainSet[i])\n",
    "    for j in trainSet.keys():\n",
    "#         print(i,j)\n",
    "        b = pd.Series(trainSet[j])\n",
    "        sim_user[int(i),int(j)] = sim_by_series(a,b)\n",
    "        pass\n",
    "sim_user"
   ]
  },
  {
   "cell_type": "code",
   "execution_count": null,
   "metadata": {},
   "outputs": [],
   "source": [
    "sim_user = np.array(np.zeros((10,10)))\n",
    "print(sim_user)"
   ]
  },
  {
   "cell_type": "code",
   "execution_count": null,
   "metadata": {},
   "outputs": [],
   "source": [
    "import sys,time\n",
    "for i in range(100):\n",
    "    sys.stdout.write(‘\\r%s%%‘%(i+1))\n",
    "    sys.stdout.flush()\n",
    "    time.sleep(0.1)"
   ]
  }
 ],
 "metadata": {
  "kernelspec": {
   "name": "python362jvsc74a57bd0c68fb794aad12bd82f7abc6229177b707cb4fe0fead52f40f954c06bbfa18d56",
   "display_name": "Python 3.6.2 64-bit ('newpy3': conda)"
  },
  "language_info": {
   "codemirror_mode": {
    "name": "ipython",
    "version": 3
   },
   "file_extension": ".py",
   "mimetype": "text/x-python",
   "name": "python",
   "nbconvert_exporter": "python",
   "pygments_lexer": "ipython3",
   "version": "3.6.2"
  }
 },
 "nbformat": 4,
 "nbformat_minor": 2
}