{
 "cells": [
  {
   "cell_type": "code",
   "execution_count": 4,
   "metadata": {
    "collapsed": true
   },
   "outputs": [],
   "source": [
    "# 基于用户的协同过滤推荐算法\n",
    "import os\n",
    "import random\n",
    "import math\n",
    "from operator import itemgetter\n",
    "import shelve\n",
    "from contextlib import closing\n",
    "import pandas as pd\n",
    "import numpy as np\n",
    "from datetime import datetime\n",
    "import glob"
   ]
  },
  {
   "cell_type": "code",
   "execution_count": 5,
   "metadata": {},
   "outputs": [],
   "source": [
    "# 原始方法 read file \n",
    "def load_file(filename):\n",
    "    with open(filename, 'r', encoding='utf-8') as f:\n",
    "        for i, line in enumerate(f):\n",
    "            if i == 0:\n",
    "                # 去掉文件第一行的title\n",
    "                continue\n",
    "            yield line.strip('\\r\\n')\n",
    "    print('Load %s success!' % filename)\n",
    "\n",
    "def get_dataset(filename, pivot=0.75):\n",
    "    trainSet = {}\n",
    "    testSet = {}\n",
    "    trainSet_len = 0\n",
    "    testSet_len = 0\n",
    "    # 加载文件， 按行读取\n",
    "    for line in load_file(filename):\n",
    "        # 读取列属性\n",
    "        user, movie, rating, timestamp = line.split(',')\n",
    "        user = int(user)\n",
    "        movie = int(movie)\n",
    "        rating = float(rating)\n",
    "        # 数据划分测试集合和数据集合 (0,1) < (0,pivot)\n",
    "        if random.random() < pivot:\n",
    "            trainSet.setdefault(user, {})\n",
    "            trainSet[user][movie] = rating\n",
    "            trainSet_len += 1\n",
    "        else:\n",
    "            testSet.setdefault(user, {})\n",
    "            testSet[user][movie] = rating\n",
    "            testSet_len += 1\n",
    "    print('Split trainingSet and testSet success!')\n",
    "    print('user - movie - matrix')\n",
    "    print('TrainSet = %s' % trainSet_len)\n",
    "    print('TestSet = %s' % testSet_len)\n",
    "    return trainSet, testSet\n"
   ]
  },
  {
   "cell_type": "code",
   "execution_count": 6,
   "metadata": {},
   "outputs": [
    {
     "output_type": "stream",
     "name": "stdout",
     "text": [
      "Load ratings.csv success!\nSplit trainingSet and testSet success!\nuser - movie - matrix\nTrainSet = 75466\nTestSet = 25370\n"
     ]
    }
   ],
   "source": [
    "path = r\"ratings.csv\"\n",
    "trainSet, testSet = get_dataset(path)"
   ]
  },
  {
   "source": [
    "数据处理 \n",
    "\n",
    "user movie \n"
   ],
   "cell_type": "markdown",
   "metadata": {}
  },
  {
   "cell_type": "code",
   "execution_count": 21,
   "metadata": {},
   "outputs": [
    {
     "output_type": "stream",
     "name": "stdout",
     "text": [
      "Total user number = 610\nTotal movie number = 8784\n"
     ]
    }
   ],
   "source": [
    "def count_user(trainSet):\n",
    "    # 统计电影被看的次数\n",
    "    movie_popular = {}\n",
    "    user_list = []\n",
    "    for user, movies in trainSet.items():\n",
    "        if user not in user_list:\n",
    "            user_list.append(user)\n",
    "        for movie in movies:\n",
    "            if movie not in movie_popular:\n",
    "                movie_popular[movie] = 0\n",
    "            movie_popular[movie] += 1\n",
    "    \n",
    "    print(\"Total user number = %d\" % len(user_list))\n",
    "    print(\"Total movie number = %d\" % len(movie_popular))\n",
    "    return movie_popular, sorted(user_list)\n",
    "\n",
    "movie_popular, user_list = count_user(trainSet)"
   ]
  },
  {
   "cell_type": "code",
   "execution_count": 35,
   "metadata": {},
   "outputs": [
    {
     "output_type": "execute_result",
     "data": {
      "text/plain": [
       "array([     1,      2,      3, ..., 193583, 193587, 193609])"
      ]
     },
     "metadata": {},
     "execution_count": 35
    }
   ],
   "source": [
    "np.array(user_list)\r\n",
    "np.sort(np.array(list(movie_popular.keys())))\r\n",
    "\r\n",
    "np.array"
   ]
  },
  {
   "cell_type": "code",
   "execution_count": 34,
   "metadata": {},
   "outputs": [
    {
     "output_type": "execute_result",
     "data": {
      "text/plain": [
       "1"
      ]
     },
     "metadata": {},
     "execution_count": 34
    }
   ],
   "source": [
    "a = {(1,2):2, (2,1):3, (1, 2):4}\n",
    "a \n",
    "a.get(2,1)"
   ]
  },
  {
   "cell_type": "code",
   "execution_count": null,
   "metadata": {},
   "outputs": [],
   "source": [
    "def sim_movie(trainSet, movie_popular):\n",
    "    sim = tl.Similarity()\n",
    "    movie_sim_matrix = {}\n",
    "    i = 0\n",
    "    max = len(movie_popular)\n",
    "    # 遍历训练数据，获得用户对有过的行为的物品\n",
    "\n",
    "    movie_list = list(movie_popular.keys())\n",
    "\n",
    "    for i1 in range(0, len(movie_list)):\n",
    "        # 遍历该用户每件物品项\n",
    "        for i2 in range(i1, len(movie_list)):\n",
    "            # 遍历该用户每件物品项\n",
    "            \n",
    "            m1, m2 = movie_list[i1], movie_list[i2]\n",
    "\n",
    "            movie_sim_matrix.setdefault(m1, {})\n",
    "            movie_sim_matrix.setdefault(m2, {})\n",
    "            if m1 == m2:\n",
    "                movie_sim_matrix[m1].setdefault(m2,1)\n",
    "                continue \n",
    "                \n",
    "            u1 = trainSet.get(m1)\n",
    "            u2 = trainSet.get(m2)\n",
    "            \n",
    "            simi = sim.cosine_similarity(u1,u2)\n",
    "\n",
    "            movie_sim_matrix[m1].setdefault(m2, simi)\n",
    "            movie_sim_matrix[m2].setdefault(m1, simi)\n",
    "        i += 1\n",
    "        print(\"\\r{0}%\".format(round(i/max*100,4)), end='')\n",
    "        \n",
    "    print()\n",
    "    # movie and movie 矩阵\n",
    "    print(\"Build 同现矩阵co-rated users matrix success!\")\n",
    "    return movie_sim_matrix"
   ]
  },
  {
   "cell_type": "code",
   "execution_count": null,
   "metadata": {},
   "outputs": [],
   "source": [
    "path = r\"F:\\毕业设计\\ItemCF和UserCF协同过滤算法参考代码\\MovieRecommendation-master\\UserCF\" \n",
    "glob.glob(path+'\\*data*')\n",
    "from contextlib import closing\n",
    "import shelve\n",
    "\n",
    "def data_init(path):\n",
    "    #self.trainSet, self.testSet = load_data.get_dataset(path)\n",
    "    #  读取测试数据 \n",
    "    with closing(shelve.open(path,'r')) as shelf:\n",
    "        trainSet = shelf['train']\n",
    "        testSet = shelf['test']\n",
    "\n",
    "    print(\"train data\",len(trainSet),\"- test data\",len(testSet))\n",
    "    return trainSet, testSet\n",
    "trainSet, testSet = data_init(path+'\\\\time0data')\n"
   ]
  },
  {
   "cell_type": "code",
   "execution_count": null,
   "metadata": {},
   "outputs": [],
   "source": [
    "a = pd.Series(trainSet['1'])\n",
    "b = pd.Series(trainSet['2'])\n",
    "print(type(a),type(b))\n"
   ]
  },
  {
   "cell_type": "code",
   "execution_count": null,
   "metadata": {},
   "outputs": [],
   "source": [
    "pd.DataFrame(trainSet)"
   ]
  },
  {
   "cell_type": "code",
   "execution_count": null,
   "metadata": {},
   "outputs": [],
   "source": [
    "def sim_by_series(a,b):\n",
    "    mul_a_b = a.astype(np.float).mul(b.astype(np.float), fill_value=0).sum()\n",
    "    a2 = np.sqrt(np.sum(a.astype(np.float).mul(a.astype(np.float),fill_value=0)))\n",
    "    b2 = np.sqrt(np.sum(b.astype(np.float).mul(b.astype(np.float),fill_value=0)))\n",
    "    return mul_a_b / (a2 * b2)\n",
    "\n",
    "# 余弦相似度\n",
    "def cosine(x,y):\n",
    "    x = pd.Series(x)\n",
    "    y = pd.Series(y) \n",
    "    xy = x.astype(float).mul(y.astype(float), fill_value=0)\n",
    "    x = np.linalg.norm(x.values.astype(float),2)\n",
    "    y = np.linalg.norm(y.values.astype(float),2)\n",
    "    return xy.sum() / (x*y)\n",
    "\n",
    "\n",
    "cosine(trainSet.get('3'),trainSet.get('2'))\n"
   ]
  },
  {
   "cell_type": "code",
   "execution_count": null,
   "metadata": {},
   "outputs": [],
   "source": [
    "# 计算电影之间的相似度, 利用其他算法\n",
    "def calc_movie_sim_test(trainSet, func):\n",
    "    movie_sim_matrix = {}\n",
    "\n",
    "    for user1 in trainSet.keys():\n",
    "        movie_sim_matrix.setdefault(user1, {})\n",
    "        for user2 in trainSet.keys():\n",
    "            if user1 == user2:\n",
    "                movie_sim_matrix.get(user1).setdefault(user2, 1)\n",
    "            else:\n",
    "                movie_sim_matrix.get(user1).setdefault(user2, func(trainSet.get(user1), trainSet.get(user2)))\n",
    "    # movie{1,2}=sim\n",
    "    return  movie_sim_matrix\n"
   ]
  },
  {
   "cell_type": "code",
   "execution_count": null,
   "metadata": {},
   "outputs": [],
   "source": [
    "func = cosine\n",
    "pd.DataFrame(calc_movie_sim_test(trainSet, func))"
   ]
  },
  {
   "cell_type": "code",
   "execution_count": null,
   "metadata": {},
   "outputs": [],
   "source": [
    "sim_user = np.array(np.zeros((1000,1000)))\n",
    "\n",
    "for i in trainSet.keys():\n",
    "    a = pd.Series(trainSet[i])\n",
    "    for j in trainSet.keys():\n",
    "#         print(i,j)\n",
    "        b = pd.Series(trainSet[j])\n",
    "        sim_user[int(i),int(j)] = sim_by_series(a,b)\n",
    "        pass\n",
    "sim_user"
   ]
  },
  {
   "cell_type": "code",
   "execution_count": null,
   "metadata": {},
   "outputs": [],
   "source": [
    "pd.DataFrame(sim_user)"
   ]
  },
  {
   "cell_type": "code",
   "execution_count": null,
   "metadata": {},
   "outputs": [],
   "source": [
    "np.sum(mul_a_b) / (a2*b2)"
   ]
  },
  {
   "cell_type": "code",
   "execution_count": null,
   "metadata": {},
   "outputs": [],
   "source": [
    "sim_user = np.array(np.zeros((10,10)))\n",
    "print(sim_user)"
   ]
  },
  {
   "cell_type": "code",
   "execution_count": null,
   "metadata": {},
   "outputs": [],
   "source": [
    "import sys,time\n",
    "for i in range(100):\n",
    "    sys.stdout.write(‘\\r%s%%‘%(i+1))\n",
    "    sys.stdout.flush()\n",
    "    time.sleep(0.1)"
   ]
  }
 ],
 "metadata": {
  "kernelspec": {
   "name": "python362jvsc74a57bd0c68fb794aad12bd82f7abc6229177b707cb4fe0fead52f40f954c06bbfa18d56",
   "display_name": "Python 3.6.2 64-bit ('newpy3': conda)"
  },
  "language_info": {
   "codemirror_mode": {
    "name": "ipython",
    "version": 3
   },
   "file_extension": ".py",
   "mimetype": "text/x-python",
   "name": "python",
   "nbconvert_exporter": "python",
   "pygments_lexer": "ipython3",
   "version": "3.6.2"
  }
 },
 "nbformat": 4,
 "nbformat_minor": 2
}