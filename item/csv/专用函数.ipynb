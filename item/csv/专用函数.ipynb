{
 "metadata": {
  "language_info": {
   "codemirror_mode": {
    "name": "ipython",
    "version": 3
   },
   "file_extension": ".py",
   "mimetype": "text/x-python",
   "name": "python",
   "nbconvert_exporter": "python",
   "pygments_lexer": "ipython3",
   "version": 3
  },
  "orig_nbformat": 2
 },
 "nbformat": 4,
 "nbformat_minor": 2,
 "cells": [
  {
   "source": [
    "# numpy 排序函数\n",
    "1. sort()\n",
    "2. lexsort()\n",
    "3. argsort()\n",
    "4. ndarray.sort()\n",
    "5. msort()\n",
    "6. sort_complex()\n"
   ],
   "cell_type": "markdown",
   "metadata": {}
  },
  {
   "cell_type": "code",
   "execution_count": null,
   "metadata": {},
   "outputs": [],
   "source": [
    "import numpy as np\n",
    "import datetime\n",
    "\n",
    "def datestr2num(s):\n",
    "    return datetime.datetime.strptime"
   ]
  }
 ]
}