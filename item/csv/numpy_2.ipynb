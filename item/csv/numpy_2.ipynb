{
 "metadata": {
  "language_info": {
   "codemirror_mode": {
    "name": "ipython",
    "version": 3
   },
   "file_extension": ".py",
   "mimetype": "text/x-python",
   "name": "python",
   "nbconvert_exporter": "python",
   "pygments_lexer": "ipython3",
   "version": "3.6.2"
  },
  "orig_nbformat": 2,
  "kernelspec": {
   "name": "python362jvsc74a57bd0c68fb794aad12bd82f7abc6229177b707cb4fe0fead52f40f954c06bbfa18d56",
   "display_name": "Python 3.6.2 64-bit ('newpy3': conda)"
  }
 },
 "nbformat": 4,
 "nbformat_minor": 2,
 "cells": [
  {
   "cell_type": "code",
   "execution_count": 4,
   "metadata": {},
   "outputs": [
    {
     "output_type": "stream",
     "name": "stdout",
     "text": [
      "[[1. 0.]\n [0. 1.]]\n"
     ]
    }
   ],
   "source": [
    "import numpy as np\n",
    "i1 = np.eye(2)\n",
    "print(i1)"
   ]
  },
  {
   "source": [
    "# lodatxt 函数：\n",
    "1. 要每列数据类型一致，即，表头要特殊处理\n",
    "2. 拆分列数下标从0 开始 "
   ],
   "cell_type": "markdown",
   "metadata": {}
  },
  {
   "cell_type": "code",
   "execution_count": 2,
   "metadata": {},
   "outputs": [
    {
     "output_type": "stream",
     "name": "stdout",
     "text": [
      "0 \n1 train_len\n2 test_len\n3 rec_len\n4 hit\n5 precision\n6 recall\n7 f1_score\n\n"
     ]
    }
   ],
   "source": [
    "with open('userCF_2_3.csv', 'r') as f:\n",
    "    head = f.readline().split(',')\n",
    "for i,v in enumerate(head):\n",
    "    print(i,v)"
   ]
  },
  {
   "cell_type": "code",
   "execution_count": 8,
   "metadata": {},
   "outputs": [
    {
     "output_type": "execute_result",
     "data": {
      "text/plain": [
       "4"
      ]
     },
     "metadata": {},
     "execution_count": 8
    }
   ],
   "source": [
    "x = 0 if -1 > 0 else 4\n",
    "x"
   ]
  },
  {
   "cell_type": "code",
   "execution_count": 5,
   "metadata": {},
   "outputs": [
    {
     "output_type": "stream",
     "name": "stdout",
     "text": [
      "610 610 610\n"
     ]
    }
   ],
   "source": [
    "precision, recall, f1_score = np.loadtxt('data.csv', delimiter=',',usecols=(5,6,7), unpack=True)\n",
    "# print(c)\n",
    "print(len(precision), len(recall), len(f1_score))"
   ]
  },
  {
   "cell_type": "code",
   "execution_count": 7,
   "metadata": {},
   "outputs": [
    {
     "output_type": "stream",
     "name": "stdout",
     "text": [
      "[ 6.  1.  0.  2.  4. 10.  3.  6.  0.  1.  6.  0.  1.  7.  9.  5.  4. 14.\n 13.  6. 11.  4.  5.  1.  6.  4.  4. 11.  0.  3.  5.  5.  2.  1.  2.  0.\n  6. 11.  5.  4.  5.  4.  7.  2. 11. 10.  0.  0.  0.  2.  1.  3.  0.  5.\n  1.  8. 12.  7.  5.  0.  2.  9.  7.  6.  2.  7.  3. 14.  1.  0.  1.  5.\n  5.  2.  2.  6.  4.  6.  3.  6.  4.  7.  5.  8.  0.  6.  0.  4.  2.  2.\n 15.  0.  2.  3.  4.  4.  2.  1.  3.  2.  2.  7.  8.  4. 12.  6.  3.  0.\n 11.  2.  7.  2.  2.  2.  3.  4. 11.  3.  8.  3.  5.  5.  3.  0.  1.  6.\n  0.  1.  7.  5.  5.  7.  5.  3.  7.  7.  7.  1.  4.  9.  8.  9.  2.  3.\n  5.  0.  0.  5.  5.  4.  3.  2.  1.  2.  1. 10.  1.  0.  2. 11.  2.  2.\n  0.  3.  3.  9.  8.  2.  9.  8.  7.  1.  3.  7.  0.  6. 10.  4.  9.  3.\n  6. 14.  3.  3.  1.  8.  8.  1.  5.  5.  6.  4.  2.  0.  3.  1.  0.  8.\n  5.  8.  6. 12.  1.  2.  2.  5.  0.  1.  5.  5.  3.  6.  3.  1.  3.  6.\n 11.  1. 14.  8.  5.  5.  4.  3.  3.  7.  3.  2.  8.  4.  2. 11.  6.  2.\n  6.  1.  0.  0. 12.  8.  2.  5.  2.  2.  0.  4. 14.  2. 16.  0.  1.  1.\n  0.  9.  1.  2.  0.  0.  0.  2.  2.  4.  6.  4.  3.  9.  2.  2.  2.  3.\n  1.  1.  5. 19.  2.  0.  0.  1.  6.  5.  0.  5.  1.  8.  1.  3.  1. 12.\n  2.  8.  1.  8.  0.  5.  3.  4.  5. 10.  2.  1.  5.  4.  4.  7.  9.  3.\n 14.  3.  0.  1.  0.  5. 15. 10.  1.  4.  5.  5.  3.  1. 10.  4.  5.  0.\n  1.  5.  1.  9.  1. 16.  4.  8.  2.  4.  6.  3.  1.  2.  5.  3.  0.  1.\n  2.  1.  2.  5.  9.  4.  5.  1.  4.  8.  5.  8.  0.  4.  9.  0.  2.  1.\n  4.  3.  1.  3.  5.  3.  2.  9.  0.  6.  0.  3.  6.  6.  0.  8.  0.  4.\n  9. 15.  9.  3.  1.  1.  8.  6.  8.  2.  3.  0.  8.  3.  5.  5.  7.  0.\n  0.  2.  4.  3.  1.  2.  0.  7.  2.  0.  1.  2.  4.  3. 13.  1.  1. 19.\n  7.  3.  3.  2.  3.  3.  1.  2.  4.  6. 13.  3.  1.  8.  5.  1.  0.  9.\n  1. 12.  3.  8.  2. 14.  2.  1.  1.  0.  3.  5.  1.  9.  9.  9.  1.  0.\n  6. 11.  9.  2. 10.  2.  5.  8.  1.  6.  2.  9.  2.  8.  3.  7.  1.  5.\n 11.  9.  3.  3.  0. 15.  6.  6. 10.  0.  2. 17.  1.  1. 17.  2.  3.  9.\n  6.  4. 11.  3.  1.  4.  4.  4.  5.  0.  5.  6.  0.  2.  2.  0.  5.  4.\n  2.  0.  4.  0.  8.  1.  2.  4.  0.  7.  1.  0.  8.  0.  0.  9.  4.  7.\n  1.  9.  5.  0.  3.  3.  1.  3.  0.  1.  1. 11.  2.  2.  2.  0.  3.  0.\n 11.  5.  0.  2.  0.  2.  1.  0.  2.  2.  7.  2.  4.  3. 11.  2.  4.  1.\n 11.  8. 10.  4.  1.  4.  3.  8.  7.  1.  3.  9.  2.  3. 11.  4.  0.  0.\n  6.  0.  5. 12.  4.  6.  0. 16.  3.  4.  5.  8.  0. 15.  2.  9.  1.  5.\n  0.  8.  8.  0. 14.  9.  6. 10.  9.  5.  5. 13.  8. 12.  6. 15.] [14. 19. 20. 18. 16. 10. 17. 14. 20. 19. 14. 20. 19. 13. 11. 15. 16.  6.\n  7. 14.  9. 16. 15. 19. 14. 16. 16.  9. 20. 17. 15. 15. 18. 19. 18. 20.\n 14.  9. 15. 16. 15. 16. 13. 18.  9. 10. 20. 20. 20. 18. 19. 17. 20. 15.\n 19. 12.  8. 13. 15. 20. 18. 11. 13. 14. 18. 13. 17.  6. 19. 20. 19. 15.\n 15. 18. 18. 14. 16. 14. 17. 14. 16. 13. 15. 12. 20. 14. 20. 16. 18. 18.\n  5. 20. 18. 17. 16. 16. 18. 19. 17. 18. 18. 13. 12. 16.  8. 14. 17. 20.\n  9. 18. 13. 18. 18. 18. 17. 16.  9. 17. 12. 17. 15. 15. 17. 20. 19. 14.\n 20. 19. 13. 15. 15. 13. 15. 17. 13. 13. 13. 19. 16. 11. 12. 11. 18. 17.\n 15. 20. 20. 15. 15. 16. 17. 18. 19. 18. 19. 10. 19. 20. 18.  9. 18. 18.\n 20. 17. 17. 11. 12. 18. 11. 12. 13. 19. 17. 13. 20. 14. 10. 16. 11. 17.\n 14.  6. 17. 17. 19. 12. 12. 19. 15. 15. 14. 16. 18. 20. 17. 19. 20. 12.\n 15. 12. 14.  8. 19. 18. 18. 15. 20. 19. 15. 15. 17. 14. 17. 19. 17. 14.\n  9. 19.  6. 12. 15. 15. 16. 17. 17. 13. 17. 18. 12. 16. 18.  9. 14. 18.\n 14. 19. 20. 20.  8. 12. 18. 15. 18. 18. 20. 16.  6. 18.  4. 20. 19. 19.\n 20. 11. 19. 18. 20. 20. 20. 18. 18. 16. 14. 16. 17. 11. 18. 18. 18. 17.\n 19. 19. 15.  1. 18. 20. 20. 19. 14. 15. 20. 15. 19. 12. 19. 17. 19.  8.\n 18. 12. 19. 12. 20. 15. 17. 16. 15. 10. 18. 19. 15. 16. 16. 13. 11. 17.\n  6. 17. 20. 19. 20. 15.  5. 10. 19. 16. 15. 15. 17. 19. 10. 16. 15. 20.\n 19. 15. 19. 11. 19.  4. 16. 12. 18. 16. 14. 17. 19. 18. 15. 17. 20. 19.\n 18. 19. 18. 15. 11. 16. 15. 19. 16. 12. 15. 12. 20. 16. 11. 20. 18. 19.\n 16. 17. 19. 17. 15. 17. 18. 11. 20. 14. 20. 17. 14. 14. 20. 12. 20. 16.\n 11.  5. 11. 17. 19. 19. 12. 14. 12. 18. 17. 20. 12. 17. 15. 15. 13. 20.\n 20. 18. 16. 17. 19. 18. 20. 13. 18. 20. 19. 18. 16. 17.  7. 19. 19.  1.\n 13. 17. 17. 18. 17. 17. 19. 18. 16. 14.  7. 17. 19. 12. 15. 19. 20. 11.\n 19.  8. 17. 12. 18.  6. 18. 19. 19. 20. 17. 15. 19. 11. 11. 11. 19. 20.\n 14.  9. 11. 18. 10. 18. 15. 12. 19. 14. 18. 11. 18. 12. 17. 13. 19. 15.\n  9. 11. 17. 17. 20.  5. 14. 14. 10. 20. 18.  3. 19. 19.  3. 18. 17. 11.\n 14. 16.  9. 17. 19. 16. 16. 16. 15. 20. 15. 14. 20. 18. 18. 20. 15. 16.\n 18. 20. 16. 20. 12. 19. 18. 16. 20. 13. 19. 20. 12. 20. 20. 11. 16. 13.\n 19. 11. 15. 20. 17. 17. 19. 17. 20. 19. 19.  9. 18. 18. 18. 20. 17. 20.\n  9. 15. 20. 18. 20. 18. 19. 20. 18. 18. 13. 18. 16. 17.  9. 18. 16. 19.\n  9. 12. 10. 16. 19. 16. 17. 12. 13. 19. 17. 11. 18. 17.  9. 16. 20. 20.\n 14. 20. 15.  8. 16. 14. 20.  4. 17. 16. 15. 12. 20.  5. 18. 11. 19. 15.\n 20. 12. 12. 20.  6. 11. 14. 10. 11. 15. 15.  7. 12.  8. 14.  5.] [ 48.   8.   6.  35.   5.  79.  32.   4.  14.  31.   9.  10.  10.  10.\n  26.  23.  29. 118. 187.  58. 111.  28.  32.  22.   1.   4.  28. 132.\n  24.   5.   8.  21.  35.  21.   5.  11.   1.  13.  16.  24.  42.  95.\n  18.  11.  95.   8.  33.  12.   4.  85.  88.  28.   3.   1.   2.   8.\n 118.  16.  21.   2.   8.  91.  58. 114.   5.  78.   4. 294.  11.  14.\n   6.   6.  46.  44.  11.  25.   3.   8.  11.  47.   1.  48.  28.  63.\n  12.  16.   4.  12. 128.   7. 134.   8.  16.   6.  36.  13.   7.  18.\n   5.  29.  11.   8.  90.  57. 193.   3.   4.  27.  28.  12. 123.   9.\n  30.   2.  21.  20.  34.   5.  44.   3.  12.  63.  12.   9.  84.   1.\n   7.   6.  19.   1.  16.  78.   4.   3.  62.  22.  20.   4.  36. 146.\n  32.   8.  14.  25.   1.   4.   6.   5.   8.   2.  13.   8.  47.   6.\n  12.  89.   3.   9.  22.  92.   5.   7.   6.   7.  19.  38.  40.  18.\n  54.  12.  17.   5.   1.  12.   2.   3. 213.  22.   8.   3.  30. 242.\n   8.  25.   9.  51.  66.  10.   2.   8.  21.   2.   0.   8.  32.   5.\n  10.  62.  87.  71.  24.  77.   8.  17.   4.   5.   6.   7.   8.  30.\n  15.  61.  19.   5.  20.  38. 134.   5. 112.  41.  71.  53.  14.  10.\n  16. 110.  18.   5.   9.  29.   3. 188.  28.  47.  10.   7.   9.  10.\n  71.  21.  18.   3.   6.  25.   6.  54.  32.  14. 233.   8.   2.   7.\n  12.  22.  14.  36.   6.   8.  10.  29.  11.  11.  43.   7.  37.  30.\n  11.  30.   3.   3.  11.  10.  11. 312.  93.   7.   7.   3.  40.  48.\n   6.  65.  10.  15.   9.  27.  40. 272.   7.  58.   4.  89.   3. 100.\n   6.   7.   8. 223.   6.   6.  27.   4.   6.  42. 162.  19. 247.  26.\n  20.   9.   8.  45.  84.  22.   6.  12.  49. 222.  11.   8.   4.  30.\n  24.   4.  65.  41.  12.  50.   3.  60.  43.  55.   8.  36.   7.   7.\n  18.   7. 101.   1.  18.  14.  10.  20.  14.  37.   0.   8.   3.  11.\n  29.  65.  14.  43.   6.  70.  88.  13.  23.  10.  24.  14.   5.   4.\n  59.   4.  45.  98.  33.  21.   7.  49.  27.   4.   5.  32.  31.   9.\n   2. 286. 107.  64.  11.  16.  39.  14. 246.   6.   7.  12.  84.   4.\n  29.   4.  10.   7.   7.  11.   5.   3.  12.  11.   5.   6.  33.   4.\n   3.  31.  29.  41.  17.  21.   9. 652.  16.   8.   9.  18.  46.  26.\n   9.  23.   4.  35.  67.  17.  14.  78.  14.   9.   7.  64.   4.  42.\n  11.  19.  25. 135.   5.   7.   6.   8.   6.  12.  17.  11.  10. 460.\n   7.  11.   3.  44.  68.  13.   4.   7.   6.   9.   6.  14.   2. 106.\n   7.  35.  27.  25.   7.   2. 111.   9.   6.   8.   7. 500.  34.  12.\n 139.   5.  49. 212.   5.  32. 170.  56.   0.   6.  12.  29. 168.  32.\n  12.  23.  18.   1.  66.  11.   5.   1.   6.  12.   7.   8.  18.  18.\n  12.  10.   3.   6. 101.  30.   6.   4.   4.  94.   2.   4.  78.   4.\n   7.  38.   4.  48.  21.  26. 122.  16.  41.  19.   3.   4.   3.  12.\n  10. 108.   6.   1.  10.   7.  13.   7.  18.  21.  18.   5.   2.  13.\n   3.   5.   0.   1.  28.  40.  15.  23. 134.   4.   2.  15.  25. 102.\n 117.  52.  50.  30.   1.  11.  91.   6.   0.  43.  22.  51.  70.   3.\n   8.   4.  32.   7.  18.  85.   4.  11.  13.  13.  16.  49.  34.  10.\n   9. 166.   7.  16.  15.  52.   3.  93. 107.   1. 578. 168.  23.  25.\n 222.  24.  54. 273.  48. 187.   5. 332.]\n"
     ]
    }
   ],
   "source": [
    "test, rec, hit = np.loadtxt('data.csv', delimiter=',',usecols=(2, 3,4), unpack=True)\n",
    "tp = hit \n",
    "fp = rec - hit\n",
    "tn = test - hit \n",
    "print(tp, fp, tn)"
   ]
  },
  {
   "cell_type": "code",
   "execution_count": 7,
   "metadata": {},
   "outputs": [
    {
     "output_type": "stream",
     "name": "stdout",
     "text": [
      "610 610 610\n530 530 530\n0.25349056603773584 0.22509289779127845 0.18469068546613573\n"
     ]
    }
   ],
   "source": [
    "precision, recall, f1_score = np.loadtxt('data.csv', delimiter=',',usecols=(5,6,7), unpack=True)\n",
    "pre = np.where(precision > 0)\n",
    "rec = np.where(recall > 0)\n",
    "f1 = np.where(f1_score > 0)\n",
    "print(len(precision), len(recall), len(f1_score))\n",
    "a = precision[pre]\n",
    "b = recall[rec]\n",
    "c = f1_score[f1]\n",
    "print(len(precision[pre]), len(recall[rec]), len(f1_score[f1]))\n",
    "def pingjia(**a):\n",
    "    print(len(a))\n",
    "print(np.mean(a), np.mean(b), np.mean(c))"
   ]
  },
  {
   "source": [
    "加权平均值\n",
    "1. np.average\n",
    "算数平均值\n",
    "2. np.mean"
   ],
   "cell_type": "markdown",
   "metadata": {}
  },
  {
   "cell_type": "code",
   "execution_count": 78,
   "metadata": {},
   "outputs": [
    {
     "output_type": "stream",
     "name": "stdout",
     "text": [
      "0.22024590163934427\n0.22024590163934427\n"
     ]
    }
   ],
   "source": [
    "c_ave = np.average(c)\n",
    "print(c_ave)\n",
    "print(np.mean(c))"
   ]
  },
  {
   "cell_type": "code",
   "execution_count": 23,
   "metadata": {},
   "outputs": [
    {
     "output_type": "stream",
     "name": "stdout",
     "text": [
      "mean =  0.25349056603773584 530\nmax =  0.95 \nmin =  0.05 \nmedian =  0.2\n\nmean =  0.22509289779127845 530\nmax =  1.0 \nmin =  0.011235955056179775 \nmedian =  0.15075757575757576\n\nmean =  0.18469068546613573 530\nmax =  0.6530612244897959 \nmin =  0.01834862385321101 \nmedian =  0.15268065268065267\n\n"
     ]
    }
   ],
   "source": [
    "def pingjia(*a,**k):\n",
    "    for i in a:\n",
    "        print(\"mean = \",np.mean(i), \"len = \",len(i))\n",
    "        print(\"max = \",np.max(i), \"\\nmin = \",\n",
    "        np.min(i), \"\\nmedian = \", np.median(i))    \n",
    "        print()\n",
    "    # print(k)\n",
    "pingjia(a,b,c)"
   ]
  },
  {
   "cell_type": "code",
   "execution_count": 32,
   "metadata": {},
   "outputs": [
    {
     "output_type": "stream",
     "name": "stdout",
     "text": [
      "[20]\nmean =  0.25349056603773584 530\nmax =  0.95 \nmin =  0.05 \nmedian =  0.2\n\nmean =  0.22509289779127845 530\nmax =  1.0 \nmin =  0.011235955056179775 \nmedian =  0.15075757575757576\n\nmean =  0.18469068546613573 530\nmax =  0.6530612244897959 \nmin =  0.01834862385321101 \nmedian =  0.15268065268065267\n\n"
     ]
    }
   ],
   "source": [
    "d = pingjia\n",
    "x = [10]\n",
    "def f(x):\n",
    "    x.append(20)\n",
    "    x.index(10)\n",
    "    del(x[0])\n",
    "f(x)\n",
    "print(x)\n",
    "d(a,b,c)"
   ]
  },
  {
   "source": [
    "取值范围：最大值最小值\n"
   ],
   "cell_type": "markdown",
   "metadata": {}
  },
  {
   "cell_type": "code",
   "execution_count": 80,
   "metadata": {},
   "outputs": [
    {
     "output_type": "stream",
     "name": "stdout",
     "text": [
      "0.95\n0.0\n0.95\n"
     ]
    }
   ],
   "source": [
    "print(np.max(c))\n",
    "print(np.min(c))\n",
    "print(np.ptp(c))"
   ]
  },
  {
   "cell_type": "code",
   "execution_count": 81,
   "metadata": {},
   "outputs": [
    {
     "output_type": "stream",
     "name": "stdout",
     "text": [
      "2057229977280 2057230111648\n2057230111648 2057230111648\n2057226586656 2057230111648\n"
     ]
    }
   ],
   "source": [
    "print(id(c[:]),id(c))\n",
    "d = c\n",
    "print(id(d), id(c))\n",
    "print(id(c.copy), id(c))"
   ]
  },
  {
   "source": [
    "对于异常数据的处理\n",
    "\n",
    "1. 中位数：np.median"
   ],
   "cell_type": "markdown",
   "metadata": {}
  },
  {
   "cell_type": "code",
   "execution_count": 60,
   "metadata": {},
   "outputs": [
    {
     "output_type": "stream",
     "name": "stdout",
     "text": [
      "9.0\n9\n"
     ]
    }
   ],
   "source": [
    "s =  np.arange(19)\n",
    "print(np.median(s))\n",
    "print(s[int(np.floor(len(s)/2))])"
   ]
  },
  {
   "cell_type": "code",
   "execution_count": 49,
   "metadata": {},
   "outputs": [
    {
     "output_type": "stream",
     "name": "stdout",
     "text": [
      "0.15\n"
     ]
    }
   ],
   "source": [
    "# 中位数\n",
    "print(np.median(c))"
   ]
  },
  {
   "cell_type": "code",
   "execution_count": 65,
   "metadata": {},
   "outputs": [
    {
     "output_type": "stream",
     "name": "stdout",
     "text": [
      "0.0362745296963182\n0.0362745296963182\n"
     ]
    }
   ],
   "source": [
    "# 方差\n",
    "print(np.var(c))\n",
    "print(np.mean((c - np.mean(c)) ** 2))"
   ]
  },
  {
   "cell_type": "code",
   "execution_count": 75,
   "metadata": {},
   "outputs": [
    {
     "output_type": "stream",
     "name": "stdout",
     "text": [
      "median = 0.1259920634920635\nvariance = 0.039831096194620184\nvariance from definition = 0.039831096194620184\n"
     ]
    }
   ],
   "source": [
    "# import numpy as np \n",
    "# c=np.loadtxt('data.csv', delimiter=',', usecols=(6,), unpack=True) \n",
    "# print (\"median =\", np.median(c))\n",
    "# sorted = np.msort(c) \n",
    "# # print (\"sorted =\", sorted) \n",
    "# N = len(c) \n",
    "# # print (\"middle =\", sorted[int((N - 1)/2)] )\n",
    "# # print (\"average middle =\", (sorted[N /2] + sorted[(N - 1) / 2]) / 2 )\n",
    "# print (\"variance =\", np.var(c) )\n",
    "# print (\"variance from definition =\", np.mean((c - c.mean())**2))"
   ]
  },
  {
   "source": [
    "re = np.diff(c)\n",
    "\n",
    "用std函数计算标准差："
   ],
   "cell_type": "markdown",
   "metadata": {}
  },
  {
   "cell_type": "code",
   "execution_count": 95,
   "metadata": {},
   "outputs": [],
   "source": [
    "re = np.diff(c)\n",
    "# 用std函数计算标准差：\n",
    "# print(np.std(c))"
   ]
  },
  {
   "cell_type": "code",
   "execution_count": 96,
   "metadata": {},
   "outputs": [],
   "source": [
    "# print(np.diff(np.log(c)))"
   ]
  },
  {
   "source": [
    "np.where 即可输出该数组中所有正值元素的索引\n",
    "\n",
    "where函数可以根据指定的条件返回所有满足条件的数组元素的索引值"
   ],
   "cell_type": "markdown",
   "metadata": {}
  },
  {
   "cell_type": "code",
   "execution_count": 94,
   "metadata": {},
   "outputs": [
    {
     "output_type": "execute_result",
     "data": {
      "text/plain": [
       "0.05"
      ]
     },
     "metadata": {},
     "execution_count": 94
    }
   ],
   "source": [
    "cc = np.where(c > 0)\n",
    "np.min(c[cc])"
   ]
  },
  {
   "source": [
    "在投资学中，波动率（volatility）是对价格变动的一种度量。历史波动率可以根据历史价格数据计算得出。计算历史波动率（如年波动率或月波动率）时，需要用到对数收益率。年波动率等于对数收益率的标准差除以其均值，再除以交易日倒数的平方根，通常交易日取252天。我们用std和mean函数来计算，"
   ],
   "cell_type": "markdown",
   "metadata": {}
  },
  {
   "cell_type": "code",
   "execution_count": 98,
   "metadata": {},
   "outputs": [
    {
     "output_type": "stream",
     "name": "stdout",
     "text": [
      "0.18254512211810417\n0.25349056603773584\n"
     ]
    }
   ],
   "source": [
    "print(np.std(c[cc]))\n",
    "print(np.mean(c[cc]))"
   ]
  },
  {
   "source": [
    "总结\n",
    "\n",
    "我们用计算数组相邻元素差值的diff函数计算了简单收益率，用计算数组元素自然对数的\n",
    "\n",
    "log函数计算了对数收益率。最后，我们计算了年波动率和月波动率。\n",
    "```\n",
    "import numpy as np \n",
    "c=np.loadtxt('data.csv', delimiter=',', usecols=(6,), unpack=True) \n",
    "returns = np.diff( c ) / c[ : -1] \n",
    "print \"Standard deviation =\", np.std(returns) \n",
    "logreturns = np.diff( np.log(c) ) \n",
    "posretindices = np.where(returns > 0) \n",
    "print \"Indices with positive returns\", posretindices \n",
    "annual_volatility = np.std(logreturns)/np.mean(logreturns) \n",
    "annual_volatility = annual_volatility / np.sqrt(1./252.) \n",
    "print \"Annual volatility\", annual_volatility \n",
    "print \"Monthly volatility\", annual_volatility * np.sqrt(1./12.)\n",
    "```"
   ],
   "cell_type": "markdown",
   "metadata": {}
  },
  {
   "source": [
    "### 日期分析\n",
    "datetime 日期格式化符号\n",
    "```\n",
    "%a 星期几的简写;如 星期三为Web \n",
    "%A 星期几的全称;如 星期三为Wednesday \n",
    "%b 月份的简写; 如4月份为Apr \n",
    "%B 月份的全称; 如4月份为April \n",
    "%c 标准的日期的时间串;（如： 04/07/10 10:43:39） \n",
    "%C 年份的后两位数字 \n",
    "%d 十进制表示的每月的第几天 \n",
    "%D 月/天/年 \n",
    "%e 在两字符域中，十进制表示的每月的第几天 \n",
    "%F 年-月-日 \n",
    "%g 年份的后两位数字，使用基于周的年 \n",
    "%G 年分，使用基于周的年 \n",
    "%h 简写的月份名 \n",
    "%H 24小时制的小时 \n",
    "%I 12小时制的小时 \n",
    "%j 十进制表示的每年的第几天 \n",
    "%m 十进制表示的月份 \n",
    "%M 十时制表示的分钟数 \n",
    "%n 新行符 \n",
    "%p 本地的AM或PM的等价显示 \n",
    "%r 12小时的时间 \n",
    "%R 显示小时和分钟：hh:mm \n",
    "%S 十进制的秒数 \n",
    "%t 水平制表符 \n",
    "%T 显示时分秒：hh:mm:ss \n",
    "%u 每周的第几天，星期一为第一天 （值从0到6，星期一为0） \n",
    "%U 第年的第几周，把星期日做为第一天（值从0到53） \n",
    "%V 每年的第几周，使用基于周的年 \n",
    "%w 十进制表示的星期几（值从0到6，星期天为0） \n",
    "%W 每年的第几周，把星期一做为第一天（值从0到53） \n",
    "%x 标准的日期串 \n",
    "%X 标准的时间串 \n",
    "%y 不带世纪的十进制年份（值从0到99） \n",
    "%Y 带世纪部分的十制年份 \n",
    "%z，%Z 时区名称，如果不能得到时区名称则返回空字符。 \n",
    "%% 百分号\n",
    "```"
   ],
   "cell_type": "markdown",
   "metadata": {}
  },
  {
   "cell_type": "code",
   "execution_count": 112,
   "metadata": {},
   "outputs": [
    {
     "output_type": "execute_result",
     "data": {
      "text/plain": [
       "'星期日'"
      ]
     },
     "metadata": {},
     "execution_count": 112
    }
   ],
   "source": [
    "import datetime\n",
    "def datestr2num(s):\n",
    "    week = [\n",
    "        \"星期一\" ,\n",
    "        \"星期二\" , \n",
    "        \"星期三\" , \n",
    "        \"星期四\" , \n",
    "        \"星期五\" , \n",
    "        \"星期六\" , \n",
    "        \"星期日\" ,\n",
    "    ]\n",
    "    return week[datetime.datetime.strptime(s, \"%d-%m-%Y\").date().weekday()]\n",
    "datestr2num('09-05-2021')\n",
    "# datetime.datetime.strptime('10-05-2021', '%d-%m-%Y').date().weekday()\n",
    "# 这个数字可以是0到6的整数，0代表星期一，6代表星期天"
   ]
  },
  {
   "cell_type": "code",
   "execution_count": 118,
   "metadata": {},
   "outputs": [
    {
     "output_type": "stream",
     "name": "stdout",
     "text": [
      "0.95 240\n0.95\n0.05 1\n0.05\n"
     ]
    }
   ],
   "source": [
    "# max 最大值 argmax 最大值索引\n",
    "print(np.max(c[cc]), np.argmax(c[cc]))\n",
    "print(c[273])\n",
    "print(np.min(c[cc]), np.argmin(c[cc]))\n",
    "print(c[1])"
   ]
  }
 ]
}