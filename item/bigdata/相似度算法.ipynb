{
 "metadata": {
  "language_info": {
   "codemirror_mode": {
    "name": "ipython",
    "version": 3
   },
   "file_extension": ".py",
   "mimetype": "text/x-python",
   "name": "python",
   "nbconvert_exporter": "python",
   "pygments_lexer": "ipython3",
   "version": "3.6.2"
  },
  "orig_nbformat": 2,
  "kernelspec": {
   "name": "python362jvsc74a57bd0c68fb794aad12bd82f7abc6229177b707cb4fe0fead52f40f954c06bbfa18d56",
   "display_name": "Python 3.6.2 64-bit ('newpy3': conda)"
  }
 },
 "nbformat": 4,
 "nbformat_minor": 2,
 "cells": [
  {
   "cell_type": "code",
   "execution_count": 1,
   "metadata": {},
   "outputs": [
    {
     "output_type": "execute_result",
     "data": {
      "text/plain": [
       "array([[7, 1, 9, 7, 5, 5, 7, 3],\n",
       "       [1, 3, 1, 6, 3, 9, 7, 3]])"
      ]
     },
     "metadata": {},
     "execution_count": 1
    }
   ],
   "source": [
    "import numpy as np\n",
    "import pandas as pd\n",
    "from math import * \n",
    "arr = np.random.randint(1,10,(2,8))\n",
    "arr"
   ]
  },
  {
   "cell_type": "code",
   "execution_count": 2,
   "metadata": {},
   "outputs": [],
   "source": [
    "x, y = [3, 5, 2, 9, 4, 1, 1, 6],[9, 1, 2, 8, 5, 4, 2, 5]\n",
    "u = [\n",
    "    [4,4,4,0,0,0,0],\n",
    "    [0,5,0,5,3,5,0],\n",
    "    [4,5,0,5,0,0,0],\n",
    "    [0,5,0,3,0,0,5],\n",
    "]"
   ]
  },
  {
   "source": [
    "1.1 欧氏距离 Eucledian Distance\n",
    "\n",
    "\n",
    "欧氏距离是最常用的距离计算公式，欧式距离可解释为连接两个点的线段的长度，衡量的是多维空间中各个点之间的绝对距离，欧式距离公式非常简单，使用勾股定理从这些点的笛卡尔坐标计算距离。，当数据很稠密并且连续时，这是一种很好的计算方式。\n",
    "\n",
    "因为计算是基于各维度特征的绝对数值，所以欧氏度量需要保证各维度指标在相同的刻度级别，\n",
    "\n",
    "\n",
    "缺点：尽管这是一种常用的距离度量，但欧式距离并不是尺度不变的，这意味着所计算的距离可能会根据特征的单位发生倾斜，比如对身高（cm）和体重（kg）两个单位不同的指标使用欧式距离可能使结果失效。通常，在使用欧式距离度量之前，需要对数据进行归一化处理。\n",
    "此外，随着数据维数的增加，欧氏距离的作用也就越小。这与维数灾难（curse of dimensionality）有关。\n",
    "用例：当你拥有低维数据且向量的大小非常重要时，欧式距离的效果非常好。如果在低维数据上使用欧式距离，则如 k-NN 和 HDBSCAN 之类的方法可达到开箱即用的效果。"
   ],
   "cell_type": "markdown",
   "metadata": {}
  },
  {
   "cell_type": "code",
   "execution_count": 9,
   "metadata": {},
   "outputs": [],
   "source": [
    "x1 = [5.0]\n",
    "x2 = [2.3]"
   ]
  },
  {
   "cell_type": "code",
   "execution_count": 10,
   "metadata": {},
   "outputs": [
    {
     "output_type": "execute_result",
     "data": {
      "text/plain": [
       "2.7"
      ]
     },
     "metadata": {},
     "execution_count": 10
    }
   ],
   "source": [
    "# # 传统python实现\n",
    "# def eucledian_distance(x, y):\n",
    "#     '''x, y : 等长度的list '''\n",
    "#     return sqrt(sum(pow(a - b,2) for a,b in zip(x,y) ))\n",
    "\n",
    "# print(eucledian_distance(x, y))\n",
    "\n",
    "# 使用numpy 改进 \n",
    "import numpy as np\n",
    "def eucledian_distance(x, y):\n",
    "    '''x, y : 等长度的list '''\n",
    "    # x,y = np.array(x), np.array(y)\n",
    "    return np.sqrt(np.sum(np.power(np.array(x) - np.array(y),2)))\n",
    "\n",
    "eucledian_distance(x1,x2)"
   ]
  },
  {
   "cell_type": "code",
   "execution_count": 106,
   "metadata": {},
   "outputs": [
    {
     "output_type": "execute_result",
     "data": {
      "text/plain": [
       "8.06225774829855"
      ]
     },
     "metadata": {},
     "execution_count": 106
    }
   ],
   "source": [
    "# 1.5 标准化欧氏距离\n",
    "def stand_euclidean(x,y,s):\n",
    "    xy = (np.array(x) - np.array(y)) / s\n",
    "    return np.sqrt(np.sum(np.power(xy, 2)))\n",
    "stand_euclidean(x,y,1)"
   ]
  },
  {
   "cell_type": "code",
   "execution_count": 95,
   "metadata": {},
   "outputs": [
    {
     "output_type": "execute_result",
     "data": {
      "text/plain": [
       "          0         1         2         3\n",
       "0  1.000000  9.591663  6.480741  8.185353\n",
       "1  9.591663  1.000000  7.071068  7.937254\n",
       "2  6.480741  7.071068  1.000000  6.708204\n",
       "3  8.185353  7.937254  6.708204  1.000000"
      ],
      "text/html": "<div>\n<style>\n    .dataframe thead tr:only-child th {\n        text-align: right;\n    }\n\n    .dataframe thead th {\n        text-align: left;\n    }\n\n    .dataframe tbody tr th {\n        vertical-align: top;\n    }\n</style>\n<table border=\"1\" class=\"dataframe\">\n  <thead>\n    <tr style=\"text-align: right;\">\n      <th></th>\n      <th>0</th>\n      <th>1</th>\n      <th>2</th>\n      <th>3</th>\n    </tr>\n  </thead>\n  <tbody>\n    <tr>\n      <th>0</th>\n      <td>1.000000</td>\n      <td>9.591663</td>\n      <td>6.480741</td>\n      <td>8.185353</td>\n    </tr>\n    <tr>\n      <th>1</th>\n      <td>9.591663</td>\n      <td>1.000000</td>\n      <td>7.071068</td>\n      <td>7.937254</td>\n    </tr>\n    <tr>\n      <th>2</th>\n      <td>6.480741</td>\n      <td>7.071068</td>\n      <td>1.000000</td>\n      <td>6.708204</td>\n    </tr>\n    <tr>\n      <th>3</th>\n      <td>8.185353</td>\n      <td>7.937254</td>\n      <td>6.708204</td>\n      <td>1.000000</td>\n    </tr>\n  </tbody>\n</table>\n</div>"
     },
     "metadata": {},
     "execution_count": 95
    }
   ],
   "source": [
    "def test_similarity(func):\n",
    "    similar = {}\n",
    "    for i in range(len(u)):\n",
    "        similar.setdefault(i,{})\n",
    "        for j in range(len(u)):\n",
    "            if i == j:\n",
    "                similar.get(i).setdefault(j, 1)\n",
    "                continue\n",
    "            similar.get(i).setdefault(j, func(u[i],u[j]))\n",
    "    return similar\n",
    "pd.DataFrame(test_similarity(eucledian_distance))     "
   ]
  },
  {
   "cell_type": "code",
   "execution_count": 96,
   "metadata": {},
   "outputs": [
    {
     "output_type": "execute_result",
     "data": {
      "text/plain": [
       "    0   1   2   3\n",
       "0   1  22  10  17\n",
       "1  22   1  12  15\n",
       "2  10  12   1  11\n",
       "3  17  15  11   1"
      ],
      "text/html": "<div>\n<style>\n    .dataframe thead tr:only-child th {\n        text-align: right;\n    }\n\n    .dataframe thead th {\n        text-align: left;\n    }\n\n    .dataframe tbody tr th {\n        vertical-align: top;\n    }\n</style>\n<table border=\"1\" class=\"dataframe\">\n  <thead>\n    <tr style=\"text-align: right;\">\n      <th></th>\n      <th>0</th>\n      <th>1</th>\n      <th>2</th>\n      <th>3</th>\n    </tr>\n  </thead>\n  <tbody>\n    <tr>\n      <th>0</th>\n      <td>1</td>\n      <td>22</td>\n      <td>10</td>\n      <td>17</td>\n    </tr>\n    <tr>\n      <th>1</th>\n      <td>22</td>\n      <td>1</td>\n      <td>12</td>\n      <td>15</td>\n    </tr>\n    <tr>\n      <th>2</th>\n      <td>10</td>\n      <td>12</td>\n      <td>1</td>\n      <td>11</td>\n    </tr>\n    <tr>\n      <th>3</th>\n      <td>17</td>\n      <td>15</td>\n      <td>11</td>\n      <td>1</td>\n    </tr>\n  </tbody>\n</table>\n</div>"
     },
     "metadata": {},
     "execution_count": 96
    }
   ],
   "source": [
    "pd.DataFrame(test_similarity(manhattan_distance))     "
   ]
  },
  {
   "source": [
    "1.2 曼哈顿距离 Manhattan Distance"
   ],
   "cell_type": "markdown",
   "metadata": {}
  },
  {
   "cell_type": "code",
   "execution_count": 11,
   "metadata": {},
   "outputs": [
    {
     "output_type": "execute_result",
     "data": {
      "text/plain": [
       "2.7"
      ]
     },
     "metadata": {},
     "execution_count": 11
    }
   ],
   "source": [
    "# 传统python实现\n",
    "def manhattan_distance(x, y):\n",
    "    return sum(abs(a - b) for a,b in zip(x,y) )\n",
    "manhattan_distance(x, y)\n",
    "\n",
    "# \n",
    "def manhattan_distance(x,y):\n",
    "    '''曼哈顿距离'''\n",
    "    # xy = np.abs(x - y)\n",
    "    return np.sum(np.abs(np.array(x) - np.array(y)))\n",
    "manhattan_distance(x1, x2)"
   ]
  },
  {
   "source": [
    "1.4 闵可夫斯基距离 Minkowski distance"
   ],
   "cell_type": "markdown",
   "metadata": {}
  },
  {
   "cell_type": "code",
   "execution_count": 13,
   "metadata": {},
   "outputs": [
    {
     "output_type": "stream",
     "name": "stdout",
     "text": [
      " 2.7\n 2.7\n"
     ]
    }
   ],
   "source": [
    "# 传统python实现\n",
    "def minkowski_distance(x, y, n):\n",
    "    return pow(sum(pow((a - b), n) for a,b in zip(x,y) ), 1/n)\n",
    "print(\"\", minkowski_distance(x1, x2,2))\n",
    "# \n",
    "def minkowski_distance(x,y,n):\n",
    "\n",
    "    return np.power(\n",
    "        np.sum(\n",
    "            np.power(np.array(x) - np.array(y), n)\n",
    "        ), 1/n\n",
    "        )\n",
    "print(\"\", minkowski_distance(x1, x2, 2))"
   ]
  },
  {
   "cell_type": "code",
   "execution_count": 94,
   "metadata": {},
   "outputs": [
    {
     "output_type": "execute_result",
     "data": {
      "text/plain": [
       "          0         1         2         3\n",
       "0  1.000000  6.553001  5.449632  5.908822\n",
       "1  6.553001  1.000000  5.569212  6.058176\n",
       "2  5.449632  5.569212  1.000000  5.472656\n",
       "3  5.908822  6.058176  5.472656  1.000000"
      ],
      "text/html": "<div>\n<style>\n    .dataframe thead tr:only-child th {\n        text-align: right;\n    }\n\n    .dataframe thead th {\n        text-align: left;\n    }\n\n    .dataframe tbody tr th {\n        vertical-align: top;\n    }\n</style>\n<table border=\"1\" class=\"dataframe\">\n  <thead>\n    <tr style=\"text-align: right;\">\n      <th></th>\n      <th>0</th>\n      <th>1</th>\n      <th>2</th>\n      <th>3</th>\n    </tr>\n  </thead>\n  <tbody>\n    <tr>\n      <th>0</th>\n      <td>1.000000</td>\n      <td>6.553001</td>\n      <td>5.449632</td>\n      <td>5.908822</td>\n    </tr>\n    <tr>\n      <th>1</th>\n      <td>6.553001</td>\n      <td>1.000000</td>\n      <td>5.569212</td>\n      <td>6.058176</td>\n    </tr>\n    <tr>\n      <th>2</th>\n      <td>5.449632</td>\n      <td>5.569212</td>\n      <td>1.000000</td>\n      <td>5.472656</td>\n    </tr>\n    <tr>\n      <th>3</th>\n      <td>5.908822</td>\n      <td>6.058176</td>\n      <td>5.472656</td>\n      <td>1.000000</td>\n    </tr>\n  </tbody>\n</table>\n</div>"
     },
     "metadata": {},
     "execution_count": 94
    }
   ],
   "source": [
    "similar = {}\n",
    "for i in range(len(u)):\n",
    "    similar.setdefault(i,{})\n",
    "    for j in range(len(u)):\n",
    "        if i == j:\n",
    "            similar.get(i).setdefault(j, 1)\n",
    "            continue\n",
    "        similar.get(i).setdefault(j, minkowski_distance(u[i],u[j], 4))\n",
    "pd.DataFrame(similar)   "
   ]
  },
  {
   "source": [
    "1.3 切比雪夫距离 Chebyshev Distance"
   ],
   "cell_type": "markdown",
   "metadata": {}
  },
  {
   "cell_type": "code",
   "execution_count": 14,
   "metadata": {},
   "outputs": [
    {
     "output_type": "stream",
     "name": "stdout",
     "text": [
      " 2.7\n 2.7\n"
     ]
    }
   ],
   "source": [
    "# 函数\n",
    "def chebyshev_distance(x,y):\n",
    "    '''切比雪夫距离'''\n",
    "    return max(abs(a - b) for a,b in zip(x,y))\n",
    "# 使用\n",
    "print(\"\", chebyshev_distance(x1,x2))\n",
    "\n",
    "def chebyshev_distance(x,y):\n",
    "    '''切比雪夫距离'''\n",
    "    return np.max(np.abs(np.array(x) - np.array(y)))\n",
    "\n",
    "print(\"\", chebyshev_distance(x1,x2))"
   ]
  },
  {
   "cell_type": "code",
   "execution_count": 97,
   "metadata": {},
   "outputs": [
    {
     "output_type": "execute_result",
     "data": {
      "text/plain": [
       "   0  1  2  3\n",
       "0  1  5  5  5\n",
       "1  5  1  5  5\n",
       "2  5  5  1  5\n",
       "3  5  5  5  1"
      ],
      "text/html": "<div>\n<style>\n    .dataframe thead tr:only-child th {\n        text-align: right;\n    }\n\n    .dataframe thead th {\n        text-align: left;\n    }\n\n    .dataframe tbody tr th {\n        vertical-align: top;\n    }\n</style>\n<table border=\"1\" class=\"dataframe\">\n  <thead>\n    <tr style=\"text-align: right;\">\n      <th></th>\n      <th>0</th>\n      <th>1</th>\n      <th>2</th>\n      <th>3</th>\n    </tr>\n  </thead>\n  <tbody>\n    <tr>\n      <th>0</th>\n      <td>1</td>\n      <td>5</td>\n      <td>5</td>\n      <td>5</td>\n    </tr>\n    <tr>\n      <th>1</th>\n      <td>5</td>\n      <td>1</td>\n      <td>5</td>\n      <td>5</td>\n    </tr>\n    <tr>\n      <th>2</th>\n      <td>5</td>\n      <td>5</td>\n      <td>1</td>\n      <td>5</td>\n    </tr>\n    <tr>\n      <th>3</th>\n      <td>5</td>\n      <td>5</td>\n      <td>5</td>\n      <td>1</td>\n    </tr>\n  </tbody>\n</table>\n</div>"
     },
     "metadata": {},
     "execution_count": 97
    }
   ],
   "source": [
    "pd.DataFrame(test_similarity(chebyshev_distance))    "
   ]
  },
  {
   "cell_type": "code",
   "execution_count": 15,
   "metadata": {},
   "outputs": [
    {
     "output_type": "execute_result",
     "data": {
      "text/plain": [
       "2.7"
      ]
     },
     "metadata": {},
     "execution_count": 15
    }
   ],
   "source": [
    "# 函数\n",
    "def minkowski(x,y,p):\n",
    "    '''闵可夫斯基距离'''\n",
    "    xy = np.abs(np.array(x) - np.array(y))\n",
    "    tmp = np.sum(np.power(xy,p))\n",
    "    return np.power(tmp, 1/p)\n",
    "minkowski(x1,x2,3)"
   ]
  },
  {
   "source": [
    "余弦相似度 Cosine Similarity"
   ],
   "cell_type": "markdown",
   "metadata": {}
  },
  {
   "cell_type": "code",
   "execution_count": 17,
   "metadata": {},
   "outputs": [
    {
     "output_type": "execute_result",
     "data": {
      "text/plain": [
       "1.0"
      ]
     },
     "metadata": {},
     "execution_count": 17
    }
   ],
   "source": [
    "def cosine_similarity(x,y):  \n",
    "    numerator = sum([a * b for a,b in zip(x,y)])\n",
    "    denominator =  sqrt(sum([a*a for a in x])) * sqrt(sum([b*b for b in y]))\n",
    "    return numerator / denominator * 1.0 \n",
    "cosine_similarity(x1,x2)\n",
    "\n",
    "def cosine_similarity(x,y):\n",
    "    return np.dot(x,y) / (np.linalg.norm(x,2) * np.linalg.norm(y,2)) * 1.0\n",
    "cosine_similarity(x,y)"
   ]
  },
  {
   "cell_type": "code",
   "execution_count": 23,
   "metadata": {},
   "outputs": [
    {
     "output_type": "execute_result",
     "data": {
      "text/plain": [
       "0.9945358423571875"
      ]
     },
     "metadata": {},
     "execution_count": 23
    }
   ],
   "source": [
    "cosine_similarity([5,4,5],[5,4,4])"
   ]
  },
  {
   "cell_type": "code",
   "execution_count": 27,
   "metadata": {},
   "outputs": [
    {
     "output_type": "execute_result",
     "data": {
      "text/plain": [
       "0.20282899481977706"
      ]
     },
     "metadata": {},
     "execution_count": 27
    }
   ],
   "source": [
    "x = [0,0,1,3,4]\n",
    "y = [2,3,4,5,0]\n",
    "cosine_similarity(x,y) * 0.4"
   ]
  },
  {
   "cell_type": "code",
   "execution_count": 26,
   "metadata": {},
   "outputs": [
    {
     "output_type": "execute_result",
     "data": {
      "text/plain": [
       "0.37533724672684404"
      ]
     },
     "metadata": {},
     "execution_count": 26
    }
   ],
   "source": [
    "x = [1,3]\n",
    "y = [4,5]\n",
    "cosine_similarity(x,y) * 2/5"
   ]
  },
  {
   "cell_type": "code",
   "execution_count": 98,
   "metadata": {},
   "outputs": [
    {
     "output_type": "execute_result",
     "data": {
      "text/plain": [
       "          0         1         2         3\n",
       "0  1.000000  0.314970  0.639602  0.375823\n",
       "1  0.314970  1.000000  0.671519  0.568191\n",
       "2  0.639602  0.671519  1.000000  0.641006\n",
       "3  0.375823  0.568191  0.641006  1.000000"
      ],
      "text/html": "<div>\n<style>\n    .dataframe thead tr:only-child th {\n        text-align: right;\n    }\n\n    .dataframe thead th {\n        text-align: left;\n    }\n\n    .dataframe tbody tr th {\n        vertical-align: top;\n    }\n</style>\n<table border=\"1\" class=\"dataframe\">\n  <thead>\n    <tr style=\"text-align: right;\">\n      <th></th>\n      <th>0</th>\n      <th>1</th>\n      <th>2</th>\n      <th>3</th>\n    </tr>\n  </thead>\n  <tbody>\n    <tr>\n      <th>0</th>\n      <td>1.000000</td>\n      <td>0.314970</td>\n      <td>0.639602</td>\n      <td>0.375823</td>\n    </tr>\n    <tr>\n      <th>1</th>\n      <td>0.314970</td>\n      <td>1.000000</td>\n      <td>0.671519</td>\n      <td>0.568191</td>\n    </tr>\n    <tr>\n      <th>2</th>\n      <td>0.639602</td>\n      <td>0.671519</td>\n      <td>1.000000</td>\n      <td>0.641006</td>\n    </tr>\n    <tr>\n      <th>3</th>\n      <td>0.375823</td>\n      <td>0.568191</td>\n      <td>0.641006</td>\n      <td>1.000000</td>\n    </tr>\n  </tbody>\n</table>\n</div>"
     },
     "metadata": {},
     "execution_count": 98
    }
   ],
   "source": [
    "pd.DataFrame(test_similarity(cosine_similarity))    "
   ]
  },
  {
   "source": [
    "Tanimoto系数（广义Jaccard相似系数）"
   ],
   "cell_type": "markdown",
   "metadata": {}
  },
  {
   "cell_type": "code",
   "execution_count": 99,
   "metadata": {},
   "outputs": [],
   "source": [
    "def tanimoto(x,y):\n",
    "    xy = np.dot(x,y)\n",
    "    x = np.linalg.norm(x,2)\n",
    "    y = np.linalg.norm(y,2)\n",
    "    return xy / (x + y - xy)"
   ]
  },
  {
   "cell_type": "code",
   "execution_count": 100,
   "metadata": {},
   "outputs": [
    {
     "output_type": "execute_result",
     "data": {
      "text/plain": [
       "          0         1         2         3\n",
       "0  1.000000 -5.119482 -1.718561 -3.710127\n",
       "1 -5.119482  1.000000 -1.528547 -1.727585\n",
       "2 -1.718561 -1.528547  1.000000 -1.653247\n",
       "3 -3.710127 -1.727585 -1.653247  1.000000"
      ],
      "text/html": "<div>\n<style>\n    .dataframe thead tr:only-child th {\n        text-align: right;\n    }\n\n    .dataframe thead th {\n        text-align: left;\n    }\n\n    .dataframe tbody tr th {\n        vertical-align: top;\n    }\n</style>\n<table border=\"1\" class=\"dataframe\">\n  <thead>\n    <tr style=\"text-align: right;\">\n      <th></th>\n      <th>0</th>\n      <th>1</th>\n      <th>2</th>\n      <th>3</th>\n    </tr>\n  </thead>\n  <tbody>\n    <tr>\n      <th>0</th>\n      <td>1.000000</td>\n      <td>-5.119482</td>\n      <td>-1.718561</td>\n      <td>-3.710127</td>\n    </tr>\n    <tr>\n      <th>1</th>\n      <td>-5.119482</td>\n      <td>1.000000</td>\n      <td>-1.528547</td>\n      <td>-1.727585</td>\n    </tr>\n    <tr>\n      <th>2</th>\n      <td>-1.718561</td>\n      <td>-1.528547</td>\n      <td>1.000000</td>\n      <td>-1.653247</td>\n    </tr>\n    <tr>\n      <th>3</th>\n      <td>-3.710127</td>\n      <td>-1.727585</td>\n      <td>-1.653247</td>\n      <td>1.000000</td>\n    </tr>\n  </tbody>\n</table>\n</div>"
     },
     "metadata": {},
     "execution_count": 100
    }
   ],
   "source": [
    "pd.DataFrame(test_similarity(tanimoto))   "
   ]
  },
  {
   "source": [
    "jaccard Similarity\n",
    "\n",
    "杰卡德相似度"
   ],
   "cell_type": "markdown",
   "metadata": {}
  },
  {
   "cell_type": "code",
   "execution_count": 21,
   "metadata": {},
   "outputs": [
    {
     "output_type": "execute_result",
     "data": {
      "text/plain": [
       "0.0"
      ]
     },
     "metadata": {},
     "execution_count": 21
    }
   ],
   "source": [
    "def jaccard_similarity(x,y):\n",
    "    a = set.intersection(set(x),set(y))\n",
    "    b = set.union(set(x),set(y))\n",
    "    return len(a) / len(b)\n",
    "jaccard_similarity(x1,x2)"
   ]
  },
  {
   "cell_type": "code",
   "execution_count": 107,
   "metadata": {},
   "outputs": [
    {
     "output_type": "execute_result",
     "data": {
      "text/plain": [
       "          0     1         2     3\n",
       "0  1.000000  0.25  0.666667  0.25\n",
       "1  0.250000  1.00  0.500000  1.00\n",
       "2  0.666667  0.50  1.000000  0.50\n",
       "3  0.250000  1.00  0.500000  1.00"
      ],
      "text/html": "<div>\n<style>\n    .dataframe thead tr:only-child th {\n        text-align: right;\n    }\n\n    .dataframe thead th {\n        text-align: left;\n    }\n\n    .dataframe tbody tr th {\n        vertical-align: top;\n    }\n</style>\n<table border=\"1\" class=\"dataframe\">\n  <thead>\n    <tr style=\"text-align: right;\">\n      <th></th>\n      <th>0</th>\n      <th>1</th>\n      <th>2</th>\n      <th>3</th>\n    </tr>\n  </thead>\n  <tbody>\n    <tr>\n      <th>0</th>\n      <td>1.000000</td>\n      <td>0.25</td>\n      <td>0.666667</td>\n      <td>0.25</td>\n    </tr>\n    <tr>\n      <th>1</th>\n      <td>0.250000</td>\n      <td>1.00</td>\n      <td>0.500000</td>\n      <td>1.00</td>\n    </tr>\n    <tr>\n      <th>2</th>\n      <td>0.666667</td>\n      <td>0.50</td>\n      <td>1.000000</td>\n      <td>0.50</td>\n    </tr>\n    <tr>\n      <th>3</th>\n      <td>0.250000</td>\n      <td>1.00</td>\n      <td>0.500000</td>\n      <td>1.00</td>\n    </tr>\n  </tbody>\n</table>\n</div>"
     },
     "metadata": {},
     "execution_count": 107
    }
   ],
   "source": [
    "pd.DataFrame(test_similarity(jaccard_similarity))"
   ]
  },
  {
   "cell_type": "code",
   "execution_count": 13,
   "metadata": {},
   "outputs": [],
   "source": [
    "def RMSE(y1,y2):\n",
    "    '''\n",
    "    :param y1:\n",
    "    :param y2:\n",
    "    :return:\n",
    "    >>> a = [1,2,3]\n",
    "    >>> b = [2,3,5]\n",
    "    >>> print(RMSE(a,b))\n",
    "    1.4142135623730951\n",
    "    '''\n",
    "    if len(y1) != len(y2):\n",
    "        return -1\n",
    "    y1, y2 = np.array(y1), np.array(y2)\n",
    "    return np.sqrt(np.sum(np.power(y1 - y2, 2))/len(y1))\n",
    "\n",
    "\n",
    "def MAE(y1, y2):\n",
    "    '''\n",
    "    :param y1:\n",
    "    :param y2:\n",
    "    :return: MAE 均方误差\n",
    "    >>> a = [1,2,3]\n",
    "    >>> b = [2,3,5]\n",
    "    >>> MAE(a,b)\n",
    "    1.1547005383792515\n",
    "    '''\n",
    "    if len(y1) != len(y2):\n",
    "        return -1\n",
    "    y1, y2 = np.array(y1), np.array(y2)\n",
    "    return np.sqrt(np.sum(np.abs(y1 - y2))/len(y1))"
   ]
  },
  {
   "cell_type": "code",
   "execution_count": 15,
   "metadata": {},
   "outputs": [
    {
     "output_type": "execute_result",
     "data": {
      "text/plain": [
       "1.4142135623730951"
      ]
     },
     "metadata": {},
     "execution_count": 15
    }
   ],
   "source": [
    "a = [1,2,3]\n",
    "b = [2,3,5]\n",
    "RMSE(a,b)\n",
    "# MAE(a,b)"
   ]
  },
  {
   "cell_type": "code",
   "execution_count": null,
   "metadata": {},
   "outputs": [],
   "source": [
    "{2: [\n",
    "    {'movieId': 2959, 'title': 'Fight Club (1999)', 'genres': 'Action|Crime|Drama|Thriller', 'imdbId': 137523, 'tmdbId': 550, 'ratings': 3.975187754112997}, \n",
    "    {'movieId': 527, 'title': \"Schindler's List (1993)\", 'genres': 'Drama|War', 'imdbId': 108052, 'tmdbId': 424, 'ratings': 2.7697221727814845},\n",
    "    {'movieId': 356, 'title': 'Forrest Gump (1994)', 'genres': 'Comedy|Drama|Romance|War', 'imdbId': 109830, 'tmdbId': 13, 'ratings': 2.5542273693194986}, \n",
    "    {'movieId': 116797, 'title': 'The Imitation Game (2014)', 'genres': 'Drama|Thriller|War', 'imdbId': 2084970, 'tmdbId': 205596, 'ratings': 2.3844371818347643}, \n",
    "    {'movieId': 44191, 'title': 'V for Vendetta (2006)', 'genres': 'Action|Sci-Fi|Thriller|IMAX', 'imdbId': 434409, 'tmdbId': 752, 'ratings': 2.3428834133945466}\n",
    "    ]\n",
    "}\n"
   ]
  },
  {
   "cell_type": "code",
   "execution_count": 33,
   "metadata": {},
   "outputs": [
    {
     "output_type": "execute_result",
     "data": {
      "text/plain": [
       "'adb'"
      ]
     },
     "metadata": {},
     "execution_count": 33
    }
   ],
   "source": [
    "a = 'adb'\n",
    "a.lower()\n",
    "a"
   ]
  },
  {
   "cell_type": "code",
   "execution_count": null,
   "metadata": {},
   "outputs": [],
   "source": []
  }
 ]
}