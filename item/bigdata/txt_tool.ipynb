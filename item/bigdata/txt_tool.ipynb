{
 "metadata": {
  "language_info": {
   "codemirror_mode": {
    "name": "ipython",
    "version": 3
   },
   "file_extension": ".py",
   "mimetype": "text/x-python",
   "name": "python",
   "nbconvert_exporter": "python",
   "pygments_lexer": "ipython3",
   "version": "3.6.2-final"
  },
  "orig_nbformat": 2,
  "kernelspec": {
   "name": "python362jvsc74a57bd0c68fb794aad12bd82f7abc6229177b707cb4fe0fead52f40f954c06bbfa18d56",
   "display_name": "Python 3.6.2 64-bit ('newpy3': conda)"
  }
 },
 "nbformat": 4,
 "nbformat_minor": 2,
 "cells": [
  {
   "cell_type": "code",
   "execution_count": null,
   "metadata": {},
   "outputs": [],
   "source": []
  },
  {
   "cell_type": "code",
   "execution_count": null,
   "metadata": {},
   "outputs": [],
   "source": [
    "for i in range(30):\n",
    "    print('[' + str(i) + '] ')"
   ]
  },
  {
   "cell_type": "code",
   "execution_count": 150,
   "metadata": {},
   "outputs": [
    {
     "output_type": "stream",
     "name": "stdout",
     "text": [
      "YES\nYES\nYES\nYES\nNO\nNO\nNO\nNO\n"
     ]
    }
   ],
   "source": [
    "\n",
    "txt = '''PAT\n",
    "PAAT\n",
    "AAPATAA\n",
    "AAPAATAAAA\n",
    "xPATx\n",
    "PT\n",
    "Whatever\n",
    "APAAATAA'''.split('\\n')\n",
    "\n",
    "import re\n",
    "regex1 = re.compile(\"[PAT]+\")\n",
    "regex2 = re.compile(r\"(A*)PAT\\1\")\n",
    "regex3 = re.compile(r\"(A*)PA+T(A*)\")\n",
    "\n",
    "for i in txt:\n",
    "    r1,r2,r3,r4 = 0,0,0\n",
    "    if regex1.match(i):\n",
    "        r1 = 1\n",
    "    if regex2.match(i):\n",
    "        r2 = 1\n",
    "    if regex3.match(i):\n",
    "        p = re.search(\"P\", i).end()\n",
    "        t = re.search(\"T\", i).end()\n",
    "        r = re.search(\"$\", i).end()\n",
    "        if (p-1) * (t-p-1) == (r-t):\n",
    "            r3 = 1\n",
    "    if r3 == 1 and r1 == 1:\n",
    "        print(\"YES\")\n",
    "        return 0\n",
    "    if r1 == 1 and r2 == 1:\n",
    "        print(\"YES\")\n",
    "        return 0\n",
    "    print(\"NO\")\n",
    "    # print(\"r1=%d,r2=%d,r3=%d\"%(r1,r2,r3))\n",
    "    "
   ]
  },
  {
   "cell_type": "code",
   "execution_count": 133,
   "metadata": {},
   "outputs": [
    {
     "output_type": "execute_result",
     "data": {
      "text/plain": [
       "<_sre.SRE_Match object; span=(0, 4), match='PAAT'>"
      ]
     },
     "metadata": {},
     "execution_count": 133
    }
   ],
   "source": [
    "m = re.match(\"(A*)PA*T\\\\1\",\"PAAT\")\n",
    "m"
   ]
  },
  {
   "cell_type": "code",
   "execution_count": 148,
   "metadata": {},
   "outputs": [
    {
     "output_type": "error",
     "ename": "AttributeError",
     "evalue": "'NoneType' object has no attribute 'end'",
     "traceback": [
      "\u001b[1;31m---------------------------------------------------------------------------\u001b[0m",
      "\u001b[1;31mAttributeError\u001b[0m                            Traceback (most recent call last)",
      "\u001b[1;32m<ipython-input-148-034ed14c6e16>\u001b[0m in \u001b[0;36m<module>\u001b[1;34m()\u001b[0m\n\u001b[0;32m      2\u001b[0m \u001b[0mm\u001b[0m \u001b[1;33m=\u001b[0m \u001b[0mre\u001b[0m\u001b[1;33m.\u001b[0m\u001b[0msearch\u001b[0m\u001b[1;33m(\u001b[0m\u001b[1;34m\"P\"\u001b[0m\u001b[1;33m,\u001b[0m\u001b[1;34m\"AAPAATAAAA\"\u001b[0m\u001b[1;33m)\u001b[0m\u001b[1;33m\u001b[0m\u001b[0m\n\u001b[0;32m      3\u001b[0m \u001b[0mt\u001b[0m \u001b[1;33m=\u001b[0m \u001b[1;34m\"Whatever\"\u001b[0m\u001b[1;33m\u001b[0m\u001b[0m\n\u001b[1;32m----> 4\u001b[1;33m \u001b[0mp\u001b[0m \u001b[1;33m=\u001b[0m \u001b[0mre\u001b[0m\u001b[1;33m.\u001b[0m\u001b[0msearch\u001b[0m\u001b[1;33m(\u001b[0m\u001b[1;34m\"P\"\u001b[0m\u001b[1;33m,\u001b[0m \u001b[0mt\u001b[0m\u001b[1;33m)\u001b[0m\u001b[1;33m.\u001b[0m\u001b[0mend\u001b[0m\u001b[1;33m(\u001b[0m\u001b[1;33m)\u001b[0m\u001b[1;33m\u001b[0m\u001b[0m\n\u001b[0m\u001b[0;32m      5\u001b[0m \u001b[0mt\u001b[0m \u001b[1;33m=\u001b[0m \u001b[0mre\u001b[0m\u001b[1;33m.\u001b[0m\u001b[0msearch\u001b[0m\u001b[1;33m(\u001b[0m\u001b[1;34m\"T\"\u001b[0m\u001b[1;33m,\u001b[0m \u001b[0mt\u001b[0m\u001b[1;33m)\u001b[0m\u001b[1;33m.\u001b[0m\u001b[0mend\u001b[0m\u001b[1;33m(\u001b[0m\u001b[1;33m)\u001b[0m\u001b[1;33m\u001b[0m\u001b[0m\n\u001b[0;32m      6\u001b[0m \u001b[0mr\u001b[0m \u001b[1;33m=\u001b[0m \u001b[0mre\u001b[0m\u001b[1;33m.\u001b[0m\u001b[0msearch\u001b[0m\u001b[1;33m(\u001b[0m\u001b[1;34m\"$\"\u001b[0m\u001b[1;33m,\u001b[0m \u001b[0mt\u001b[0m\u001b[1;33m)\u001b[0m\u001b[1;33m.\u001b[0m\u001b[0mend\u001b[0m\u001b[1;33m(\u001b[0m\u001b[1;33m)\u001b[0m\u001b[1;33m\u001b[0m\u001b[0m\n",
      "\u001b[1;31mAttributeError\u001b[0m: 'NoneType' object has no attribute 'end'"
     ]
    }
   ],
   "source": [
    "# regex3.search(\"PAHTSP\").gr  oup()\n",
    "m = re.search(\"P\",\"AAPAATAAAA\")\n",
    "t = \"Whatever\"\n",
    "p = re.search(\"P\", t).end()\n",
    "t = re.search(\"T\", t).end()\n",
    "r = re.search(\"$\", t).end()\n",
    "print(p,t,r)"
   ]
  },
  {
   "source": [
    "# 匹配对象\n",
    "匹配对象总是有一个布尔值 True。如果没有匹配的话 match() 和 search() 返回 None 所以你可以简单的用 if 语句来判断是否匹配\n",
    "## 匹配对象支持以下方法和属性：\n",
    "\n",
    "* Match.expand(template)\n",
    "对 template 进行反斜杠转义替换并且返回，就像 sub() 方法中一样。转义如同 \\n 被转换成合适的字符，数字引用(\\1, \\2)和命名组合(\\g<1>, \\g<name>) 替换为相应组合的内容。\n",
    "在 3.5 版更改: 不匹配的组合替换为空字符串。\n",
    "\n",
    "\n",
    "* Match.group([group1, ...])\n",
    "返回一个或者多个匹配的子组。如果只有一个参数，结果就是一个字符串，如果有多个参数，结果就是一个元组（每个参数对应一个项），如果没有参数，组1默认到0（整个匹配都被返回）。 如果一个组N 参数值为 0，相应的返回值就是整个匹配字符串；如果它是一个范围 [1..99]，结果就是相应的括号组字符串。如果一个组号是负数，或者大于样式中定义的组数，一个 IndexError 索引错误就 raise。如果一个组包含在样式的一部分，并被匹配多次，就返回最后一个匹配。:\n",
    "\n",
    "\n",
    "如果正则表达式使用了 (?P<name>…) 语法， groupN 参数就也可能是命名组合的名字。如果一个字符串参数在样式中未定义为组合名，一个 IndexError 就 raise。\n",
    "+ 一个相对复杂的例子\n",
    "+ 命名组合同样可以通过索引值引用\n",
    "+ 如果一个组匹配成功多次，就只返回最后一个匹配\n",
    "\n",
    "* Match.__getitem__(g)\n",
    "这个等价于 m.group(g)。这允许更方便的引用一个匹配\n",
    "\n",
    "3.6 新版功能.\n",
    "* Match.groups(default=None)\n",
    "返回一个元组，包含所有匹配的子组，在样式中出现的从1到任意多的组合。 default 参数用于不参与匹配的情况，默认为 None。\n",
    "如果我们使小数点可选，那么不是所有的组都会参与到匹配当中。这些组合默认会返回一个 None ，除非指定了 default 参数。\n"
   ],
   "cell_type": "markdown",
   "metadata": {}
  },
  {
   "cell_type": "code",
   "execution_count": 96,
   "metadata": {},
   "outputs": [
    {
     "output_type": "error",
     "ename": "AttributeError",
     "evalue": "'_sre.SRE_Match' object has no attribute 'getItem'",
     "traceback": [
      "\u001b[1;31m---------------------------------------------------------------------------\u001b[0m",
      "\u001b[1;31mAttributeError\u001b[0m                            Traceback (most recent call last)",
      "\u001b[1;32m<ipython-input-96-87921819223e>\u001b[0m in \u001b[0;36m<module>\u001b[1;34m()\u001b[0m\n\u001b[0;32m      2\u001b[0m \u001b[0mm\u001b[0m\u001b[1;33m.\u001b[0m\u001b[0mgroups\u001b[0m\u001b[1;33m(\u001b[0m\u001b[1;33m)\u001b[0m\u001b[1;33m\u001b[0m\u001b[0m\n\u001b[0;32m      3\u001b[0m \u001b[0mm\u001b[0m\u001b[1;33m.\u001b[0m\u001b[0mgroup\u001b[0m\u001b[1;33m(\u001b[0m\u001b[1;33m)\u001b[0m\u001b[1;33m\u001b[0m\u001b[0m\n\u001b[1;32m----> 4\u001b[1;33m \u001b[0mm\u001b[0m\u001b[1;33m.\u001b[0m\u001b[0mgetItem\u001b[0m\u001b[1;33m(\u001b[0m\u001b[1;36m1\u001b[0m\u001b[1;33m)\u001b[0m\u001b[1;33m\u001b[0m\u001b[0m\n\u001b[0m",
      "\u001b[1;31mAttributeError\u001b[0m: '_sre.SRE_Match' object has no attribute 'getItem'"
     ]
    }
   ],
   "source": [
    "m = re.match(r\"(?P<first_name>\\w+) (?P<last_name>\\w+)\", \"Malcolm Reynolds\")\n",
    "m.groups()\n",
    "m.group()\n",
    "# m.getItem(1)"
   ]
  },
  {
   "source": [
    "* Match.groupdict(default=None)\n",
    "返回一个字典，包含了所有的 命名 子组。key就是组名。 default 参数用于不参与匹配的组合；默认为 None。 \n"
   ],
   "cell_type": "markdown",
   "metadata": {}
  },
  {
   "cell_type": "code",
   "execution_count": 80,
   "metadata": {},
   "outputs": [
    {
     "output_type": "execute_result",
     "data": {
      "text/plain": [
       "{'first_name': 'Malcolm', 'last_name': 'Reynolds'}"
      ]
     },
     "metadata": {},
     "execution_count": 80
    }
   ],
   "source": [
    "m.groupdict()"
   ]
  },
  {
   "source": [
    "* Match.start([group])\n",
    "* Match.end([group])\n",
    "返回 group 匹配到的字串的开始和结束标号。group 默认为0（意思是整个匹配的子串）。如果 group 存在，但未产生匹配，就返回 -1 。对于一个匹配对象 m， 和一个未参与匹配的组 g ，组 g (等价于 m.group(g))产生的匹配是\n",
    "\n",
    "注意 m.start(group) 将会等于 m.end(group) ，如果 group 匹配一个空字符串的话。\n",
    "比如，在 m = re.search('b(c?)', 'cba') 之后，m.start(0) 为 1, m.end(0) 为 2, m.start(1) 和 m.end(1) 都是 2, m.start(2) raise 一个 IndexError 例外。"
   ],
   "cell_type": "markdown",
   "metadata": {}
  },
  {
   "cell_type": "code",
   "execution_count": 86,
   "metadata": {},
   "outputs": [
    {
     "output_type": "execute_result",
     "data": {
      "text/plain": [
       "True"
      ]
     },
     "metadata": {},
     "execution_count": 86
    }
   ],
   "source": [
    "m.string[m.start(1):m.end(1)]\n",
    "\n",
    "m = re.search('b(c?)', 'cba')\n",
    "m.start(1) == m.end(1)"
   ]
  },
  {
   "cell_type": "code",
   "execution_count": null,
   "metadata": {},
   "outputs": [],
   "source": [
    "* Match.span([group])\n",
    "对于一个匹配 m ， 返回一个二元组 (m.start(group), m.end(group)) 。 注意如果 group 没有在这个匹配中，就返回 (-1, -1) 。group 默认为0，就是整个匹配。\n",
    "\n",
    "* Match.pos\n",
    "pos 的值，会传递给 search() 或 match() 的方法 a 正则对象 。这个是正则引擎开始在字符串搜索一个匹配的索引位置。\n",
    "\n",
    "* Match.endpos\n",
    "endpos 的值，会传递给 search() 或 match() 的方法 a 正则对象 。这个是正则引擎停止在字符串搜索一个匹配的索引位置。\n",
    "\n",
    "* Match.lastindex\n",
    "捕获组的最后一个匹配的整数索引值，或者 None 如果没有匹配产生的话。比如，对于字符串 'ab'，表达式 (a)b, ((a)(b)), 和 ((ab)) 将得到 lastindex == 1 ， 而 (a)(b) 会得到 lastindex == 2 。\n",
    "\n",
    "* Match.lastgroup\n",
    "最后一个匹配的命名组名字，或者 None 如果没有产生匹配的话。\n",
    "\n",
    "Match.re\n",
    "返回产生这个实例的 正则对象 ， 这个实例是由 正则对象的 match() 或 search() 方法产生的。\n",
    "\n",
    "* Match.string\n",
    "传递到 match() 或 search() 的字符串。\n",
    "\n",
    "在 3.7 版更改: 添加了对 copy.copy() 和 copy.deepcopy() 的支持。匹配对象被看作是原子性的。"
   ]
  },
  {
   "cell_type": "code",
   "execution_count": 75,
   "metadata": {},
   "outputs": [
    {
     "output_type": "execute_result",
     "data": {
      "text/plain": [
       "'Malcolm Reynolds'"
      ]
     },
     "metadata": {},
     "execution_count": 75
    }
   ],
   "source": [
    "m = re.match(r\"(?P<first_name>\\w+) (?P<last_name>\\w+)\", \"Malcolm Reynolds\")\n",
    "m.expand(\"\")\n",
    "m.group()"
   ]
  },
  {
   "cell_type": "code",
   "execution_count": 72,
   "metadata": {},
   "outputs": [
    {
     "output_type": "execute_result",
     "data": {
      "text/plain": [
       "(0, 16)"
      ]
     },
     "metadata": {},
     "execution_count": 72
    }
   ],
   "source": [
    "# m = re.match(r\"(?P<first_name>\\w+) (?P<last_name>\\w+)\", \"Malcolm Reynolds\")\n",
    "\n",
    "m = re.match(\"(\\w+) (\\w+)\", \"Malcolm Reynolds\")\n",
    "# m.group(\"first_name\")\n",
    "m.group(1)\n",
    "# m[2]\n",
    "m.groups()\n",
    "m.groupdict()\n",
    "m.start()\n",
    "m.end(2)\n",
    "m.span()"
   ]
  }
 ]
}