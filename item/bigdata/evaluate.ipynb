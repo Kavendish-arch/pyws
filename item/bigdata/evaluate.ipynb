{
 "cells": [
  {
   "cell_type": "code",
   "execution_count": 14,
   "metadata": {
    "collapsed": true,
    "pycharm": {
     "is_executing": false,
     "name": "#%%\n"
    }
   },
   "outputs": [
    {
     "name": "stdout",
     "text": [
      "1.4142135623730951\n1.4142135623730951\n"
     ],
     "output_type": "stream"
    }
   ],
   "source": [
    "import numpy as np\n",
    "def RMSE(y1,y2): \n",
    "    if len(y1) != len(y2):\n",
    "        return -1\n",
    "    tmp = np.sum(np.subtract(y1,y2) ** 2) \n",
    "    tmp = np.sqrt(tmp/len(y1))\n",
    "    return tmp\n",
    "\n",
    "a = [1,2,3]\n",
    "b = [2,3,5]\n",
    "print(RMSE(a,b)) \n",
    "print(np.sqrt(2))"
   ]
  },
  {
   "cell_type": "code",
   "execution_count": 32,
   "outputs": [
    {
     "name": "stdout",
     "text": [
      "4\n1.1547005383792515\n"
     ],
     "output_type": "stream"
    }
   ],
   "source": [
    "def MAE(y1, y2):\n",
    "    '''\n",
    "    :param y1: \n",
    "    :param y2: \n",
    "    :return: MAE 均方误差\n",
    "    '''\n",
    "    if len(y1) != len(y2):\n",
    "        return -1\n",
    "    tmp = np.sum(np.abs(np.subtract(y1,y2)))\n",
    "    print(tmp)\n",
    "    tmp = np.sqrt(tmp/len(y1))\n",
    "    return tmp\n",
    "\n",
    "a = [1,2,3]\n",
    "b = [2,3,5]\n",
    "print(MAE(a,b)) "
   ],
   "metadata": {
    "collapsed": false,
    "pycharm": {
     "name": "#%%\n",
     "is_executing": false
    }
   }
  },
  {
   "cell_type": "code",
   "execution_count": 31,
   "outputs": [
    {
     "name": "stdout",
     "text": [
      "(0.4, 0.4)\n0.4000000000000001\n"
     ],
     "output_type": "stream"
    }
   ],
   "source": [
    "def precision_recall(y1, y2):\n",
    "    '''\n",
    "    :param y1:  推荐的\n",
    "    :param y2:  用户喜欢的 \n",
    "    :return:    准确率 \n",
    "    '''\n",
    "    hit = []\n",
    "    for i in y1:\n",
    "        if i in y2:\n",
    "            hit.append(i)\n",
    "    precision = len(hit) / len(y1)\n",
    "    recall = len(hit) / len(y2)\n",
    "    return precision, recall\n",
    "\n",
    "def f1_core(y1,y2):\n",
    "    p,r = precision_recall(y1,y2)\n",
    "    return 2 * p * r / (p + r)\n",
    "\n",
    "a = [1,2,3,4,4]\n",
    "b = [1,0,3,5,6]\n",
    "print(precision_recall(a,b))\n",
    "print(f1_core(a,b))"
   ],
   "metadata": {
    "collapsed": false,
    "pycharm": {
     "name": "#%%\n",
     "is_executing": false
    }
   }
  },
  {
   "cell_type": "code",
   "execution_count": 30,
   "outputs": [
    {
     "name": "stdout",
     "text": [
      "0.23809523809523808\n0.4666666666666666\n"
     ],
     "output_type": "stream"
    }
   ],
   "source": [
    "from sklearn.metrics import f1_score\n",
    "\n",
    "y_pred = [1,2,3,4,3]\n",
    "y_true = [1,0,3,5,6]\n",
    "\n",
    "print(f1_score(y_pred, y_true, average='macro'))\n",
    "print(f1_score(y_pred, y_true, average='weighted'))\n"
   ],
   "metadata": {
    "collapsed": false,
    "pycharm": {
     "name": "#%%\n",
     "is_executing": false
    }
   }
  },
  {
   "cell_type": "code",
   "execution_count": null,
   "outputs": [],
   "source": [
    "def validata(data, labels):\n",
    "    \n",
    "    accuracy_scores = []\n",
    "    precision_scores = []\n",
    "    recall_scores = []\n",
    "    f1_scores = []\n",
    "    \n",
    "    \n",
    "\n"
   ],
   "metadata": {
    "collapsed": false,
    "pycharm": {
     "name": "#%%\n"
    }
   }
  }
 ],
 "metadata": {
  "kernelspec": {
   "display_name": "Python 3",
   "language": "python",
   "name": "python3"
  },
  "language_info": {
   "codemirror_mode": {
    "name": "ipython",
    "version": 2
   },
   "file_extension": ".py",
   "mimetype": "text/x-python",
   "name": "python",
   "nbconvert_exporter": "python",
   "pygments_lexer": "ipython2",
   "version": "2.7.6"
  },
  "pycharm": {
   "stem_cell": {
    "cell_type": "raw",
    "source": [],
    "metadata": {
     "collapsed": false
    }
   }
  }
 },
 "nbformat": 4,
 "nbformat_minor": 0
}