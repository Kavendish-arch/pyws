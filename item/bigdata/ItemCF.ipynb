{
 "cells": [
  {
   "source": [
    "# 开始，数据准备"
   ],
   "cell_type": "markdown",
   "metadata": {
    "collapsed": true
   }
  },
  {
   "cell_type": "code",
   "execution_count": null,
   "metadata": {},
   "outputs": [],
   "source": [
    "# 基于项目的协同过滤推荐算法实现\n",
    "import os\n",
    "import random\n",
    "import math\n",
    "from operator import itemgetter\n",
    "import shelve\n",
    "from contextlib import closing\n",
    "import pandas as pd\n",
    "import numpy as np"
   ]
  },
  {
   "cell_type": "code",
   "execution_count": null,
   "metadata": {},
   "outputs": [],
   "source": [
    "# read file \n",
    "def load_file(filename):\n",
    "    with open(filename, 'r', encoding='utf-8') as f:\n",
    "        for i, line in enumerate(f):\n",
    "            if i == 0:\n",
    "                # 去掉文件第一行的title\n",
    "                continue\n",
    "            yield line.strip('\\r\\n')\n",
    "    print('Load %s success!' % filename)\n"
   ]
  },
  {
   "cell_type": "code",
   "execution_count": null,
   "metadata": {},
   "outputs": [],
   "source": [
    "def get_dataset(filename, pivot=0.75):\n",
    "    trainSet = {}\n",
    "    testSet = {}\n",
    "    trainSet_len = 0\n",
    "    testSet_len = 0\n",
    "    # 加载文件， 按行读取\n",
    "    for line in load_file(filename):\n",
    "        # 读取列属性\n",
    "        user, movie, rating, timestamp = line.split(',')\n",
    "        # 数据划分测试集合和数据集合 (0,1) < (0,pivot)\n",
    "        if random.random() < pivot:\n",
    "            trainSet.setdefault(user, {})\n",
    "            trainSet[user][movie] = rating\n",
    "            trainSet_len += 1\n",
    "        else:\n",
    "            testSet.setdefault(user, {})\n",
    "            testSet[user][movie] = rating\n",
    "            testSet_len += 1\n",
    "    print('Split trainingSet and testSet success!')\n",
    "    print('TrainSet = %s' % trainSet_len)\n",
    "    print('TestSet = %s' % testSet_len)\n",
    "    return trainSet, testSet"
   ]
  },
  {
   "cell_type": "code",
   "execution_count": null,
   "metadata": {},
   "outputs": [],
   "source": [
    "# 读取数据集合\n",
    "path = 'ratings.csv'\n",
    "os.path.exists(path)\n",
    "trainSet, testSet = get_dataset(path)"
   ]
  },
  {
   "source": [
    "## 数据显示 trainSet"
   ],
   "cell_type": "markdown",
   "metadata": {}
  },
  {
   "cell_type": "code",
   "execution_count": null,
   "metadata": {},
   "outputs": [],
   "source": [
    "pd.DataFrame(trainSet)"
   ]
  },
  {
   "source": [
    "## TestSet 测试数据"
   ],
   "cell_type": "markdown",
   "metadata": {}
  },
  {
   "cell_type": "code",
   "execution_count": null,
   "metadata": {},
   "outputs": [],
   "source": [
    "pd.DataFrame(testSet)"
   ]
  },
  {
   "cell_type": "code",
   "execution_count": null,
   "metadata": {},
   "outputs": [],
   "source": [
    "# 统计电影的播放次数，movie_movie 矩阵\n",
    "def count_movie(trainSet):\n",
    "\n",
    "    # 统计电影被看的次数\n",
    "    movie_popular = {}\n",
    "    for user, movies in trainSet.items():\n",
    "        for movie in movies:\n",
    "            if movie not in movie_popular:\n",
    "                movie_popular[movie] = 0\n",
    "            movie_popular[movie] += 1\n",
    "    movie_count = len(movie_popular)\n",
    "    print(\"Total movie number = %d\" % movie_count)\n",
    "\n",
    "    movie_sim_matrix = {}\n",
    "    # 遍历训练数据，获得用户对有过的行为的物品\n",
    "    for user, movies in trainSet.items():\n",
    "        # 遍历该用户每件物品项\n",
    "        for m1 in movies:\n",
    "            # 遍历该用户每件物品项\n",
    "            for m2 in movies:\n",
    "                # 若该项为当前物品，跳过\n",
    "                if m1 == m2:\n",
    "                    continue\n",
    "                movie_sim_matrix.setdefault(m1, {})\n",
    "                movie_sim_matrix[m1].setdefault(m2, 0)\n",
    "                # 同一个用户，遍历到其他用品则加1\n",
    "                movie_sim_matrix[m1][m2] += 1\n",
    "    # movie and movie 矩阵\n",
    "    print(\"Build 同现矩阵co-rated users matrix success!\")\n",
    "    return movie_popular,movie_sim_matrix"
   ]
  },
  {
   "cell_type": "code",
   "execution_count": null,
   "metadata": {},
   "outputs": [],
   "source": [
    "# movie 统计，movie-movie矩阵\n",
    "movie_popular, movie_sim_matrix = count_movie(trainSet)"
   ]
  },
  {
   "cell_type": "code",
   "execution_count": null,
   "metadata": {},
   "outputs": [],
   "source": [
    "# 验证结果\n",
    "print(len(movie_popular), len(movie_sim_matrix))"
   ]
  },
  {
   "source": [
    "## 相似度算法\n",
    "### 相似度算法一"
   ],
   "cell_type": "markdown",
   "metadata": {}
  },
  {
   "cell_type": "code",
   "execution_count": null,
   "metadata": {},
   "outputs": [],
   "source": [
    "# 计算电影之间的相似度 相似度算法 AB交集 / 根号下(A*B)\n",
    "def calc_movie_sim(movie_popular, movie_sim_matrix):\n",
    "    # 计算电影之间的相似性\n",
    "    print(\"Calculating movie similarity matrix ...\")\n",
    "    for m1, related_movies in movie_sim_matrix.items():\n",
    "        for m2, count in related_movies.items():\n",
    "            # 注意0向量的处理，即某电影的用户数为0\n",
    "            if movie_popular[m1] == 0 or movie_popular[m2] == 0:\n",
    "                movie_sim_matrix[m1][m2] = 0\n",
    "            else:\n",
    "                movie_sim_matrix[m1][m2] = count / math.sqrt(movie_popular[m1] * movie_popular[m2])\n",
    "    print('Calculate movie similarity matrix success!')\n",
    "    return movie_sim_matrix"
   ]
  },
  {
   "source": [
    "## 相似性矩阵"
   ],
   "cell_type": "markdown",
   "metadata": {}
  },
  {
   "cell_type": "code",
   "execution_count": null,
   "metadata": {},
   "outputs": [],
   "source": [
    "movie_sim_matrix_1 = calc_movie_sim(trainSet, movie_popular, movie_sim_matrix)"
   ]
  },
  {
   "cell_type": "code",
   "execution_count": null,
   "metadata": {},
   "outputs": [],
   "source": [
    "pd.DataFrame(movie_sim_matrix_1)"
   ]
  },
  {
   "source": [
    "### 显示结果"
   ],
   "cell_type": "markdown",
   "metadata": {}
  },
  {
   "cell_type": "code",
   "execution_count": null,
   "metadata": {},
   "outputs": [],
   "source": [
    "pd.Series(movie_popular)"
   ]
  },
  {
   "source": [
    "## movie_movie 矩阵\n",
    "\n",
    "* movie_sim_matrix"
   ],
   "cell_type": "markdown",
   "metadata": {}
  },
  {
   "cell_type": "code",
   "execution_count": null,
   "metadata": {},
   "outputs": [],
   "source": [
    "pd.DataFrame(movie_sim_matrix)"
   ]
  },
  {
   "source": [
    "## 相似性算法2\n",
    "## jacard 相似度算法，没有利用评分 只有0和1\n",
    "电影之间的相似度根据，共同看过AB的人数/看过A或B的人数"
   ],
   "cell_type": "markdown",
   "metadata": {}
  },
  {
   "cell_type": "code",
   "execution_count": null,
   "metadata": {},
   "outputs": [],
   "source": [
    "# 计算电影之间的相似度, jacard 算法 交集/并集\n",
    "def calc_movie_sim_jacard(movie_popular, movie_sim_matrix):\n",
    "    # 计算电影之间的相似性\n",
    "    print(\"Calculating movie similarity matrix ...\")\n",
    "    for m1, related_movies in movie_sim_matrix.items():\n",
    "        for m2, count in related_movies.items():\n",
    "            # 注意0向量的处理，即某电影的用户数为0\n",
    "            if movie_popular[m1] == 0 or movie_popular[m2] == 0:\n",
    "                movie_sim_matrix[m1][m2] = 0\n",
    "            else:\n",
    "                movie_sim_matrix[m1][m2] = count / (movie_popular[m1] + movie_popular[m2] -count)\n",
    "    # jacard = (交集)/(并集)\n",
    "    print('Calculate movie similarity matrix success!')\n",
    "    return  movie_sim_matrix"
   ]
  },
  {
   "cell_type": "code",
   "execution_count": null,
   "metadata": {},
   "outputs": [],
   "source": [
    "movie_sim_matrix_2 = calc_movie_sim_jacard(movie_popular, movie_sim_matrix)\n",
    "pd.DataFrame(movie_sim_matrix_2)"
   ]
  },
  {
   "source": [
    "## 统计用户"
   ],
   "cell_type": "markdown",
   "metadata": {}
  },
  {
   "cell_type": "code",
   "execution_count": null,
   "metadata": {},
   "outputs": [],
   "source": [
    "# return list of users\n",
    "def get_user_List(trainSet):\n",
    "    name = []\n",
    "    for user, _ in trainSet.items():\n",
    "        name.append(user)\n",
    "    return name\n",
    "def get_movie_name_list(filename):\n",
    "    nameSet = set()\n",
    "    # 加载文件， 按行读取\n",
    "    for line in load_file(filename):\n",
    "        # 读取列属性\n",
    "        user, movie, rating, timestamp = line.split(',')\n",
    "        nameSet.add(movie)\n",
    "    # print(len(nameSet))\n",
    "    print('Split trainingSet and testSet success! ')\n",
    "    return nameSet"
   ]
  },
  {
   "cell_type": "code",
   "execution_count": null,
   "metadata": {
    "tags": []
   },
   "outputs": [],
   "source": [
    "name_list = get_user_List(trainSet)\n",
    "movie_list = get_movie_name_list(path)\n",
    "# movie_list\n",
    "print(\"len of movie\", len(movie_list))\n",
    "print(\"len of user\",len(name_list))"
   ]
  },
  {
   "source": [
    "## 推荐电影"
   ],
   "cell_type": "markdown",
   "metadata": {}
  },
  {
   "cell_type": "code",
   "execution_count": null,
   "metadata": {},
   "outputs": [],
   "source": [
    "# 针对目标用户U，找到K部相似的电影，并推荐其N部电影，\n",
    "# 用户未产生过行为的物品\n",
    "def recommend(user, n_sim_movie, n_rec_movie, trainSet, movie_sim_matrix):\n",
    "    K = n_sim_movie\n",
    "    N = n_rec_movie\n",
    "    # 用户user对物品的偏好值\n",
    "    rank = {}\n",
    "    # 用户user产生过行为的物品，与物品item按相似度从大到小排列，取与物品item相似度最大的k个商品\n",
    "    # 验证是否有用户的历史记录\n",
    "    try:\n",
    "        watched_movies = trainSet[user]\n",
    "    except KeyError:\n",
    "        print(user + \" is not exits\")\n",
    "\n",
    "    for movie, rating in watched_movies.items():\n",
    "        # 遍历与物品item最相似的前k个产品，获得这些物品及相似分数\n",
    "        for related_movie, w in sorted(movie_sim_matrix[movie].items(), key=itemgetter(1), reverse=True)[:K]:\n",
    "            # 若该物品为当前物品，跳过\n",
    "            if related_movie in watched_movies:\n",
    "                continue\n",
    "            # 计算用户user对related_movie的偏好值，初始化该值为0\n",
    "            rank.setdefault(related_movie, 0)\n",
    "            # 通过与其相似物品对物品related_movie的偏好值相乘并相加。\n",
    "            # 排名的依据—— > 推荐电影与该已看电影的相似度(累计) * 用户对已看电影的评分\n",
    "            rank[related_movie] += w * float(rating)\n",
    "    return sorted(rank.items(), key=itemgetter(1), reverse=True)[:N]\n"
   ]
  },
  {
   "cell_type": "code",
   "execution_count": null,
   "metadata": {},
   "outputs": [],
   "source": [
    "rec_matrix = {}\n",
    "for i in name_list:\n",
    "    rec_user = recommend(i,20,10, trainSet, movie_sim_matrix_2)\n",
    "    rec_matrix.setdefault(i, rec_user)\n",
    "pd.DataFrame(rec_matrix)"
   ]
  },
  {
   "cell_type": "code",
   "execution_count": null,
   "metadata": {},
   "outputs": [],
   "source": [
    "rec_matrix_1 = {}\n",
    "for i in name_list:\n",
    "    rec_user = recommend(i,20,10, trainSet, movie_sim_matrix_1)\n",
    "    rec_matrix_1.setdefault(i, rec_user)\n",
    "pd.DataFrame(rec_matrix_1)"
   ]
  },
  {
   "cell_type": "code",
   "execution_count": null,
   "metadata": {},
   "outputs": [],
   "source": [
    "# print(rec_matrix['1'])\n",
    "# print(rec_matrix_2['1'])\n",
    "# print(testSet['1'])\n",
    "# print(trainSet['1'])\n",
    "table = {}\n",
    "table.setdefault('1',rec_matrix['1'])\n",
    "table.setdefault('2',rec_matrix_1['1'])\n",
    "pd.DataFrame(table)"
   ]
  },
  {
   "cell_type": "code",
   "execution_count": null,
   "metadata": {},
   "outputs": [],
   "source": [
    "print(rec_matrix['1'])"
   ]
  },
  {
   "cell_type": "code",
   "execution_count": null,
   "metadata": {},
   "outputs": [],
   "source": [
    "# 计算电影之间的相似度, 利用其他算法\n",
    "def calc_movie_sim_test(trainSet, func):\n",
    "    movie_sim_matrix = {}\n",
    "\n",
    "    for user1 in trainSet.keys():\n",
    "        movie_sim_matrix.setdefault(user1, {})\n",
    "        for user2 in trainSet.keys():\n",
    "            if user1 == user2:\n",
    "                movie_sim_matrix.get(user1).setdefault(user2, 1)\n",
    "            else:\n",
    "                movie_sim_matrix.get(user1).setdefault(user2, func(trainSet.get(user1), trainSet.get(user2)))\n",
    "    # movie{1,2}=sim\n",
    "    return  movie_sim_matrix\n"
   ]
  },
  {
   "cell_type": "code",
   "execution_count": null,
   "metadata": {},
   "outputs": [],
   "source": [
    "# 用户之间的相似度\n",
    "func = lambda x,y:np.random.randint(1,4)\n",
    "movie_sim_matrix_3 = calc_movie_sim_test(trainSet, func)\n",
    "pd.DataFrame(calc_movie_sim_test(trainSet, func))"
   ]
  },
  {
   "cell_type": "code",
   "execution_count": null,
   "metadata": {},
   "outputs": [],
   "source": []
  },
  {
   "cell_type": "code",
   "execution_count": null,
   "metadata": {},
   "outputs": [],
   "source": []
  },
  {
   "cell_type": "code",
   "execution_count": null,
   "metadata": {},
   "outputs": [],
   "source": [
    "import numpy as np\n",
    "import pandas as pd\n",
    "\n",
    "#1.1 欧氏距离\n",
    "def euclidean(x,y):\n",
    "    '''欧式距离'''\n",
    "    xy = x - y\n",
    "    tmp = np.power(xy,2)\n",
    "    tmp = np.sum(tmp)\n",
    "    return np.sqrt(tmp)\n",
    "\n",
    "# 1.2 曼哈顿距离\n",
    "def manhattan(x,y):\n",
    "    '''曼哈顿距离'''\n",
    "    xy = np.abs(x - y)\n",
    "    return np.sum(xy)\n",
    "\n",
    "# 1.3 切比雪夫距离\n",
    "def chebyshev(x,y):\n",
    "    '''切比雪夫距离'''\n",
    "    xy = np.abs(x - y)\n",
    "    return np.max(tmp)\n",
    "\n",
    "# 1.4 闵可夫斯基距离\n",
    "def minkowski(x,y,p):\n",
    "    '''闵可夫斯基距离'''\n",
    "    xy = np.abs(x - y)\n",
    "    tmp = np.power(xy,p)\n",
    "    tmp = np.sum(tmp)\n",
    "    return np.power(tmp, 1/p)\n",
    "\n",
    "# 1.5 标准化欧氏距离\n",
    "def stand_euclidean(x,y,s):\n",
    "    xy = x - y\n",
    "    xys = xy / s\n",
    "    tmp = np.power(xys,2)\n",
    "    tmp = np.sum(tmp)\n",
    "    return np.sqrt(tmp)\n",
    "# 2.1 夹角余弦\n",
    "def cosine(x,y):\n",
    "#     xy = np.sum(np.multiply(x,y))\n",
    "    x = pd.Series(x)\n",
    "    y = pd.Series(y)    \n",
    "    xy = x.astype(float).mul(b.astype(float), fill_value=0)\n",
    "    x = np.linalg.norm(x,2)\n",
    "    y = np.linalg.norm(y,2)\n",
    "    return xy / (x*y)\n",
    "\n",
    "def tanimoto(x,y):\n",
    "    x = pd.Series(x)\n",
    "    y = pd.Series(y)    \n",
    "    xy = x.astype(float).mul(b.astype(float), fill_value=0)\n",
    "    x = np.linalg.norm(x,2)\n",
    "    y = np.linalg.norm(y,2)\n",
    "    return xy / (x + y - xy)\n",
    "# print(\"夹角余弦\",cosine([3,0,2],[0,5,3]))\n",
    "# print(\"Tanimoto系数\",cosine([3,0,2],[0,5,3]))"
   ]
  },
  {
   "cell_type": "code",
   "execution_count": null,
   "metadata": {},
   "outputs": [],
   "source": [
    "# 余弦相似度\n",
    "def cosine(x,y):\n",
    "    x = pd.Series(x)\n",
    "    y = pd.Series(y) \n",
    "    xy = x.astype(float).mul(y.astype(float), fill_value=0)\n",
    "    x = np.linalg.norm(x.values.astype(float),2)\n",
    "    y = np.linalg.norm(y.values.astype(float),2)\n",
    "    return xy.sum() / (x*y)\n",
    "# z = a.astype(float).mul(b.astype(float),fill_value=0)\n",
    "# # z.sum()\n",
    "# cosine(a,b)\n",
    "# x.values.astype(float)\n",
    "\n",
    "# cosine(trainSet.get('1'),trainSet.get('2'))"
   ]
  },
  {
   "cell_type": "code",
   "execution_count": null,
   "metadata": {},
   "outputs": [],
   "source": []
  },
  {
   "cell_type": "code",
   "execution_count": null,
   "metadata": {},
   "outputs": [],
   "source": [
    "func = cosine\n",
    "movie_sim_matrix_3 = calc_movie_sim_test(trainSet, func)\n",
    "pd.DataFrame(movie_sim_matrix_3)"
   ]
  },
  {
   "cell_type": "code",
   "execution_count": null,
   "metadata": {},
   "outputs": [],
   "source": [
    "\n"
   ]
  },
  {
   "cell_type": "code",
   "execution_count": null,
   "metadata": {},
   "outputs": [],
   "source": [
    "rec_matrix_2 = {}\n",
    "for i in name_list:\n",
    "    rec_user = recommend_2(i,20,10,movie_sim_matrix_2)\n",
    "    rec_matrix_2.setdefault(i, rec_user)\n",
    "pd.DataFrame(rec_matrix_2)                                                                                          "
   ]
  },
  {
   "cell_type": "code",
   "execution_count": null,
   "metadata": {},
   "outputs": [],
   "source": [
    "pd.DataFrame(rec_matrix)"
   ]
  },
  {
   "cell_type": "code",
   "execution_count": null,
   "metadata": {
    "tags": []
   },
   "outputs": [],
   "source": []
  },
  {
   "cell_type": "code",
   "execution_count": null,
   "metadata": {},
   "outputs": [],
   "source": [
    "pd.Series(testSet['1'])"
   ]
  },
  {
   "cell_type": "code",
   "execution_count": null,
   "metadata": {},
   "outputs": [],
   "source": [
    "# 产生推荐并通过准确率、召回率和覆盖率进行评估\n",
    "def evaluate(self):\n",
    "    print('Evaluating start ...')\n",
    "    N = self.n_rec_movie\n",
    "    # 准确率和召回率\n",
    "    hit = 0\n",
    "    rec_count = 0\n",
    "    test_count = 0\n",
    "    # 覆盖率\n",
    "    all_rec_movies = set()\n",
    "\n",
    "    for i, user in enumerate(self.trainSet):\n",
    "        test_moives = self.testSet.get(user, {})\n",
    "        rec_movies = self.recommend(user)\n",
    "        for movie, w in rec_movies:\n",
    "            if movie in test_moives:\n",
    "                hit += 1\n",
    "            all_rec_movies.add(movie)\n",
    "        rec_count += N\n",
    "        test_count += len(test_moives)\n",
    "\n",
    "    precision = hit / (1.0 * rec_count)\n",
    "    recall = hit / (1.0 * test_count)\n",
    "    coverage = len(all_rec_movies) / (1.0 * self.movie_count)\n",
    "    print('precisioin=%.4f\\trecall=%.4f\\tcoverage=%.4f' % (\n",
    "        precision, recall, coverage))\n"
   ]
  },
  {
   "cell_type": "code",
   "execution_count": null,
   "metadata": {},
   "outputs": [],
   "source": []
  },
  {
   "cell_type": "code",
   "execution_count": null,
   "metadata": {
    "collapsed": true
   },
   "outputs": [],
   "source": [
    "import numpy as np\n",
    "import pandas as pd\n",
    "import matplotlib.pyplot as plt\n",
    "%matplotlib inline"
   ]
  },
  {
   "cell_type": "code",
   "execution_count": null,
   "metadata": {
    "collapsed": true
   },
   "outputs": [],
   "source": [
    "# scikit_learn?\n",
    "# !python -m pip install --upgrade pip\n",
    "# !pip uninstall sklearn\n",
    "from sklearn.metrics import f1_score"
   ]
  },
  {
   "cell_type": "code",
   "execution_count": null,
   "metadata": {
    "collapsed": true
   },
   "outputs": [],
   "source": [
    "y_true = [0,0,0,0,0,1,0,0,0,0,0,1,1,1,1,0,0,0,0,0,1]\n",
    "y_pred = [0,0,0,0,0,1,1,0,0,0,0,0,1,1,0,0,0,0,0,1,0]"
   ]
  },
  {
   "cell_type": "markdown",
   "metadata": {},
   "source": [
    "# 计算f1_Score"
   ]
  },
  {
   "cell_type": "code",
   "execution_count": null,
   "metadata": {},
   "outputs": [],
   "source": [
    "f1_score(y_true=y_true, y_pred=y_pred)"
   ]
  },
  {
   "cell_type": "code",
   "execution_count": null,
   "metadata": {
    "collapsed": true
   },
   "outputs": [],
   "source": [
    "f1_score?"
   ]
  },
  {
   "cell_type": "code",
   "execution_count": null,
   "metadata": {},
   "outputs": [],
   "source": [
    "x = np.random.randint(0,2,(2,20))\n",
    "\n",
    "f1_score(x[0],x[1])"
   ]
  },
  {
   "cell_type": "code",
   "execution_count": null,
   "metadata": {},
   "outputs": [],
   "source": [
    "from sklearn.metrics import accuracy_score,precision_score, recall_score\n",
    "# 准确率\n",
    "accu = accuracy_score(y_true, y_pred)\n",
    "\n",
    "pre = precision_score(y_true, y_pred)\n",
    "recall = recall_score(y_true, y_pred)\n",
    "f1 = f1_score(y_true, y_pred)\n",
    "\n",
    "print(\"accu = %f, precision = %f, recallrate = %f, f1_score = %f \"%(accu, pre, recall, f1))"
   ]
  }
 ],
 "metadata": {
  "kernelspec": {
   "name": "python362jvsc74a57bd0c68fb794aad12bd82f7abc6229177b707cb4fe0fead52f40f954c06bbfa18d56",
   "display_name": "Python 3.6.2 64-bit ('newpy3': conda)"
  },
  "language_info": {
   "codemirror_mode": {
    "name": "ipython",
    "version": 3
   },
   "file_extension": ".py",
   "mimetype": "text/x-python",
   "name": "python",
   "nbconvert_exporter": "python",
   "pygments_lexer": "ipython3",
   "version": "3.6.2-final"
  }
 },
 "nbformat": 4,
 "nbformat_minor": 2
}