{
 "metadata": {
  "language_info": {
   "codemirror_mode": {
    "name": "ipython",
    "version": 3
   },
   "file_extension": ".py",
   "mimetype": "text/x-python",
   "name": "python",
   "nbconvert_exporter": "python",
   "pygments_lexer": "ipython3",
   "version": "3.7.4"
  },
  "orig_nbformat": 2,
  "kernelspec": {
   "name": "python374jvsc74a57bd073e03da126b73bfff3642ec5261d56fa25c444ea595de51041687efaa60dda41",
   "display_name": "Python 3.7.4 64-bit ('base': conda)"
  }
 },
 "nbformat": 4,
 "nbformat_minor": 2,
 "cells": [
  {
   "cell_type": "code",
   "execution_count": 4,
   "metadata": {},
   "outputs": [],
   "source": [
    "def is_nick_already_exists(username):\n",
    "    result = database.user_detail.find_one({\n",
    "        'username': username\n",
    "    },{\n",
    "        '_id':0,\n",
    "        'username':1,\n",
    "    })\n",
    "    return result"
   ]
  },
  {
   "cell_type": "code",
   "execution_count": 6,
   "metadata": {},
   "outputs": [
    {
     "output_type": "execute_result",
     "data": {
      "text/plain": [
       "{'_id': ObjectId('60b0472d0c95ecbd40d27fa6'),\n",
       " 'userId': 478,\n",
       " 'name': 'braund',\n",
       " 'username': 'Braund',\n",
       " 'pwd': '1234'}"
      ]
     },
     "metadata": {},
     "execution_count": 6
    }
   ],
   "source": [
    "a = database.user_detail.find_one()\n",
    "a"
   ]
  },
  {
   "cell_type": "code",
   "execution_count": 12,
   "metadata": {},
   "outputs": [
    {
     "output_type": "execute_result",
     "data": {
      "text/plain": [
       "{'_id': ObjectId('60b0472d0c95ecbd40d27fa6'),\n",
       " 'userId': 478,\n",
       " 'name': 'braund',\n",
       " 'username': 'Braund',\n",
       " 'pwd': '1222'}"
      ]
     },
     "metadata": {},
     "execution_count": 12
    }
   ],
   "source": [
    "b = {'pwd':'1222'}\n",
    "a.update(b)\n",
    "a"
   ]
  },
  {
   "cell_type": "code",
   "execution_count": null,
   "metadata": {},
   "outputs": [],
   "source": []
  },
  {
   "cell_type": "code",
   "execution_count": 6,
   "metadata": {},
   "outputs": [
    {
     "output_type": "execute_result",
     "data": {
      "text/plain": [
       "{'username': 'Cumings'}"
      ]
     },
     "metadata": {},
     "execution_count": 6
    }
   ],
   "source": [
    "is_nick_already_exists('Cumings')"
   ]
  },
  {
   "cell_type": "code",
   "execution_count": 1,
   "metadata": {},
   "outputs": [],
   "source": [
    "\n"
   ]
  },
  {
   "cell_type": "code",
   "execution_count": 4,
   "metadata": {},
   "outputs": [
    {
     "output_type": "stream",
     "name": "stdout",
     "text": [
      "{'userId': 1, 'name': 'braund', 'username': 'Braund', 'pwd': '1123'}\n"
     ]
    },
    {
     "output_type": "execute_result",
     "data": {
      "text/plain": [
       "True"
      ]
     },
     "metadata": {},
     "execution_count": 4
    }
   ],
   "source": [
    "from Recommend import valid_change_pwd\n",
    "valid_change_pwd({\n",
    "    'username': 'Braund',\n",
    "    'password': '1123'\n",
    "}, {\n",
    "    'password': '1123',\n",
    "    'userId':1\n",
    "})"
   ]
  },
  {
   "cell_type": "code",
   "execution_count": 8,
   "metadata": {},
   "outputs": [
    {
     "output_type": "stream",
     "name": "stdout",
     "text": [
      "{1: [{'movieId': 2115, 'title': 'Indiana Jones and the Temple of Doom (1984)', 'genres': 'Action|Adventure|Fantasy', 'img_url': 'http://127.0.0.1:5000/img/1pylO6YX5XdOA6QCc5IRxrrffkg.jpg', 'imdbId': 'http://www.imdb.com/title/tt87469', 'tmdbId': 'https://www.themoviedb.org/movie/87', 'ratings': 76.45141047797219}, {'movieId': 1196, 'title': 'Star Wars: Episode V - The Empire Strikes Back (1980)', 'genres': 'Action|Adventure|Sci-Fi', 'img_url': 'http://127.0.0.1:5000/img/1pylO6YX5XdOA6QCc5IRxrrffkg.jpg', 'imdbId': 'http://www.imdb.com/title/tt80684', 'tmdbId': 'https://www.themoviedb.org/movie/1891', 'ratings': 53.172590388030244}, {'movieId': 1923, 'title': \"There's Something About Mary (1998)\", 'genres': 'Comedy|Romance', 'img_url': 'http://127.0.0.1:5000/img/1pylO6YX5XdOA6QCc5IRxrrffkg.jpg', 'imdbId': 'http://www.imdb.com/title/tt129387', 'tmdbId': 'https://www.themoviedb.org/movie/544', 'ratings': 36.032801193125835}, {'movieId': 1200, 'title': 'Aliens (1986)', 'genres': 'Action|Adventure|Horror|Sci-Fi', 'img_url': 'http://127.0.0.1:5000/img/1pylO6YX5XdOA6QCc5IRxrrffkg.jpg', 'imdbId': 'http://www.imdb.com/title/tt90605', 'tmdbId': 'https://www.themoviedb.org/movie/679', 'ratings': 35.64895451997378}, {'movieId': 480, 'title': 'Jurassic Park (1993)', 'genres': 'Action|Adventure|Sci-Fi|Thriller', 'img_url': 'http://127.0.0.1:5000/img/1pylO6YX5XdOA6QCc5IRxrrffkg.jpg', 'imdbId': 'http://www.imdb.com/title/tt107290', 'tmdbId': 'https://www.themoviedb.org/movie/329', 'ratings': 34.97835205157789}, {'movieId': 1380, 'title': 'Grease (1978)', 'genres': 'Comedy|Musical|Romance', 'img_url': 'http://127.0.0.1:5000/img/1pylO6YX5XdOA6QCc5IRxrrffkg.jpg', 'imdbId': 'http://www.imdb.com/title/tt77631', 'tmdbId': 'https://www.themoviedb.org/movie/621', 'ratings': 30.092855674772846}, {'movieId': 2028, 'title': 'Saving Private Ryan (1998)', 'genres': 'Action|Drama|War', 'img_url': 'http://127.0.0.1:5000/img/1pylO6YX5XdOA6QCc5IRxrrffkg.jpg', 'imdbId': 'http://www.imdb.com/title/tt120815', 'tmdbId': 'https://www.themoviedb.org/movie/857', 'ratings': 30.014776987975168}, {'movieId': 1036, 'title': 'Die Hard (1988)', 'genres': 'Action|Crime|Thriller', 'imdbId': 'http://www.imdb.com/title/tt95016', 'img_url': 'http://127.0.0.1:5000/img/1pylO6YX5XdOA6QCc5IRxrrffkg.jpg', 'tmdbId': 'https://www.themoviedb.org/movie/562', 'ratings': 29.529508499632268}, {'movieId': 47, 'title': 'Seven (a.k.a. Se7en) (1995)', 'genres': 'Mystery|Thriller', 'imdbId': 'http://www.imdb.com/title/tt114369', 'img_url': 'http://127.0.0.1:5000/img/1pylO6YX5XdOA6QCc5IRxrrffkg.jpg', 'tmdbId': 'https://www.themoviedb.org/movie/807', 'ratings': 29.282623651730994}, {'movieId': 2683, 'title': 'Austin Powers: The Spy Who Shagged Me (1999)', 'genres': 'Action|Adventure|Comedy', 'imdbId': 'http://www.imdb.com/title/tt145660', 'img_url': 'http://127.0.0.1:5000/img/1pylO6YX5XdOA6QCc5IRxrrffkg.jpg', 'tmdbId': 'https://www.themoviedb.org/movie/817', 'ratings': 25.84264861921086}]}\n"
     ]
    }
   ],
   "source": [
    "from Recommend import get_movies, get_movies_cache\n",
    "from db.init_data import database\n",
    "data = database.user_id.find({}, {'_id': 0})\n",
    "j = []\n",
    "for i in data:\n",
    "    j.append(i.get('userId'))\n",
    "\n",
    "users = j\n",
    "for user in users:\n",
    "    if user < 8:\n",
    "        continue\n",
    "    try:\n",
    "        pass\n",
    "        # 推荐 电影\n",
    "        data = get_movies(user)\n",
    "        database.user_rec_cache.insert_one(data).inserted_id\n",
    "    except BaseException:\n",
    "        continue\n",
    "\n",
    "# print(get_movies_cache(4))"
   ]
  },
  {
   "cell_type": "code",
   "execution_count": null,
   "metadata": {},
   "outputs": [],
   "source": []
  }
 ]
}